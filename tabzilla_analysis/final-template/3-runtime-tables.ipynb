{
 "cells": [
  {
   "attachments": {},
   "cell_type": "markdown",
   "metadata": {},
   "source": [
    "# Create runtime tables"
   ]
  },
  {
   "cell_type": "code",
   "execution_count": 6,
   "metadata": {},
   "outputs": [],
   "source": [
    "# read cleaned results\n",
    "import pandas as pd\n",
    "from pathlib import Path\n",
    "\n",
    "fold_df_with_default = pd.read_csv(Path(\"./cleaned_results/tuned_fold_results_with_default.csv\"))\n",
    "\n",
    "# read metafeatures\n",
    "metafeatures_df = pd.read_csv(Path(\"../../TabSurvey/metafeatures.csv\"))\n",
    "\n",
    "# make sure that the output folder exists\n",
    "output_folder = Path(\"./runtime_tables\")\n",
    "output_folder.mkdir(exist_ok=True)    "
   ]
  },
  {
   "cell_type": "code",
   "execution_count": 7,
   "metadata": {},
   "outputs": [
    {
     "name": "stderr",
     "output_type": "stream",
     "text": [
      "/Users/duncan/miniconda3/lib/python3.7/site-packages/ipykernel_launcher.py:2: UserWarning: This pattern has match groups. To actually get the groups, use str.extract.\n",
      "  \n"
     ]
    }
   ],
   "source": [
    "# get the default hparams, and include TabPFN & LinearModel (which only have default params)\n",
    "default_rows = fold_df_with_default.loc[(fold_df_with_default[\"alg_name\"].str.contains(\"(default)\") | fold_df_with_default[\"alg_name\"].str.contains(\"TabPFNModel\") | fold_df_with_default[\"alg_name\"].str.contains(\"LinearModel\")), :]"
   ]
  },
  {
   "cell_type": "code",
   "execution_count": 8,
   "metadata": {},
   "outputs": [],
   "source": [
    "# get the number of instances for each dataset, we will use these later\n",
    "num_instances = metafeatures_df.loc[:, [\"dataset_name\", \"f__pymfe.general.nr_inst\"]]\n",
    "num_instances.columns = [\"dataset_fold_id\", \"num_inst\"]"
   ]
  },
  {
   "cell_type": "code",
   "execution_count": 9,
   "metadata": {},
   "outputs": [],
   "source": [
    "# merge in num instances\n",
    "time_df = default_rows.merge(num_instances, on=\"dataset_fold_id\", how=\"left\")\n",
    "\n",
    "# calculate runtime\n",
    "time_col = \"time__train\"\n",
    "\n",
    "time_per_inst_col = \"train_per_1000_inst\"\n",
    "\n",
    "time_df.loc[:, time_per_inst_col] = 1000. * time_df[time_col] / time_df[\"num_inst\"]\n",
    "\n",
    "# average over all folds\n",
    "time_df_agg = time_df.groupby([\"dataset_name\", \"alg_name\"]).agg({time_per_inst_col: \"mean\"}).reset_index()\n",
    "\n",
    "time_df_agg.loc[:, f\"{time_per_inst_col}_rank\"] = time_df_agg.groupby([\"dataset_name\"])[time_per_inst_col].rank(method=\"min\", ascending=True).values"
   ]
  },
  {
   "attachments": {},
   "cell_type": "markdown",
   "metadata": {},
   "source": [
    "# Calculate average runtime per samples, over all folds\n",
    "\n",
    "- only include algs parameterized with default hparams\n",
    "- also calculate normalized accuracy for comparing runtime with performance"
   ]
  },
  {
   "cell_type": "code",
   "execution_count": 10,
   "metadata": {},
   "outputs": [
    {
     "name": "stdout",
     "output_type": "stream",
     "text": [
      "metric: train-time\n",
      "                        train_per_1000_inst_rank             \\\n",
      "                                             min max   mean   \n",
      "alg_name                                                      \n",
      "KNN (default)                                  1   5   1.61   \n",
      "DecisionTree (default)                         1   6   2.21   \n",
      "LinearModel                                    1   4   2.54   \n",
      "RandomForest (default)                         2   8   5.14   \n",
      "XGBoost (default)                              1  15   5.76   \n",
      "LightGBM (default)                             4  13   6.51   \n",
      "SVM (default)                                  3  17   6.52   \n",
      "CatBoost (default)                             2  18   7.41   \n",
      "MLP-rtdl (default)                             6  16   9.20   \n",
      "ResNet (default)                               5  16  10.23   \n",
      "MLP (default)                                  5  16  10.47   \n",
      "VIME (default)                                 8  16  12.20   \n",
      "STG (default)                                  8  17  12.33   \n",
      "FTTransformer (default)                        9  17  12.69   \n",
      "TabNet (default)                               9  17  14.29   \n",
      "DANet (default)                               12  18  15.83   \n",
      "NODE (default)                                 7  18  16.18   \n",
      "SAINT (default)                               13  18  16.92   \n",
      "\n",
      "                        train_per_1000_inst count  \n",
      "                                       mean        \n",
      "alg_name                                           \n",
      "KNN (default)                          0.04   158  \n",
      "DecisionTree (default)                 0.08   159  \n",
      "LinearModel                            0.05   156  \n",
      "RandomForest (default)                 0.45   158  \n",
      "XGBoost (default)                      1.55   159  \n",
      "LightGBM (default)                     2.18   156  \n",
      "SVM (default)                          3.76   141  \n",
      "CatBoost (default)                    16.31   155  \n",
      "MLP-rtdl (default)                    10.00   159  \n",
      "ResNet (default)                      12.40   158  \n",
      "MLP (default)                         13.28   158  \n",
      "VIME (default)                        18.41   154  \n",
      "STG (default)                         15.38   156  \n",
      "FTTransformer (default)               22.59   143  \n",
      "TabNet (default)                      26.71   154  \n",
      "DANet (default)                       42.08   145  \n",
      "NODE (default)                        62.81   136  \n",
      "SAINT (default)                      119.80   123  \n",
      "\n",
      "\n"
     ]
    }
   ],
   "source": [
    "# create a table of runtime rankings, sorted by avg. rank\n",
    "# also show mean time-per-1000-instances\n",
    "\n",
    "metric = time_per_inst_col\n",
    "\n",
    "# overall_ranks = non_tabpfn_agg_df_no_default.groupby(\"alg_name\").agg(\n",
    "overall_ranks = time_df_agg.groupby(\"alg_name\").agg(\n",
    "    {\n",
    "        f\"{metric}_rank\": [\"min\", \"max\", \"mean\", \"count\"],\n",
    "        f\"{metric}\": \"mean\",\n",
    "        # \"Accuracy_rank\": \"mean\",\n",
    "    }\n",
    ").reset_index().sort_values([(f\"{metric}_rank\", \"mean\")])\n",
    "\n",
    "# format min/max rank columns to be ints, and floats to 2 decimal places\n",
    "\n",
    "overall_ranks.loc[:, \"count\"] = overall_ranks.loc[:, (f\"{metric}_rank\", \"count\")].astype(int)\n",
    "overall_ranks.drop(columns=(f\"{metric}_rank\", \"count\"), inplace=True)\n",
    "\n",
    "overall_ranks.loc[:, (f\"{metric}_rank\", \"min\")] = overall_ranks.loc[:, (f\"{metric}_rank\", \"min\")].astype(int)\n",
    "overall_ranks.loc[:, (f\"{metric}_rank\", \"max\")] = overall_ranks.loc[:, (f\"{metric}_rank\", \"max\")].astype(int)\n",
    "\n",
    "overall_ranks.loc[:, (f\"{metric}_rank\", \"mean\")] = overall_ranks.loc[:, (f\"{metric}_rank\", \"mean\")].round(2)\n",
    "overall_ranks.loc[:, (f\"{metric}\", \"mean\")] = overall_ranks.loc[:,(f\"{metric}\", \"mean\")].round(2)\n",
    "\n",
    "print(f\"metric: train-time\")\n",
    "final_table = overall_ranks.set_index(\"alg_name\")\n",
    "print(final_table)\n",
    "\n",
    "# save to csv\n",
    "final_table.to_csv(output_folder / \"time_per_1000_rank_tables.csv\", index=True)\n",
    "\n",
    "# save to latex\n",
    "final_table.to_latex(output_folder / \"time_per_1000_rank_tables.tex\", index=True, escape=False)\n",
    "\n",
    "\n",
    "print(\"\\n\")"
   ]
  },
  {
   "cell_type": "code",
   "execution_count": null,
   "metadata": {},
   "outputs": [],
   "source": []
  }
 ],
 "metadata": {
  "kernelspec": {
   "display_name": "base",
   "language": "python",
   "name": "python3"
  },
  "language_info": {
   "codemirror_mode": {
    "name": "ipython",
    "version": 3
   },
   "file_extension": ".py",
   "mimetype": "text/x-python",
   "name": "python",
   "nbconvert_exporter": "python",
   "pygments_lexer": "ipython3",
   "version": "3.7.9"
  },
  "orig_nbformat": 4,
  "vscode": {
   "interpreter": {
    "hash": "367a26e3fad5ec8f1d0bebe9545860115b1157dbd92bed67faee9b31d4dbfaa5"
   }
  }
 },
 "nbformat": 4,
 "nbformat_minor": 2
}
