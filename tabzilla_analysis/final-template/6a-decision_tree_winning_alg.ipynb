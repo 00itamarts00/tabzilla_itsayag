{
 "cells": [
  {
   "attachments": {},
   "cell_type": "markdown",
   "metadata": {},
   "source": [
    "# Decision trees to select winning alg from the top ~5 algs\n",
    "\n",
    "Here we ask \"which of these 5 algs performs the best on each dataset? \n",
    "\n",
    "We only consider datasets where these is no tie between these"
   ]
  },
  {
   "cell_type": "code",
   "execution_count": 1,
   "metadata": {},
   "outputs": [],
   "source": [
    "# these are the algs to consider in the decision tree\n",
    "selected_algs = [\n",
    "    \"CatBoost\",\n",
    "    \"XGBoost\",\n",
    "    \"ResNet\",\n",
    "    \"LightGBM\",\n",
    "    \"NODE\",\n",
    "    \"SAINT\",\n",
    "]"
   ]
  },
  {
   "cell_type": "code",
   "execution_count": 2,
   "metadata": {},
   "outputs": [
    {
     "name": "stderr",
     "output_type": "stream",
     "text": [
      "/Users/duncan/research/active_projects/tabzilla/tabzilla_analysis/final-template/analysis_utils.py:112: FutureWarning: Dropping of nuisance columns in DataFrame reductions (with 'numeric_only=None') is deprecated; in a future version this will raise TypeError.  Select only valid columns before calling the reduction.\n",
      "  metafeatures_processed = metafeatures_df.fillna(metafeatures_df.median())\n"
     ]
    }
   ],
   "source": [
    "# get tuned alg results & metafeatures for each split separately\n",
    "\n",
    "import pandas as pd\n",
    "import numpy as np\n",
    "from pathlib import Path\n",
    "\n",
    "from analysis_utils import process_metafeatures\n",
    "\n",
    "# keep sected feature types\n",
    "# None = keep all feature types \n",
    "filter_families = [\n",
    "    'general',\n",
    "    'statistical',\n",
    "    'model-based',\n",
    "    'landmarking',\n",
    "    'info-theory',\n",
    "]\n",
    "#     'relative',\n",
    "#     'clustering',\n",
    "#     'complexity',\n",
    "# ]\n",
    "\n",
    "metadataset_df = pd.read_csv(\"./cleaned_results/tuned_fold_results.csv\")\n",
    "metafeatures_df = pd.read_csv(Path(\"../../TabSurvey/metafeatures.csv\"))\n",
    "\n",
    "processed_metafeatures = process_metafeatures(metafeatures_df, filter_families=filter_families)"
   ]
  },
  {
   "attachments": {},
   "cell_type": "markdown",
   "metadata": {},
   "source": [
    "### Bookkeeping for metafeatures\n",
    "\n",
    "Drop NaNs cols and shorten feature names"
   ]
  },
  {
   "cell_type": "code",
   "execution_count": 3,
   "metadata": {},
   "outputs": [
    {
     "name": "stdout",
     "output_type": "stream",
     "text": [
      "dropping cols with only NA: ['f__pymfe.statistical.iq_range', 'f__pymfe.statistical.t_mean']\n"
     ]
    }
   ],
   "source": [
    "# drop cols that are all NaN\n",
    "\n",
    "na_feats = processed_metafeatures.isna().sum() == len(processed_metafeatures)\n",
    "na_feat_names = list(na_feats[na_feats].index)\n",
    "print(f\"dropping cols with only NA: {na_feat_names}\")\n",
    "processed_metafeatures.drop(columns=na_feat_names, inplace=True)\n",
    "\n",
    "# replace inf with something else\n",
    "processed_metafeatures.replace([np.inf, -np.inf], 0.0, inplace=True)\n",
    "\n",
    "all_feature_cols = [c for c in processed_metafeatures.columns if c.startswith(\"f__\")]\n",
    "\n",
    "def simplify(x):\n",
    "    return x.replace(\"statistical\", \"stat\").replace(\"model-based\", \"model\").replace(\"landmarking\", \"landmark\").replace(\"skewness\", \"skew\")\n",
    "\n",
    "nice_feature_names = [simplify(f[len(\"f__pymfe.\"):]) for f in all_feature_cols]"
   ]
  },
  {
   "attachments": {},
   "cell_type": "markdown",
   "metadata": {},
   "source": [
    "## Take only selected algs\n",
    "\n",
    "Determine which of the selected algs wins for each dataset. Drop any dataset with ties."
   ]
  },
  {
   "cell_type": "code",
   "execution_count": 4,
   "metadata": {},
   "outputs": [],
   "source": [
    "select_df = metadataset_df.loc[metadataset_df[\"alg_name\"].isin(selected_algs), :]"
   ]
  },
  {
   "cell_type": "code",
   "execution_count": 5,
   "metadata": {},
   "outputs": [],
   "source": [
    "metric_rank = \"Log Loss_rank\"\n",
    "metric = \"normalized_Log Loss__test\"\n",
    "\n",
    "# get a df with all metrics for each alg\n",
    "alg_metrics = select_df.pivot(index=\"dataset_fold_id\", columns=\"alg_name\", values=metric).reset_index()\n",
    "\n",
    "alg_rank = select_df.groupby([\"dataset_fold_id\", \"alg_name\"])[metric_rank].min().unstack(level=-1)\n",
    "best_rank = select_df.groupby(\"dataset_fold_id\")[metric_rank].min().rename(\"best_rank\").reset_index()\n",
    "\n",
    "# get best (min) metric\n",
    "best_metric = select_df.groupby(\"dataset_fold_id\")[metric].min().rename(\"best_metric\").reset_index()\n",
    "\n",
    "rank_df = alg_rank.merge(best_rank, on=\"dataset_fold_id\", how=\"inner\") \\\n",
    "    .merge(best_metric, on=\"dataset_fold_id\", how=\"inner\")\n",
    "\n",
    "# merge in the performance of each selected alg\n",
    "rank_df = rank_df.merge(alg_metrics, on=\"dataset_fold_id\", how=\"inner\", suffixes=(\"\", f\" {metric}\"))\n",
    "\n",
    "assert len(alg_rank) == len(best_rank)\n",
    "assert len(rank_df) == len(best_rank)\n",
    "\n",
    "for alg_name in selected_algs:\n",
    "    rank_df.loc[:, f\"{alg_name}_wins\"] = rank_df[alg_name] == rank_df[\"best_rank\"]\n",
    "\n",
    "rank_df.loc[:, \"multiple_wins\"] = rank_df.apply(lambda x: sum(x[a + \"_wins\"] for a in selected_algs) > 1, axis=1)"
   ]
  },
  {
   "cell_type": "code",
   "execution_count": 6,
   "metadata": {},
   "outputs": [
    {
     "data": {
      "text/plain": [
       "0.0"
      ]
     },
     "execution_count": 6,
     "metadata": {},
     "output_type": "execute_result"
    }
   ],
   "source": [
    "# how many ties? \n",
    "rank_df[\"multiple_wins\"].sum() / len(rank_df)"
   ]
  },
  {
   "attachments": {},
   "cell_type": "markdown",
   "metadata": {},
   "source": [
    "### Create the outcome label (which alg wins?)"
   ]
  },
  {
   "cell_type": "code",
   "execution_count": 7,
   "metadata": {},
   "outputs": [
    {
     "name": "stdout",
     "output_type": "stream",
     "text": [
      "XGBoost     359\n",
      "CatBoost    332\n",
      "LightGBM    291\n",
      "SAINT       289\n",
      "ResNet      285\n",
      "NODE         34\n",
      "Name: which_alg_wins, dtype: int64\n"
     ]
    }
   ],
   "source": [
    "rank_df.loc[:, \"which_alg_wins\"] = \"NA\"\n",
    "rank_df.loc[rank_df[\"multiple_wins\"], \"which_alg_wins\"] = \"multiple\"\n",
    "for a in selected_algs:\n",
    "    only_a_wins = (rank_df[a + \"_wins\"].astype(int) - rank_df[\"multiple_wins\"].astype(int)) == 1\n",
    "    rank_df.loc[only_a_wins, \"which_alg_wins\"] = a\n",
    "\n",
    "print(rank_df[\"which_alg_wins\"].value_counts())"
   ]
  },
  {
   "attachments": {},
   "cell_type": "markdown",
   "metadata": {},
   "source": [
    "## merge performance dataset with metafeatures"
   ]
  },
  {
   "cell_type": "code",
   "execution_count": 8,
   "metadata": {},
   "outputs": [],
   "source": [
    "# merge dataset features\n",
    "df = rank_df.merge(processed_metafeatures, left_on=\"dataset_fold_id\", right_on=\"dataset_name\", how=\"left\")"
   ]
  },
  {
   "attachments": {},
   "cell_type": "markdown",
   "metadata": {},
   "source": [
    "# Predict outcome: Which of the selected algs performs best?"
   ]
  },
  {
   "cell_type": "code",
   "execution_count": 9,
   "metadata": {},
   "outputs": [],
   "source": [
    "from sklearn import preprocessing\n",
    "label_encoder = preprocessing.LabelEncoder()\n",
    "\n",
    "y_label = df[\"which_alg_wins\"]\n",
    "y = label_encoder.fit_transform(y_label)\n",
    "\n",
    "# only keep some features\n",
    "keep_features = [c for c in all_feature_cols if \"hist\" not in c]\n",
    "x = df[keep_features].values.clip(-1e10, 1e10)"
   ]
  },
  {
   "attachments": {},
   "cell_type": "markdown",
   "metadata": {},
   "source": [
    "## Leave-one-dataset-familiy-out validation of simple classifiers"
   ]
  },
  {
   "attachments": {},
   "cell_type": "markdown",
   "metadata": {},
   "source": [
    "### Define dataset families"
   ]
  },
  {
   "cell_type": "code",
   "execution_count": 10,
   "metadata": {},
   "outputs": [
    {
     "name": "stdout",
     "output_type": "stream",
     "text": [
      "number of dataset families: 159\n"
     ]
    }
   ],
   "source": [
    "# define dataset family\n",
    "df.loc[:, \"dataset_family\"] = df[\"dataset_name\"].apply(lambda x: x[:-len(\"__fold_x\")])\n",
    "\n",
    "# create a train/val split based on dataset family.\n",
    "dataset_families = list(df['dataset_family'].unique())\n",
    "print(f\"number of dataset families: {len(dataset_families)}\")"
   ]
  },
  {
   "attachments": {},
   "cell_type": "markdown",
   "metadata": {},
   "source": [
    "### Define classifiers"
   ]
  },
  {
   "cell_type": "code",
   "execution_count": 11,
   "metadata": {},
   "outputs": [
    {
     "name": "stderr",
     "output_type": "stream",
     "text": [
      "/Users/duncan/miniconda3/envs/sklearn/lib/python3.10/site-packages/xgboost/compat.py:36: FutureWarning: pandas.Int64Index is deprecated and will be removed from pandas in a future version. Use pandas.Index with the appropriate dtype instead.\n",
      "  from pandas import MultiIndex, Int64Index\n"
     ]
    }
   ],
   "source": [
    "# define functions to create base classifiers\n",
    "from xgboost import XGBClassifier\n",
    "from sklearn.tree import DecisionTreeClassifier\n",
    "\n",
    "def get_xgb_clf():\n",
    "    return XGBClassifier(n_estimators=100, use_label_encoder=False, eval_metric=\"logloss\")\n",
    "\n",
    "def get_tree_clf():\n",
    "    return DecisionTreeClassifier(max_depth=3, min_samples_leaf=10)"
   ]
  },
  {
   "attachments": {},
   "cell_type": "markdown",
   "metadata": {},
   "source": [
    "### Loop over each dataset family"
   ]
  },
  {
   "cell_type": "code",
   "execution_count": 12,
   "metadata": {},
   "outputs": [
    {
     "name": "stdout",
     "output_type": "stream",
     "text": [
      "fold 1 of 159\n",
      "fold 11 of 159\n",
      "fold 21 of 159\n",
      "fold 31 of 159\n",
      "fold 41 of 159\n",
      "fold 51 of 159\n",
      "fold 61 of 159\n",
      "fold 71 of 159\n",
      "fold 81 of 159\n",
      "fold 91 of 159\n",
      "fold 101 of 159\n",
      "fold 111 of 159\n",
      "fold 121 of 159\n",
      "fold 131 of 159\n",
      "fold 141 of 159\n",
      "fold 151 of 159\n"
     ]
    }
   ],
   "source": [
    "from sklearn import metrics\n",
    "\n",
    "# save the trained model & results from each split\n",
    "model_dict = {\n",
    "    \"xgb\": [],\n",
    "    \"tree\": [],\n",
    "}\n",
    "\n",
    "# save the predictions in vectors with same length of dataframe\n",
    "xgb_predicted_labels = np.full((len(df), ), None)\n",
    "tree_predicted_labels = np.full((len(df), ), None)\n",
    "\n",
    "xgb_predict_proba = np.full((len(df), len(label_encoder.classes_)), None)\n",
    "tree_predict_proba = np.full((len(df), len(label_encoder.classes_)), None)\n",
    "\n",
    "for i, val_family in enumerate(dataset_families):\n",
    "\n",
    "    if i % 10 == 0:\n",
    "        print(f\"fold {i+1} of {len(dataset_families)}\")\n",
    "\n",
    "    val_inds = df[\"dataset_family\"] == val_family\n",
    "    train_inds = ~val_inds\n",
    "\n",
    "    # get x and y for the meta-learner\n",
    "    x_train = x[train_inds, :]\n",
    "    x_val = x[val_inds, :]\n",
    "\n",
    "    y_train = y[train_inds]\n",
    "    y_val = y[val_inds]\n",
    "\n",
    "    # get the log loss for the ground truth (best) alg\n",
    "    best_performance_val = df[\"best_metric\"].values[val_inds]\n",
    "    catboost_performance_val = df[f\"CatBoost {metric}\"].values[val_inds]\n",
    "\n",
    "    #####################\n",
    "    # fit the meta-models\n",
    "\n",
    "    xgb_clf = get_xgb_clf().fit(x_train, y_train)\n",
    "    tree_clf = get_tree_clf().fit(x_train, y_train)\n",
    "\n",
    "    model_dict[\"xgb\"].append(xgb_clf)\n",
    "    model_dict[\"tree\"].append(tree_clf)\n",
    "\n",
    "    ####################\n",
    "    # assess meta-models \n",
    "\n",
    "    # save predictions\n",
    "    xgb_predicted_labels[val_inds] = xgb_clf.predict(x_val)\n",
    "    tree_predicted_labels[val_inds] = tree_clf.predict(x_val)\n",
    "\n",
    "    xgb_predict_proba[val_inds, :] = xgb_clf.predict_proba(x_val)\n",
    "    tree_predict_proba[val_inds, :] = tree_clf.predict_proba(x_val)\n"
   ]
  },
  {
   "attachments": {},
   "cell_type": "markdown",
   "metadata": {},
   "source": [
    "### TBD: Evaluate the model"
   ]
  },
  {
   "cell_type": "code",
   "execution_count": 13,
   "metadata": {},
   "outputs": [],
   "source": [
    "# TBD\n",
    "# - meta-learner accuracy\n",
    "# - comparing selected learner to Best Model, and CatBoost"
   ]
  },
  {
   "attachments": {},
   "cell_type": "markdown",
   "metadata": {},
   "source": [
    "# TBD: Fit model to entire dataset and create tree visual"
   ]
  },
  {
   "cell_type": "code",
   "execution_count": 23,
   "metadata": {},
   "outputs": [],
   "source": [
    "PLOT_LABELS = [info[\"category\"] for info in keep_algs.values()]\n",
    "COLORS = [info[\"color\"] for info in keep_algs.values()]\n",
    "def plot_bar(data_dict, ax):\n",
    "\n",
    "    # fig, ax = plt.subplots(figsize=(2.5, 2))\n",
    "    data = []\n",
    "    for l in PLOT_LABELS:\n",
    "        if l in data_dict:\n",
    "            data.append(data_dict[l])\n",
    "        else:\n",
    "            data.append(0)\n",
    "    y_pos = np.arange(len(data))\n",
    "\n",
    "    # only color the winning alg\n",
    "    lose_color = \"lightgray\"\n",
    "    plot_colors = [lose_color for _ in data]\n",
    "    winning_idx = np.argmax(data)\n",
    "    plot_colors[winning_idx] = COLORS[winning_idx]\n",
    "\n",
    "    hbars = ax.barh(y_pos, data, color=plot_colors)\n",
    "\n",
    "    ax.set_title(PLOT_LABELS[winning_idx], color=COLORS[winning_idx], fontweight=\"bold\")\n",
    "\n",
    "    barlabels = ax.bar_label(hbars, fmt='%d', label_type=\"edge\")\n",
    "\n",
    "    for i, d in enumerate(data):\n",
    "        if d == max(data):\n",
    "            barlabels[i].set_font_properties({'weight': \"bold\"})\n",
    "        if d < 5:\n",
    "            ax.text(x=9, \n",
    "                    y=y_pos[i] - 0.1, \n",
    "                    s=f\"{d:3d}\",\n",
    "                    horizontalalignment='right',\n",
    "                    )\n",
    "        # if d > 500:\n",
    "            # barlabels[i].set_label_type({'size': 30})\n",
    "\n",
    "    # # access Daniel's label and change properties\n",
    "    # barlabels[-1].set_font_properties({'size': 30})\n",
    "    # barlabels[-1].set_color('#E34234')\n",
    "\n",
    "    # ax.set_xlim(right=15)\n",
    "    ax.set_yticks(y_pos, labels=PLOT_LABELS)\n",
    "\n",
    "    # plt.show()"
   ]
  },
  {
   "cell_type": "code",
   "execution_count": 24,
   "metadata": {},
   "outputs": [
    {
     "name": "stdout",
     "output_type": "stream",
     "text": [
      "leaf: 3\n",
      "leaf: 4\n",
      "leaf: 6\n",
      "leaf: 7\n",
      "leaf: 10\n",
      "leaf: 11\n",
      "leaf: 13\n",
      "leaf: 14\n"
     ]
    },
    {
     "data": {
      "image/png": "[encoded data removed]",
      "text/plain": [
       "<Figure size 1008x108 with 8 Axes>"
      ]
     },
     "metadata": {
      "needs_background": "light"
     },
     "output_type": "display_data"
    }
   ],
   "source": [
    "# for each leaf node, plot a pie chart \n",
    "\n",
    "predicted_leaves = clf_display.apply(x)\n",
    "all_leaves = list(set(predicted_leaves))\n",
    "fig, ax = plt.subplots(nrows=1, ncols=len(all_leaves), figsize=(14, 1.5), sharey=True, sharex=True)\n",
    "\n",
    "for i, leaf in enumerate(all_leaves):\n",
    "    print(f\"leaf: {leaf}\")\n",
    "\n",
    "    leaf_idx = predicted_leaves == leaf\n",
    "\n",
    "    # get count of  each true label\n",
    "    labels = y[leaf_idx]\n",
    "\n",
    "    counts_dict = pd.value_counts(labels).to_dict()\n",
    "\n",
    "    plot_bar(counts_dict, ax[i])\n",
    "    ax[i].set_xscale(\"log\")\n",
    "\n",
    "ax[0].set_xlim(5, 1.5e3)\n",
    "    # print()\n",
    "\n",
    "# plt.tight_layout()\n",
    "plt.subplots_adjust(wspace=0.1)\n",
    "# plt.show()\n",
    "# plt.savefig(\"tree_leaves.png\", bbox_inches=\"tight\", dpi=800)\n",
    "plt.savefig(\"tree_leaves.pdf\", bbox_inches=\"tight\")"
   ]
  },
  {
   "attachments": {},
   "cell_type": "markdown",
   "metadata": {},
   "source": [
    "# TODO: make image training on full metadataset, and evaluate on leave-one-out \n",
    "# TODO: report performance of selected alg, compared with XGB or CatBoost"
   ]
  }
 ],
 "metadata": {
  "kernelspec": {
   "display_name": "base",
   "language": "python",
   "name": "python3"
  },
  "language_info": {
   "codemirror_mode": {
    "name": "ipython",
    "version": 3
   },
   "file_extension": ".py",
   "mimetype": "text/x-python",
   "name": "python",
   "nbconvert_exporter": "python",
   "pygments_lexer": "ipython3",
   "version": "3.10.5"
  },
  "orig_nbformat": 4,
  "vscode": {
   "interpreter": {
    "hash": "367a26e3fad5ec8f1d0bebe9545860115b1157dbd92bed67faee9b31d4dbfaa5"
   }
  }
 },
 "nbformat": 4,
 "nbformat_minor": 2
}
