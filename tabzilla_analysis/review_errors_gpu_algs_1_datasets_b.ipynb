{
 "cells": [
  {
   "cell_type": "markdown",
   "metadata": {},
   "source": [
    "# Review errors in the results files `metadataset_errors*.csv`"
   ]
  },
  {
   "cell_type": "code",
   "execution_count": 1,
   "metadata": {},
   "outputs": [],
   "source": [
    "import pandas as pd\n",
    "\n",
    "errors_df = pd.read_csv(\"/home/shared/tabzilla/TabSurvey/metadataset_errors.csv\")"
   ]
  },
  {
   "cell_type": "code",
   "execution_count": 6,
   "metadata": {},
   "outputs": [
    {
     "data": {
      "text/html": [
       "<div>\n",
       "<style scoped>\n",
       "    .dataframe tbody tr th:only-of-type {\n",
       "        vertical-align: middle;\n",
       "    }\n",
       "\n",
       "    .dataframe tbody tr th {\n",
       "        vertical-align: top;\n",
       "    }\n",
       "\n",
       "    .dataframe thead th {\n",
       "        text-align: right;\n",
       "    }\n",
       "</style>\n",
       "<table border=\"1\" class=\"dataframe\">\n",
       "  <thead>\n",
       "    <tr style=\"text-align: right;\">\n",
       "      <th></th>\n",
       "      <th>results_bucket_path</th>\n",
       "      <th>dataset_name</th>\n",
       "      <th>alg_name</th>\n",
       "      <th>hparam_source</th>\n",
       "      <th>trial_number</th>\n",
       "      <th>alg_hparam_id</th>\n",
       "      <th>exp_name</th>\n",
       "      <th>exception</th>\n",
       "    </tr>\n",
       "  </thead>\n",
       "  <tbody>\n",
       "    <tr>\n",
       "      <th>38</th>\n",
       "      <td>results/openml__Census-Income__168340/TabNet/a...</td>\n",
       "      <td>openml__Census-Income__168340</td>\n",
       "      <td>TabNet</td>\n",
       "      <td>default</td>\n",
       "      <td>0</td>\n",
       "      <td>TabNet__seed_0__trial_0</td>\n",
       "      <td>algs-gpu-1-datasets-b-v3_111922_234613_629c.zip</td>\n",
       "      <td>Traceback (most recent call last):\\n  File \"/h...</td>\n",
       "    </tr>\n",
       "    <tr>\n",
       "      <th>40</th>\n",
       "      <td>results/openml__Census-Income__168340/TabNet/a...</td>\n",
       "      <td>openml__Census-Income__168340</td>\n",
       "      <td>TabNet</td>\n",
       "      <td>random_1_s0</td>\n",
       "      <td>1</td>\n",
       "      <td>TabNet__seed_0__trial_1</td>\n",
       "      <td>algs-gpu-1-datasets-b-v3_111922_234613_629c.zip</td>\n",
       "      <td>Traceback (most recent call last):\\n  File \"/h...</td>\n",
       "    </tr>\n",
       "    <tr>\n",
       "      <th>42</th>\n",
       "      <td>results/openml__Census-Income__168340/TabNet/a...</td>\n",
       "      <td>openml__Census-Income__168340</td>\n",
       "      <td>TabNet</td>\n",
       "      <td>random_2_s0</td>\n",
       "      <td>2</td>\n",
       "      <td>TabNet__seed_0__trial_2</td>\n",
       "      <td>algs-gpu-1-datasets-b-v3_111922_234613_629c.zip</td>\n",
       "      <td>Traceback (most recent call last):\\n  File \"/h...</td>\n",
       "    </tr>\n",
       "    <tr>\n",
       "      <th>44</th>\n",
       "      <td>results/openml__Census-Income__168340/TabNet/a...</td>\n",
       "      <td>openml__Census-Income__168340</td>\n",
       "      <td>TabNet</td>\n",
       "      <td>random_3_s0</td>\n",
       "      <td>3</td>\n",
       "      <td>TabNet__seed_0__trial_3</td>\n",
       "      <td>algs-gpu-1-datasets-b-v3_111922_234613_629c.zip</td>\n",
       "      <td>Traceback (most recent call last):\\n  File \"/h...</td>\n",
       "    </tr>\n",
       "    <tr>\n",
       "      <th>46</th>\n",
       "      <td>results/openml__Census-Income__168340/TabNet/a...</td>\n",
       "      <td>openml__Census-Income__168340</td>\n",
       "      <td>TabNet</td>\n",
       "      <td>random_4_s0</td>\n",
       "      <td>4</td>\n",
       "      <td>TabNet__seed_0__trial_4</td>\n",
       "      <td>algs-gpu-1-datasets-b-v3_111922_234613_629c.zip</td>\n",
       "      <td>Traceback (most recent call last):\\n  File \"/h...</td>\n",
       "    </tr>\n",
       "  </tbody>\n",
       "</table>\n",
       "</div>"
      ],
      "text/plain": [
       "                                  results_bucket_path  \\\n",
       "38  results/openml__Census-Income__168340/TabNet/a...   \n",
       "40  results/openml__Census-Income__168340/TabNet/a...   \n",
       "42  results/openml__Census-Income__168340/TabNet/a...   \n",
       "44  results/openml__Census-Income__168340/TabNet/a...   \n",
       "46  results/openml__Census-Income__168340/TabNet/a...   \n",
       "\n",
       "                     dataset_name alg_name hparam_source  trial_number  \\\n",
       "38  openml__Census-Income__168340   TabNet       default             0   \n",
       "40  openml__Census-Income__168340   TabNet   random_1_s0             1   \n",
       "42  openml__Census-Income__168340   TabNet   random_2_s0             2   \n",
       "44  openml__Census-Income__168340   TabNet   random_3_s0             3   \n",
       "46  openml__Census-Income__168340   TabNet   random_4_s0             4   \n",
       "\n",
       "              alg_hparam_id                                         exp_name  \\\n",
       "38  TabNet__seed_0__trial_0  algs-gpu-1-datasets-b-v3_111922_234613_629c.zip   \n",
       "40  TabNet__seed_0__trial_1  algs-gpu-1-datasets-b-v3_111922_234613_629c.zip   \n",
       "42  TabNet__seed_0__trial_2  algs-gpu-1-datasets-b-v3_111922_234613_629c.zip   \n",
       "44  TabNet__seed_0__trial_3  algs-gpu-1-datasets-b-v3_111922_234613_629c.zip   \n",
       "46  TabNet__seed_0__trial_4  algs-gpu-1-datasets-b-v3_111922_234613_629c.zip   \n",
       "\n",
       "                                            exception  \n",
       "38  Traceback (most recent call last):\\n  File \"/h...  \n",
       "40  Traceback (most recent call last):\\n  File \"/h...  \n",
       "42  Traceback (most recent call last):\\n  File \"/h...  \n",
       "44  Traceback (most recent call last):\\n  File \"/h...  \n",
       "46  Traceback (most recent call last):\\n  File \"/h...  "
      ]
     },
     "execution_count": 6,
     "metadata": {},
     "output_type": "execute_result"
    }
   ],
   "source": [
    "# filter by experiment\n",
    "errors_df = errors_df.loc[errors_df[\"exp_name\"].str.contains(\"algs-gpu-1-datasets-b-v3\")]\n",
    "\n",
    "errors_df.head()"
   ]
  },
  {
   "cell_type": "code",
   "execution_count": 7,
   "metadata": {},
   "outputs": [
    {
     "name": "stdout",
     "output_type": "stream",
     "text": [
      "errors by dataset:\n",
      " openml__solar-flare__2068                 30\n",
      "openml__Census-Income__168340             10\n",
      "openml__walking-activity__9945             9\n",
      "openml__ldpa__9974                         6\n",
      "openml__poker-hand__9890                   6\n",
      "openml__aloi__12732                        5\n",
      "openml__chess__3952                        2\n",
      "openml__kropt__2076                        2\n",
      "openml__Click_prediction_small__190408     1\n",
      "Name: dataset_name, dtype: int64\n"
     ]
    }
   ],
   "source": [
    "# how many errors by dataset?\n",
    "print(f\"errors by dataset:\\n {errors_df['dataset_name'].value_counts()}\")"
   ]
  },
  {
   "cell_type": "code",
   "execution_count": 10,
   "metadata": {},
   "outputs": [
    {
     "name": "stdout",
     "output_type": "stream",
     "text": [
      "errors by alg:\n",
      " CatBoost    30\n",
      "TabNet      21\n",
      "VIME        20\n",
      "Name: alg_name, dtype: int64\n"
     ]
    }
   ],
   "source": [
    "# by alg...\n",
    "print(f\"errors by alg:\\n {errors_df['alg_name'].value_counts()}\")"
   ]
  },
  {
   "cell_type": "markdown",
   "metadata": {},
   "source": [
    "# Triage errors by alg"
   ]
  },
  {
   "cell_type": "code",
   "execution_count": 11,
   "metadata": {},
   "outputs": [],
   "source": [
    "errors_by_alg = {}\n",
    "for alg_name in errors_df[\"alg_name\"].unique():\n",
    "    errors_by_alg[alg_name] = errors_df.loc[errors_df[\"alg_name\"] == alg_name, \"exception\"].values"
   ]
  },
  {
   "cell_type": "markdown",
   "metadata": {},
   "source": [
    "## CatBoost"
   ]
  },
  {
   "cell_type": "code",
   "execution_count": 12,
   "metadata": {},
   "outputs": [
    {
     "name": "stdout",
     "output_type": "stream",
     "text": [
      "number of errors for alg CatBoost: 30\n",
      "number of unique errors: 1\n"
     ]
    }
   ],
   "source": [
    "alg_name = \"CatBoost\"\n",
    "\n",
    "print(f\"number of errors for alg {alg_name}: {len(errors_by_alg[alg_name])}\")\n",
    "print(f\"number of unique errors: {len(set(errors_by_alg[alg_name]))}\")\n"
   ]
  },
  {
   "cell_type": "code",
   "execution_count": 13,
   "metadata": {},
   "outputs": [
    {
     "name": "stdout",
     "output_type": "stream",
     "text": [
      "Traceback (most recent call last):\n",
      "  File \"/home/shared/tabzilla/TabSurvey/tabzilla_experiment.py\", line 137, in __call__\n",
      "    result = cross_validation(model, self.dataset, self.time_limit)\n",
      "  File \"/home/shared/tabzilla/TabSurvey/tabzilla_utils.py\", line 236, in cross_validation\n",
      "    loss_history, val_loss_history = curr_model.fit(\n",
      "  File \"/home/shared/tabzilla/TabSurvey/models/tree_models.py\", line 151, in fit\n",
      "    self.model.fit(X, y, eval_set=(X_val, y_val))\n",
      "  File \"/opt/conda/envs/gbdt/lib/python3.9/site-packages/catboost/core.py\", line 4716, in fit\n",
      "    self._fit(X, y, cat_features, text_features, embedding_features, None, sample_weight, None, None, None, None, baseline, use_best_model,\n",
      "  File \"/opt/conda/envs/gbdt/lib/python3.9/site-packages/catboost/core.py\", line 2021, in _fit\n",
      "    train_params = self._prepare_train_params(\n",
      "  File \"/opt/conda/envs/gbdt/lib/python3.9/site-packages/catboost/core.py\", line 1953, in _prepare_train_params\n",
      "    _check_train_params(params)\n",
      "  File \"_catboost.pyx\", line 5839, in _catboost._check_train_params\n",
      "  File \"_catboost.pyx\", line 5858, in _catboost._check_train_params\n",
      "_catboost.CatBoostError: catboost/private/libs/options/catboost_options.cpp:587: classes_count parameter takes effect only with MultiClass/MultiClassOneVsAll and user-defined loss functions\n",
      "\n"
     ]
    }
   ],
   "source": [
    "# what are the unique errors?\n",
    "print(errors_by_alg[alg_name][0])"
   ]
  },
  {
   "cell_type": "markdown",
   "metadata": {},
   "source": [
    "## VIME"
   ]
  },
  {
   "cell_type": "code",
   "execution_count": 14,
   "metadata": {},
   "outputs": [
    {
     "name": "stdout",
     "output_type": "stream",
     "text": [
      "number of errors for alg VIME: 20\n",
      "number of unique errors: 8\n"
     ]
    }
   ],
   "source": [
    "alg_name = \"VIME\"\n",
    "\n",
    "print(f\"number of errors for alg {alg_name}: {len(errors_by_alg[alg_name])}\")\n",
    "print(f\"number of unique errors: {len(set(errors_by_alg[alg_name]))}\")\n"
   ]
  },
  {
   "cell_type": "code",
   "execution_count": 15,
   "metadata": {},
   "outputs": [],
   "source": [
    "# what are the unique errors?\n",
    "unique_errors = list(set(errors_by_alg[alg_name]))"
   ]
  },
  {
   "cell_type": "code",
   "execution_count": 16,
   "metadata": {},
   "outputs": [
    {
     "name": "stdout",
     "output_type": "stream",
     "text": [
      "error 0:\n",
      "Traceback (most recent call last):\n",
      "  File \"/home/shared/tabzilla/TabSurvey/tabzilla_experiment.py\", line 137, in __call__\n",
      "    result = cross_validation(model, self.dataset, self.time_limit)\n",
      "  File \"/home/shared/tabzilla/TabSurvey/tabzilla_utils.py\", line 210, in cross_validation\n",
      "    raise TimeoutException(f\"time limit of {time_limit}s reached during fold {i}\")\n",
      "tabzilla_utils.TimeoutException: time limit of 7200s reached during fold 7\n",
      "\n",
      "\n",
      "error 1:\n",
      "Traceback (most recent call last):\n",
      "  File \"/home/shared/tabzilla/TabSurvey/tabzilla_experiment.py\", line 137, in __call__\n",
      "    result = cross_validation(model, self.dataset, self.time_limit)\n",
      "  File \"/home/shared/tabzilla/TabSurvey/tabzilla_utils.py\", line 210, in cross_validation\n",
      "    raise TimeoutException(f\"time limit of {time_limit}s reached during fold {i}\")\n",
      "tabzilla_utils.TimeoutException: time limit of 7200s reached during fold 6\n",
      "\n",
      "\n",
      "error 2:\n",
      "Traceback (most recent call last):\n",
      "  File \"/home/shared/tabzilla/TabSurvey/tabzilla_experiment.py\", line 137, in __call__\n",
      "    result = cross_validation(model, self.dataset, self.time_limit)\n",
      "  File \"/home/shared/tabzilla/TabSurvey/tabzilla_utils.py\", line 210, in cross_validation\n",
      "    raise TimeoutException(f\"time limit of {time_limit}s reached during fold {i}\")\n",
      "tabzilla_utils.TimeoutException: time limit of 7200s reached during fold 9\n",
      "\n",
      "\n",
      "error 3:\n",
      "Traceback (most recent call last):\n",
      "  File \"/home/shared/tabzilla/TabSurvey/tabzilla_experiment.py\", line 137, in __call__\n",
      "    result = cross_validation(model, self.dataset, self.time_limit)\n",
      "  File \"/home/shared/tabzilla/TabSurvey/tabzilla_utils.py\", line 210, in cross_validation\n",
      "    raise TimeoutException(f\"time limit of {time_limit}s reached during fold {i}\")\n",
      "tabzilla_utils.TimeoutException: time limit of 7200s reached during fold 8\n",
      "\n",
      "\n",
      "error 4:\n",
      "Traceback (most recent call last):\n",
      "  File \"/home/shared/tabzilla/TabSurvey/tabzilla_experiment.py\", line 137, in __call__\n",
      "    result = cross_validation(model, self.dataset, self.time_limit)\n",
      "  File \"/home/shared/tabzilla/TabSurvey/tabzilla_utils.py\", line 210, in cross_validation\n",
      "    raise TimeoutException(f\"time limit of {time_limit}s reached during fold {i}\")\n",
      "tabzilla_utils.TimeoutException: time limit of 7200s reached during fold 4\n",
      "\n",
      "\n",
      "error 5:\n",
      "Traceback (most recent call last):\n",
      "  File \"/home/shared/tabzilla/TabSurvey/tabzilla_experiment.py\", line 137, in __call__\n",
      "    result = cross_validation(model, self.dataset, self.time_limit)\n",
      "  File \"/home/shared/tabzilla/TabSurvey/tabzilla_utils.py\", line 210, in cross_validation\n",
      "    raise TimeoutException(f\"time limit of {time_limit}s reached during fold {i}\")\n",
      "tabzilla_utils.TimeoutException: time limit of 7200s reached during fold 1\n",
      "\n",
      "\n",
      "error 6:\n",
      "Traceback (most recent call last):\n",
      "  File \"/home/shared/tabzilla/TabSurvey/tabzilla_experiment.py\", line 137, in __call__\n",
      "    result = cross_validation(model, self.dataset, self.time_limit)\n",
      "  File \"/home/shared/tabzilla/TabSurvey/tabzilla_utils.py\", line 210, in cross_validation\n",
      "    raise TimeoutException(f\"time limit of {time_limit}s reached during fold {i}\")\n",
      "tabzilla_utils.TimeoutException: time limit of 7200s reached during fold 5\n",
      "\n",
      "\n",
      "error 7:\n",
      "Traceback (most recent call last):\n",
      "  File \"/home/shared/tabzilla/TabSurvey/tabzilla_experiment.py\", line 137, in __call__\n",
      "    result = cross_validation(model, self.dataset, self.time_limit)\n",
      "  File \"/home/shared/tabzilla/TabSurvey/tabzilla_utils.py\", line 210, in cross_validation\n",
      "    raise TimeoutException(f\"time limit of {time_limit}s reached during fold {i}\")\n",
      "tabzilla_utils.TimeoutException: time limit of 7200s reached during fold 2\n",
      "\n",
      "\n"
     ]
    }
   ],
   "source": [
    "for i, e in enumerate(unique_errors):\n",
    "    print(f\"error {i}:\\n{e}\\n\")"
   ]
  },
  {
   "cell_type": "markdown",
   "metadata": {},
   "source": [
    "All VIME errors are due to timeout..."
   ]
  },
  {
   "cell_type": "markdown",
   "metadata": {},
   "source": [
    "## TabNet"
   ]
  },
  {
   "cell_type": "code",
   "execution_count": 17,
   "metadata": {},
   "outputs": [
    {
     "name": "stdout",
     "output_type": "stream",
     "text": [
      "number of errors for alg TabNet: 21\n",
      "number of unique errors: 6\n"
     ]
    }
   ],
   "source": [
    "alg_name = \"TabNet\"\n",
    "\n",
    "print(f\"number of errors for alg {alg_name}: {len(errors_by_alg[alg_name])}\")\n",
    "print(f\"number of unique errors: {len(set(errors_by_alg[alg_name]))}\")\n"
   ]
  },
  {
   "cell_type": "code",
   "execution_count": 18,
   "metadata": {},
   "outputs": [],
   "source": [
    "# what are the unique errors?\n",
    "unique_errors = list(set(errors_by_alg[alg_name]))"
   ]
  },
  {
   "cell_type": "code",
   "execution_count": 19,
   "metadata": {},
   "outputs": [
    {
     "name": "stdout",
     "output_type": "stream",
     "text": [
      "error 0:\n",
      "Traceback (most recent call last):\n",
      "  File \"/home/shared/tabzilla/TabSurvey/tabzilla_experiment.py\", line 137, in __call__\n",
      "    result = cross_validation(model, self.dataset, self.time_limit)\n",
      "  File \"/home/shared/tabzilla/TabSurvey/tabzilla_utils.py\", line 210, in cross_validation\n",
      "    raise TimeoutException(f\"time limit of {time_limit}s reached during fold {i}\")\n",
      "tabzilla_utils.TimeoutException: time limit of 7200s reached during fold 6\n",
      "\n",
      "\n",
      "error 1:\n",
      "Traceback (most recent call last):\n",
      "  File \"/home/shared/tabzilla/TabSurvey/tabzilla_experiment.py\", line 137, in __call__\n",
      "    result = cross_validation(model, self.dataset, self.time_limit)\n",
      "  File \"/home/shared/tabzilla/TabSurvey/tabzilla_utils.py\", line 210, in cross_validation\n",
      "    raise TimeoutException(f\"time limit of {time_limit}s reached during fold {i}\")\n",
      "tabzilla_utils.TimeoutException: time limit of 7200s reached during fold 8\n",
      "\n",
      "\n",
      "error 2:\n",
      "Traceback (most recent call last):\n",
      "  File \"/home/shared/tabzilla/TabSurvey/tabzilla_experiment.py\", line 137, in __call__\n",
      "    result = cross_validation(model, self.dataset, self.time_limit)\n",
      "  File \"/home/shared/tabzilla/TabSurvey/tabzilla_utils.py\", line 210, in cross_validation\n",
      "    raise TimeoutException(f\"time limit of {time_limit}s reached during fold {i}\")\n",
      "tabzilla_utils.TimeoutException: time limit of 7200s reached during fold 3\n",
      "\n",
      "\n",
      "error 3:\n",
      "Traceback (most recent call last):\n",
      "  File \"/home/shared/tabzilla/TabSurvey/tabzilla_experiment.py\", line 137, in __call__\n",
      "    result = cross_validation(model, self.dataset, self.time_limit)\n",
      "  File \"/home/shared/tabzilla/TabSurvey/tabzilla_utils.py\", line 210, in cross_validation\n",
      "    raise TimeoutException(f\"time limit of {time_limit}s reached during fold {i}\")\n",
      "tabzilla_utils.TimeoutException: time limit of 7200s reached during fold 1\n",
      "\n",
      "\n",
      "error 4:\n",
      "Traceback (most recent call last):\n",
      "  File \"/home/shared/tabzilla/TabSurvey/tabzilla_experiment.py\", line 137, in __call__\n",
      "    result = cross_validation(model, self.dataset, self.time_limit)\n",
      "  File \"/home/shared/tabzilla/TabSurvey/tabzilla_utils.py\", line 210, in cross_validation\n",
      "    raise TimeoutException(f\"time limit of {time_limit}s reached during fold {i}\")\n",
      "tabzilla_utils.TimeoutException: time limit of 7200s reached during fold 7\n",
      "\n",
      "\n",
      "error 5:\n",
      "Traceback (most recent call last):\n",
      "  File \"/home/shared/tabzilla/TabSurvey/tabzilla_experiment.py\", line 137, in __call__\n",
      "    result = cross_validation(model, self.dataset, self.time_limit)\n",
      "  File \"/home/shared/tabzilla/TabSurvey/tabzilla_utils.py\", line 210, in cross_validation\n",
      "    raise TimeoutException(f\"time limit of {time_limit}s reached during fold {i}\")\n",
      "tabzilla_utils.TimeoutException: time limit of 7200s reached during fold 2\n",
      "\n",
      "\n"
     ]
    }
   ],
   "source": [
    "for i, e in enumerate(unique_errors):\n",
    "    print(f\"error {i}:\\n{e}\\n\")"
   ]
  },
  {
   "cell_type": "markdown",
   "metadata": {},
   "source": [
    "All TabNet errors are due to timeout..."
   ]
  }
 ],
 "metadata": {
  "kernelspec": {
   "display_name": "Python 3.8.2 64-bit",
   "language": "python",
   "name": "python3"
  },
  "language_info": {
   "codemirror_mode": {
    "name": "ipython",
    "version": 3
   },
   "file_extension": ".py",
   "mimetype": "text/x-python",
   "name": "python",
   "nbconvert_exporter": "python",
   "pygments_lexer": "ipython3",
   "version": "3.7.12"
  },
  "orig_nbformat": 4,
  "vscode": {
   "interpreter": {
    "hash": "31f2aee4e71d21fbe5cf8b01ff0e069b9275f58929596ceb00d14d90e3e16cd6"
   }
  }
 },
 "nbformat": 4,
 "nbformat_minor": 2
}
