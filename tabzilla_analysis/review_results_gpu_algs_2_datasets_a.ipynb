{
 "cells": [
  {
   "cell_type": "markdown",
   "metadata": {},
   "source": [
    "# Review Results\n",
    "General notebook for reviewing results files"
   ]
  },
  {
   "cell_type": "code",
   "execution_count": 1,
   "metadata": {
    "vscode": {
     "languageId": "python"
    }
   },
   "outputs": [],
   "source": [
    "import pandas as pd"
   ]
  },
  {
   "cell_type": "code",
   "execution_count": 2,
   "metadata": {
    "vscode": {
     "languageId": "python"
    }
   },
   "outputs": [],
   "source": [
    "experiment_name = \"algs-gpu-2-datasets-a\"\n",
    "\n",
    "# get the list of datasets and algs that we expect for this batch\n",
    "datasets_list_file = \"../scripts/DATASETS_A.sh\"\n",
    "algs_list_file = \"../scripts/ALGS_GPU_2.sh\""
   ]
  },
  {
   "cell_type": "code",
   "execution_count": 3,
   "metadata": {
    "vscode": {
     "languageId": "python"
    }
   },
   "outputs": [
    {
     "name": "stdout",
     "output_type": "stream",
     "text": [
      "found 10 algs in ../scripts/ALGS_GPU_2.sh:\n",
      "1 TabTransformer\n",
      "2 NODE\n",
      "3 STG\n",
      "4 NAM\n",
      "5 DeepFM\n",
      "6 SAINT\n",
      "7 DANet\n",
      "8 rtdl_MLP\n",
      "9 rtdl_ResNet\n",
      "10 rtdl_FTTransformer\n",
      "\n",
      "found 114 datasets in ../scripts/DATASETS_A.sh: \n",
      "1 openml__sick__3021\n",
      "2 openml__kr-vs-kp__3\n",
      "3 openml__letter__6\n",
      "4 openml__balance-scale__11\n",
      "5 openml__mfeat-factors__12\n",
      "6 openml__mfeat-fourier__14\n",
      "7 openml__breast-w__15\n",
      "8 openml__mfeat-karhunen__16\n",
      "9 openml__mfeat-morphological__18\n",
      "10 openml__mfeat-zernike__22\n",
      "11 openml__cmc__23\n",
      "12 openml__optdigits__28\n",
      "13 openml__credit-approval__29\n",
      "14 openml__credit-g__31\n",
      "15 openml__pendigits__32\n",
      "16 openml__diabetes__37\n",
      "17 openml__spambase__43\n",
      "18 openml__splice__45\n",
      "19 openml__tic-tac-toe__49\n",
      "20 openml__vehicle__53\n",
      "21 openml__electricity__219\n",
      "22 openml__satimage__2074\n",
      "23 openml__eucalyptus__2079\n",
      "24 openml__vowel__3022\n",
      "25 openml__isolet__3481\n",
      "26 openml__analcatdata_authorship__3549\n",
      "27 openml__analcatdata_dmft__3560\n",
      "28 openml__mnist_784__3573\n",
      "29 openml__pc4__3902\n",
      "30 openml__pc3__3903\n",
      "31 openml__jm1__3904\n",
      "32 openml__kc2__3913\n",
      "33 openml__kc1__3917\n",
      "34 openml__pc1__3918\n",
      "35 openml__adult__7592\n",
      "36 openml__Bioresponse__9910\n",
      "37 openml__wdbc__9946\n",
      "38 openml__phoneme__9952\n",
      "39 openml__qsar-biodeg__9957\n",
      "40 openml__wall-robot-navigation__9960\n",
      "41 openml__semeion__9964\n",
      "42 openml__ilpd__9971\n",
      "43 openml__madelon__9976\n",
      "44 openml__nomao__9977\n",
      "45 openml__ozone-level-8hr__9978\n",
      "46 openml__cnae-9__9981\n",
      "47 openml__first-order-theorem-proving__9985\n",
      "48 openml__banknote-authentication__10093\n",
      "49 openml__blood-transfusion-service-center__10101\n",
      "50 openml__PhishingWebsites__14952\n",
      "51 openml__cylinder-bands__14954\n",
      "52 openml__bank-marketing__14965\n",
      "53 openml__GesturePhaseSegmentationProcessed__14969\n",
      "54 openml__har__14970\n",
      "55 openml__dresses-sales__125920\n",
      "56 openml__texture__125922\n",
      "57 openml__connect-4__146195\n",
      "58 openml__MiceProtein__146800\n",
      "59 openml__steel-plates-fault__146817\n",
      "60 openml__climate-model-simulation-crashes__146819\n",
      "61 openml__wilt__146820\n",
      "62 openml__car__146821\n",
      "63 openml__segment__146822\n",
      "64 openml__mfeat-pixel__146824\n",
      "65 openml__Fashion-MNIST__146825\n",
      "66 openml__jungle_chess_2pcs_raw_endgame_complete__167119\n",
      "67 openml__numerai28.6__167120\n",
      "68 openml__Devnagari-Script__167121\n",
      "69 openml__CIFAR_10__167124\n",
      "70 openml__Internet-Advertisements__167125\n",
      "71 openml__dna__167140\n",
      "72 openml__churn__167141\n",
      "73 openml__california__361089\n",
      "74 openml__covertype__7593\n",
      "75 openml__adult-census__3953\n",
      "76 openml__Amazon_employee_access__34539\n",
      "77 openml__shuttle__146212\n",
      "78 openml__higgs__146606\n",
      "79 openml__Australian__146818\n",
      "80 openml__helena__168329\n",
      "81 openml__jannis__168330\n",
      "82 openml__volkert__168331\n",
      "83 openml__robert__168332\n",
      "84 openml__MiniBooNE__168335\n",
      "85 openml__guillermo__168337\n",
      "86 openml__riccardo__168338\n",
      "87 openml__APSFailure__168868\n",
      "88 openml__christine__168908\n",
      "89 openml__dilbert__168909\n",
      "90 openml__fabert__168910\n",
      "91 openml__jasmine__168911\n",
      "92 openml__sylvine__168912\n",
      "93 openml__airlines__189354\n",
      "94 openml__dionis__189355\n",
      "95 openml__albert__189356\n",
      "96 openml__eye_movements__3897\n",
      "97 openml__arrhythmia__5\n",
      "98 openml__skin-segmentation__9965\n",
      "99 openml__colleges__359942\n",
      "100 openml__philippine__190410\n",
      "101 openml__gas-drift-different-concentrations__9987\n",
      "102 openml__eeg-eye-state__14951\n",
      "103 openml__house_16H__3686\n",
      "104 openml__mv__4774\n",
      "105 openml__bank-marketing__9899\n",
      "106 openml__Bank-Note-Authentication-UCI__361002\n",
      "107 openml__sulfur__360966\n",
      "108 openml__soybean__41\n",
      "109 openml__breast-cancer__145799\n",
      "110 openml__haberman__42\n",
      "111 openml__veteran__4828\n",
      "112 openml__primary-tumor__146032\n",
      "113 openml__ecoli__145977\n",
      "114 openml__blood-transfusion-service-center__145836\n"
     ]
    }
   ],
   "source": [
    "# parse the expected datasets and algs from the scripts\n",
    "\n",
    "alg_list = []\n",
    "dataset_list = []\n",
    "\n",
    "with open(algs_list_file, 'r') as f:\n",
    "    lines = f.readlines()\n",
    "    start = False\n",
    "    for i, l in enumerate(lines):\n",
    "        if \"MODELS_ENVS\" in l:\n",
    "            start = True\n",
    "            continue\n",
    "        if start and (\")\" in l):\n",
    "            break\n",
    "        if start:\n",
    "            alg_list.append(l.split(\":\")[0].strip())\n",
    "\n",
    "\n",
    "with open(datasets_list_file, 'r') as f:\n",
    "    lines = f.readlines()\n",
    "    start = False\n",
    "    for i, l in enumerate(lines):\n",
    "        if \"DATASETS\" in l:\n",
    "            start = True\n",
    "            continue\n",
    "        if start and (\")\" in l):\n",
    "            break\n",
    "        if start:\n",
    "            dataset_list.append(l.split(\"\\n\")[0].strip())\n",
    "\n",
    "print(f\"found {len(alg_list)} algs in {algs_list_file}:\")\n",
    "for i, a in enumerate(alg_list):\n",
    "    print(i+1, a)\n",
    "print()\n",
    "print(f\"found {len(dataset_list)} datasets in {datasets_list_file}: \")\n",
    "for i, d in enumerate(dataset_list):\n",
    "    print(i+1, d)\n",
    "\n"
   ]
  },
  {
   "cell_type": "code",
   "execution_count": 4,
   "metadata": {
    "vscode": {
     "languageId": "python"
    }
   },
   "outputs": [],
   "source": [
    "df = pd.read_csv(\"../TabSurvey/metadataset.csv\")\n",
    "\n",
    "# filter by experiment name\n",
    "df = df.loc[df[\"exp_name\"].str.contains(experiment_name)]"
   ]
  },
  {
   "cell_type": "code",
   "execution_count": 5,
   "metadata": {
    "vscode": {
     "languageId": "python"
    }
   },
   "outputs": [
    {
     "name": "stdout",
     "output_type": "stream",
     "text": [
      "136410\n"
     ]
    }
   ],
   "source": [
    "print(len(df))"
   ]
  },
  {
   "cell_type": "code",
   "execution_count": 6,
   "metadata": {
    "vscode": {
     "languageId": "python"
    }
   },
   "outputs": [],
   "source": [
    "# for each alg-dataset combination, check for results in the metadataset\n",
    "import itertools\n",
    "\n",
    "alg_dataset_pairs = list(itertools.product(alg_list, dataset_list))\n",
    "\n",
    "alg_list_tmp = []\n",
    "dataset_list_tmp = []\n",
    "counts_list_tmp = []\n",
    "# keep track of the number of results for each pair\n",
    "for alg, dataset in alg_dataset_pairs:\n",
    "    alg_list_tmp.append(alg)\n",
    "    dataset_list_tmp.append(dataset)\n",
    "    counts_list_tmp.append(sum((df[\"dataset_name\"] == dataset) & (df[\"alg_name\"] == alg)))\n",
    "\n",
    "df_counts = pd.DataFrame(\n",
    "    {\n",
    "        \"alg\": alg_list_tmp,\n",
    "        \"dataset\": dataset_list_tmp,\n",
    "        \"count\": counts_list_tmp\n",
    "    }\n",
    ")\n"
   ]
  },
  {
   "cell_type": "code",
   "execution_count": 7,
   "metadata": {
    "vscode": {
     "languageId": "python"
    }
   },
   "outputs": [
    {
     "name": "stdout",
     "output_type": "stream",
     "text": [
      "pairs with fewer than 300 results\n"
     ]
    },
    {
     "data": {
      "text/html": [
       "<div>\n",
       "<style scoped>\n",
       "    .dataframe tbody tr th:only-of-type {\n",
       "        vertical-align: middle;\n",
       "    }\n",
       "\n",
       "    .dataframe tbody tr th {\n",
       "        vertical-align: top;\n",
       "    }\n",
       "\n",
       "    .dataframe thead th {\n",
       "        text-align: right;\n",
       "    }\n",
       "</style>\n",
       "<table border=\"1\" class=\"dataframe\">\n",
       "  <thead>\n",
       "    <tr style=\"text-align: right;\">\n",
       "      <th></th>\n",
       "      <th>alg</th>\n",
       "      <th>dataset</th>\n",
       "      <th>count</th>\n",
       "    </tr>\n",
       "  </thead>\n",
       "  <tbody>\n",
       "    <tr>\n",
       "      <th>1</th>\n",
       "      <td>TabTransformer</td>\n",
       "      <td>openml__kr-vs-kp__3</td>\n",
       "      <td>0</td>\n",
       "    </tr>\n",
       "    <tr>\n",
       "      <th>3</th>\n",
       "      <td>TabTransformer</td>\n",
       "      <td>openml__balance-scale__11</td>\n",
       "      <td>0</td>\n",
       "    </tr>\n",
       "    <tr>\n",
       "      <th>8</th>\n",
       "      <td>TabTransformer</td>\n",
       "      <td>openml__mfeat-morphological__18</td>\n",
       "      <td>0</td>\n",
       "    </tr>\n",
       "    <tr>\n",
       "      <th>17</th>\n",
       "      <td>TabTransformer</td>\n",
       "      <td>openml__splice__45</td>\n",
       "      <td>0</td>\n",
       "    </tr>\n",
       "    <tr>\n",
       "      <th>18</th>\n",
       "      <td>TabTransformer</td>\n",
       "      <td>openml__tic-tac-toe__49</td>\n",
       "      <td>0</td>\n",
       "    </tr>\n",
       "    <tr>\n",
       "      <th>...</th>\n",
       "      <td>...</td>\n",
       "      <td>...</td>\n",
       "      <td>...</td>\n",
       "    </tr>\n",
       "    <tr>\n",
       "      <th>1134</th>\n",
       "      <td>rtdl_FTTransformer</td>\n",
       "      <td>openml__breast-cancer__145799</td>\n",
       "      <td>0</td>\n",
       "    </tr>\n",
       "    <tr>\n",
       "      <th>1136</th>\n",
       "      <td>rtdl_FTTransformer</td>\n",
       "      <td>openml__veteran__4828</td>\n",
       "      <td>0</td>\n",
       "    </tr>\n",
       "    <tr>\n",
       "      <th>1137</th>\n",
       "      <td>rtdl_FTTransformer</td>\n",
       "      <td>openml__primary-tumor__146032</td>\n",
       "      <td>0</td>\n",
       "    </tr>\n",
       "    <tr>\n",
       "      <th>1138</th>\n",
       "      <td>rtdl_FTTransformer</td>\n",
       "      <td>openml__ecoli__145977</td>\n",
       "      <td>0</td>\n",
       "    </tr>\n",
       "    <tr>\n",
       "      <th>1139</th>\n",
       "      <td>rtdl_FTTransformer</td>\n",
       "      <td>openml__blood-transfusion-service-center__145836</td>\n",
       "      <td>0</td>\n",
       "    </tr>\n",
       "  </tbody>\n",
       "</table>\n",
       "<p>767 rows × 3 columns</p>\n",
       "</div>"
      ],
      "text/plain": [
       "                     alg                                           dataset  \\\n",
       "1         TabTransformer                               openml__kr-vs-kp__3   \n",
       "3         TabTransformer                         openml__balance-scale__11   \n",
       "8         TabTransformer                   openml__mfeat-morphological__18   \n",
       "17        TabTransformer                                openml__splice__45   \n",
       "18        TabTransformer                           openml__tic-tac-toe__49   \n",
       "...                  ...                                               ...   \n",
       "1134  rtdl_FTTransformer                     openml__breast-cancer__145799   \n",
       "1136  rtdl_FTTransformer                             openml__veteran__4828   \n",
       "1137  rtdl_FTTransformer                     openml__primary-tumor__146032   \n",
       "1138  rtdl_FTTransformer                             openml__ecoli__145977   \n",
       "1139  rtdl_FTTransformer  openml__blood-transfusion-service-center__145836   \n",
       "\n",
       "      count  \n",
       "1         0  \n",
       "3         0  \n",
       "8         0  \n",
       "17        0  \n",
       "18        0  \n",
       "...     ...  \n",
       "1134      0  \n",
       "1136      0  \n",
       "1137      0  \n",
       "1138      0  \n",
       "1139      0  \n",
       "\n",
       "[767 rows x 3 columns]"
      ]
     },
     "execution_count": 7,
     "metadata": {},
     "output_type": "execute_result"
    }
   ],
   "source": [
    "# pairs with fewer than 300 results (300 = complete.)\n",
    "\n",
    "print(\"pairs with fewer than 300 results\")\n",
    "df_counts[df_counts[\"count\"] < 300]"
   ]
  },
  {
   "cell_type": "code",
   "execution_count": 9,
   "metadata": {
    "vscode": {
     "languageId": "python"
    }
   },
   "outputs": [
    {
     "name": "stdout",
     "output_type": "stream",
     "text": [
      "pairs with 0 results (complete fail)\n"
     ]
    },
    {
     "data": {
      "text/html": [
       "<div>\n",
       "<style scoped>\n",
       "    .dataframe tbody tr th:only-of-type {\n",
       "        vertical-align: middle;\n",
       "    }\n",
       "\n",
       "    .dataframe tbody tr th {\n",
       "        vertical-align: top;\n",
       "    }\n",
       "\n",
       "    .dataframe thead th {\n",
       "        text-align: right;\n",
       "    }\n",
       "</style>\n",
       "<table border=\"1\" class=\"dataframe\">\n",
       "  <thead>\n",
       "    <tr style=\"text-align: right;\">\n",
       "      <th></th>\n",
       "      <th>alg</th>\n",
       "      <th>dataset</th>\n",
       "      <th>count</th>\n",
       "    </tr>\n",
       "  </thead>\n",
       "  <tbody>\n",
       "    <tr>\n",
       "      <th>1</th>\n",
       "      <td>TabTransformer</td>\n",
       "      <td>openml__kr-vs-kp__3</td>\n",
       "      <td>0</td>\n",
       "    </tr>\n",
       "    <tr>\n",
       "      <th>3</th>\n",
       "      <td>TabTransformer</td>\n",
       "      <td>openml__balance-scale__11</td>\n",
       "      <td>0</td>\n",
       "    </tr>\n",
       "    <tr>\n",
       "      <th>8</th>\n",
       "      <td>TabTransformer</td>\n",
       "      <td>openml__mfeat-morphological__18</td>\n",
       "      <td>0</td>\n",
       "    </tr>\n",
       "    <tr>\n",
       "      <th>17</th>\n",
       "      <td>TabTransformer</td>\n",
       "      <td>openml__splice__45</td>\n",
       "      <td>0</td>\n",
       "    </tr>\n",
       "    <tr>\n",
       "      <th>18</th>\n",
       "      <td>TabTransformer</td>\n",
       "      <td>openml__tic-tac-toe__49</td>\n",
       "      <td>0</td>\n",
       "    </tr>\n",
       "    <tr>\n",
       "      <th>...</th>\n",
       "      <td>...</td>\n",
       "      <td>...</td>\n",
       "      <td>...</td>\n",
       "    </tr>\n",
       "    <tr>\n",
       "      <th>1134</th>\n",
       "      <td>rtdl_FTTransformer</td>\n",
       "      <td>openml__breast-cancer__145799</td>\n",
       "      <td>0</td>\n",
       "    </tr>\n",
       "    <tr>\n",
       "      <th>1136</th>\n",
       "      <td>rtdl_FTTransformer</td>\n",
       "      <td>openml__veteran__4828</td>\n",
       "      <td>0</td>\n",
       "    </tr>\n",
       "    <tr>\n",
       "      <th>1137</th>\n",
       "      <td>rtdl_FTTransformer</td>\n",
       "      <td>openml__primary-tumor__146032</td>\n",
       "      <td>0</td>\n",
       "    </tr>\n",
       "    <tr>\n",
       "      <th>1138</th>\n",
       "      <td>rtdl_FTTransformer</td>\n",
       "      <td>openml__ecoli__145977</td>\n",
       "      <td>0</td>\n",
       "    </tr>\n",
       "    <tr>\n",
       "      <th>1139</th>\n",
       "      <td>rtdl_FTTransformer</td>\n",
       "      <td>openml__blood-transfusion-service-center__145836</td>\n",
       "      <td>0</td>\n",
       "    </tr>\n",
       "  </tbody>\n",
       "</table>\n",
       "<p>544 rows × 3 columns</p>\n",
       "</div>"
      ],
      "text/plain": [
       "                     alg                                           dataset  \\\n",
       "1         TabTransformer                               openml__kr-vs-kp__3   \n",
       "3         TabTransformer                         openml__balance-scale__11   \n",
       "8         TabTransformer                   openml__mfeat-morphological__18   \n",
       "17        TabTransformer                                openml__splice__45   \n",
       "18        TabTransformer                           openml__tic-tac-toe__49   \n",
       "...                  ...                                               ...   \n",
       "1134  rtdl_FTTransformer                     openml__breast-cancer__145799   \n",
       "1136  rtdl_FTTransformer                             openml__veteran__4828   \n",
       "1137  rtdl_FTTransformer                     openml__primary-tumor__146032   \n",
       "1138  rtdl_FTTransformer                             openml__ecoli__145977   \n",
       "1139  rtdl_FTTransformer  openml__blood-transfusion-service-center__145836   \n",
       "\n",
       "      count  \n",
       "1         0  \n",
       "3         0  \n",
       "8         0  \n",
       "17        0  \n",
       "18        0  \n",
       "...     ...  \n",
       "1134      0  \n",
       "1136      0  \n",
       "1137      0  \n",
       "1138      0  \n",
       "1139      0  \n",
       "\n",
       "[544 rows x 3 columns]"
      ]
     },
     "execution_count": 9,
     "metadata": {},
     "output_type": "execute_result"
    }
   ],
   "source": [
    "# pairs with fewer than 0 results (complete fail)\n",
    "\n",
    "print(\"pairs with 0 results (complete fail)\")\n",
    "df_counts[df_counts[\"count\"] == 0]"
   ]
  },
  {
   "cell_type": "code",
   "execution_count": 10,
   "metadata": {
    "vscode": {
     "languageId": "python"
    }
   },
   "outputs": [
    {
     "name": "stdout",
     "output_type": "stream",
     "text": [
      "dataset\n",
      "openml__higgs__146606            0.0\n",
      "openml__albert__189356           0.0\n",
      "openml__airlines__189354         0.0\n",
      "openml__helena__168329           0.0\n",
      "openml__mnist_784__3573          0.0\n",
      "                                ... \n",
      "openml__credit-g__31             0.9\n",
      "openml__cylinder-bands__14954    0.9\n",
      "openml__ilpd__9971               1.0\n",
      "openml__haberman__42             1.0\n",
      "openml__dresses-sales__125920    1.0\n",
      "Name: count, Length: 114, dtype: float64\n"
     ]
    }
   ],
   "source": [
    "# for each dataset, what % of algorithms are there at least 200 results?\n",
    "print(df_counts.groupby(\"dataset\")[\"count\"].apply(lambda x: sum(x > 200) / float(len(alg_list))).sort_values())"
   ]
  },
  {
   "attachments": {},
   "cell_type": "markdown",
   "metadata": {},
   "source": [
    "Many datasets with no results... Need to look into this."
   ]
  },
  {
   "cell_type": "code",
   "execution_count": 11,
   "metadata": {
    "vscode": {
     "languageId": "python"
    }
   },
   "outputs": [
    {
     "name": "stdout",
     "output_type": "stream",
     "text": [
      "alg\n",
      "rtdl_FTTransformer    0.131579\n",
      "SAINT                 0.140351\n",
      "NODE                  0.201754\n",
      "rtdl_ResNet           0.271930\n",
      "rtdl_MLP              0.280702\n",
      "NAM                   0.307018\n",
      "DeepFM                0.438596\n",
      "DANet                 0.482456\n",
      "TabTransformer        0.587719\n",
      "STG                   0.728070\n",
      "Name: count, dtype: float64\n"
     ]
    }
   ],
   "source": [
    "# for each alg, what % of datasets are there at least 200 results?\n",
    "print(df_counts.groupby(\"alg\")[\"count\"].apply(lambda x: sum(x > 200) / float(len(dataset_list))).sort_values())"
   ]
  },
  {
   "attachments": {},
   "cell_type": "markdown",
   "metadata": {},
   "source": [
    "It looks like several algs either have lots of errors or the experiments didn't finish. We need to look into this."
   ]
  }
 ],
 "metadata": {
  "kernelspec": {
   "display_name": "Python 3 (ipykernel)",
   "language": "python",
   "name": "python3"
  },
  "orig_nbformat": 4,
  "vscode": {
   "interpreter": {
    "hash": "31f2aee4e71d21fbe5cf8b01ff0e069b9275f58929596ceb00d14d90e3e16cd6"
   }
  }
 },
 "nbformat": 4,
 "nbformat_minor": 2
}
