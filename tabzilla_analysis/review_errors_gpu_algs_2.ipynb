{
 "cells": [
  {
   "attachments": {},
   "cell_type": "markdown",
   "metadata": {},
   "source": [
    "# Review errors in the results files `metadataset_errors*.csv` for GPU-algs-2"
   ]
  },
  {
   "cell_type": "code",
   "execution_count": 2,
   "metadata": {},
   "outputs": [
    {
     "data": {
      "text/html": [
       "<div>\n",
       "<style scoped>\n",
       "    .dataframe tbody tr th:only-of-type {\n",
       "        vertical-align: middle;\n",
       "    }\n",
       "\n",
       "    .dataframe tbody tr th {\n",
       "        vertical-align: top;\n",
       "    }\n",
       "\n",
       "    .dataframe thead th {\n",
       "        text-align: right;\n",
       "    }\n",
       "</style>\n",
       "<table border=\"1\" class=\"dataframe\">\n",
       "  <thead>\n",
       "    <tr style=\"text-align: right;\">\n",
       "      <th></th>\n",
       "      <th>results_bucket_path</th>\n",
       "      <th>dataset_name</th>\n",
       "      <th>alg_name</th>\n",
       "      <th>hparam_source</th>\n",
       "      <th>trial_number</th>\n",
       "      <th>alg_hparam_id</th>\n",
       "      <th>exp_name</th>\n",
       "      <th>exception</th>\n",
       "    </tr>\n",
       "  </thead>\n",
       "  <tbody>\n",
       "    <tr>\n",
       "      <th>0</th>\n",
       "      <td>results/openml__APSFailure__168868/DANet/algs-...</td>\n",
       "      <td>openml__APSFailure__168868</td>\n",
       "      <td>DANet</td>\n",
       "      <td>default</td>\n",
       "      <td>0</td>\n",
       "      <td>DANet__seed_0__trial_0</td>\n",
       "      <td>algs-gpu-2-datasets-a_120622_092527_3c1c.zip</td>\n",
       "      <td>Traceback (most recent call last):\\n  File \"/h...</td>\n",
       "    </tr>\n",
       "    <tr>\n",
       "      <th>1</th>\n",
       "      <td>results/openml__APSFailure__168868/DANet/algs-...</td>\n",
       "      <td>openml__APSFailure__168868</td>\n",
       "      <td>DANet</td>\n",
       "      <td>random_1_s0</td>\n",
       "      <td>1</td>\n",
       "      <td>DANet__seed_0__trial_1</td>\n",
       "      <td>algs-gpu-2-datasets-a_120622_092527_3c1c.zip</td>\n",
       "      <td>Traceback (most recent call last):\\n  File \"/h...</td>\n",
       "    </tr>\n",
       "    <tr>\n",
       "      <th>2</th>\n",
       "      <td>results/openml__APSFailure__168868/DANet/algs-...</td>\n",
       "      <td>openml__APSFailure__168868</td>\n",
       "      <td>DANet</td>\n",
       "      <td>random_2_s0</td>\n",
       "      <td>2</td>\n",
       "      <td>DANet__seed_0__trial_2</td>\n",
       "      <td>algs-gpu-2-datasets-a_120622_092527_3c1c.zip</td>\n",
       "      <td>Traceback (most recent call last):\\n  File \"/h...</td>\n",
       "    </tr>\n",
       "    <tr>\n",
       "      <th>3</th>\n",
       "      <td>results/openml__APSFailure__168868/DANet/algs-...</td>\n",
       "      <td>openml__APSFailure__168868</td>\n",
       "      <td>DANet</td>\n",
       "      <td>random_3_s0</td>\n",
       "      <td>3</td>\n",
       "      <td>DANet__seed_0__trial_3</td>\n",
       "      <td>algs-gpu-2-datasets-a_120622_092527_3c1c.zip</td>\n",
       "      <td>Traceback (most recent call last):\\n  File \"/h...</td>\n",
       "    </tr>\n",
       "    <tr>\n",
       "      <th>4</th>\n",
       "      <td>results/openml__APSFailure__168868/DANet/algs-...</td>\n",
       "      <td>openml__APSFailure__168868</td>\n",
       "      <td>DANet</td>\n",
       "      <td>random_4_s0</td>\n",
       "      <td>4</td>\n",
       "      <td>DANet__seed_0__trial_4</td>\n",
       "      <td>algs-gpu-2-datasets-a_120622_092527_3c1c.zip</td>\n",
       "      <td>Traceback (most recent call last):\\n  File \"/h...</td>\n",
       "    </tr>\n",
       "  </tbody>\n",
       "</table>\n",
       "</div>"
      ],
      "text/plain": [
       "                                 results_bucket_path  \\\n",
       "0  results/openml__APSFailure__168868/DANet/algs-...   \n",
       "1  results/openml__APSFailure__168868/DANet/algs-...   \n",
       "2  results/openml__APSFailure__168868/DANet/algs-...   \n",
       "3  results/openml__APSFailure__168868/DANet/algs-...   \n",
       "4  results/openml__APSFailure__168868/DANet/algs-...   \n",
       "\n",
       "                 dataset_name alg_name hparam_source  trial_number  \\\n",
       "0  openml__APSFailure__168868    DANet       default             0   \n",
       "1  openml__APSFailure__168868    DANet   random_1_s0             1   \n",
       "2  openml__APSFailure__168868    DANet   random_2_s0             2   \n",
       "3  openml__APSFailure__168868    DANet   random_3_s0             3   \n",
       "4  openml__APSFailure__168868    DANet   random_4_s0             4   \n",
       "\n",
       "            alg_hparam_id                                      exp_name  \\\n",
       "0  DANet__seed_0__trial_0  algs-gpu-2-datasets-a_120622_092527_3c1c.zip   \n",
       "1  DANet__seed_0__trial_1  algs-gpu-2-datasets-a_120622_092527_3c1c.zip   \n",
       "2  DANet__seed_0__trial_2  algs-gpu-2-datasets-a_120622_092527_3c1c.zip   \n",
       "3  DANet__seed_0__trial_3  algs-gpu-2-datasets-a_120622_092527_3c1c.zip   \n",
       "4  DANet__seed_0__trial_4  algs-gpu-2-datasets-a_120622_092527_3c1c.zip   \n",
       "\n",
       "                                           exception  \n",
       "0  Traceback (most recent call last):\\n  File \"/h...  \n",
       "1  Traceback (most recent call last):\\n  File \"/h...  \n",
       "2  Traceback (most recent call last):\\n  File \"/h...  \n",
       "3  Traceback (most recent call last):\\n  File \"/h...  \n",
       "4  Traceback (most recent call last):\\n  File \"/h...  "
      ]
     },
     "execution_count": 2,
     "metadata": {},
     "output_type": "execute_result"
    }
   ],
   "source": [
    "import pandas as pd\n",
    "\n",
    "errors_df = pd.read_csv(\"/home/shared/tabzilla/TabSurvey/metadataset_errors.csv\")\n",
    "\n",
    "# filter by experiment\n",
    "errors_df = errors_df.loc[errors_df[\"exp_name\"].str.contains(\"algs-gpu-2\")]\n",
    "\n",
    "errors_df.head()"
   ]
  },
  {
   "cell_type": "code",
   "execution_count": 3,
   "metadata": {},
   "outputs": [
    {
     "name": "stdout",
     "output_type": "stream",
     "text": [
      "errors by dataset:\n",
      " openml__albert__189356                     82\n",
      "openml__skin-segmentation__9965            77\n",
      "openml__Internet-Advertisements__167125    73\n",
      "openml__helena__168329                     71\n",
      "openml__primary-tumor__146032              70\n",
      "                                           ..\n",
      "openml__chscase_foot__5012                  2\n",
      "openml__churn__167141                       2\n",
      "openml__hill-valley__145847                 1\n",
      "openml__anneal__2867                        1\n",
      "openml__ada_agnostic__3896                  1\n",
      "Name: dataset_name, Length: 165, dtype: int64\n"
     ]
    }
   ],
   "source": [
    "# how many errors by dataset?\n",
    "print(f\"errors by dataset:\\n {errors_df['dataset_name'].value_counts()}\")"
   ]
  },
  {
   "cell_type": "code",
   "execution_count": 6,
   "metadata": {},
   "outputs": [
    {
     "name": "stdout",
     "output_type": "stream",
     "text": [
      "errors by alg:\n",
      " rtdl_FTTransformer    2640\n",
      "TabTransformer        1686\n",
      "NODE                   516\n",
      "SAINT                  161\n",
      "DANet                  116\n",
      "STG                     90\n",
      "NAM                     65\n",
      "DeepFM                  50\n",
      "Name: alg_name, dtype: int64\n"
     ]
    }
   ],
   "source": [
    "# by alg...\n",
    "print(f\"errors by alg:\\n {errors_df['alg_name'].value_counts()}\")"
   ]
  },
  {
   "cell_type": "code",
   "execution_count": 89,
   "metadata": {},
   "outputs": [],
   "source": [
    "known_err_str = [\n",
    "    \"RuntimeError: CUDA out of memory.\",\n",
    "    \"CUDA error: invalid configuration argument\",\n",
    "    \"TimeoutException\",  # our timeout exception\n",
    "    \"Cannot allocate memory\",\n",
    "]"
   ]
  },
  {
   "cell_type": "markdown",
   "metadata": {},
   "source": [
    "# Triage errors by alg"
   ]
  },
  {
   "cell_type": "code",
   "execution_count": 78,
   "metadata": {},
   "outputs": [],
   "source": [
    "errors_by_alg = {}\n",
    "for alg_name in errors_df[\"alg_name\"].unique():\n",
    "    errors_by_alg[alg_name] = errors_df.loc[errors_df[\"alg_name\"] == alg_name, \"exception\"].values"
   ]
  },
  {
   "cell_type": "markdown",
   "metadata": {},
   "source": [
    "## TabTransformer"
   ]
  },
  {
   "cell_type": "code",
   "execution_count": 79,
   "metadata": {},
   "outputs": [
    {
     "name": "stdout",
     "output_type": "stream",
     "text": [
      "number of errors for alg TabTransformer: 1686\n",
      "number of unique errors: 109\n"
     ]
    }
   ],
   "source": [
    "alg_name = \"TabTransformer\"\n",
    "\n",
    "print(f\"number of errors for alg {alg_name}: {len(errors_by_alg[alg_name])}\")\n",
    "print(f\"number of unique errors: {len(set(errors_by_alg[alg_name]))}\")\n",
    "\n",
    "unique_errors = list(set(errors_by_alg[alg_name]))\n"
   ]
  },
  {
   "cell_type": "code",
   "execution_count": 80,
   "metadata": {},
   "outputs": [
    {
     "name": "stdout",
     "output_type": "stream",
     "text": [
      "error type: RuntimeError: CUDA out of memory.\n",
      "num of unique errors with this string: 91 of 109\n",
      "error type: CUDA error: invalid configuration argument\n",
      "num of unique errors with this string: 1 of 109\n",
      "error type: TimeoutException\n",
      "num of unique errors with this string: 8 of 109\n",
      "error type: Cannot allocate memory\n",
      "num of unique errors with this string: 1 of 109\n",
      "error type: must be the same as input size\n",
      "num of unique errors with this string: 6 of 109\n",
      "error type: Dimension out of range\n",
      "num of unique errors with this string: 1 of 109\n",
      "error type: self must be a matrix\n",
      "num of unique errors with this string: 1 of 109\n"
     ]
    }
   ],
   "source": [
    "# get some known errors out of the way\n",
    "\n",
    "tmp_known_err_str = known_err_str + [\n",
    "    \"must be the same as input size\", # this is an issue with TabTransformer: https://github.com/naszilla/tabzilla/issues/78\n",
    "    \"Dimension out of range\", # another known issue with TabTransformer: https://github.com/naszilla/tabzilla/issues/77\n",
    "    \"self must be a matrix\", # another known issue with TabTransformer: https://github.com/naszilla/tabzilla/issues/79\n",
    "]\n",
    "\n",
    "for err_str in tmp_known_err_str:\n",
    "    print(f\"error type: {err_str}\")\n",
    "    print(f\"num of unique errors with this string: {len([e for e in unique_errors if err_str in e])} of {len(unique_errors)}\")\n"
   ]
  },
  {
   "cell_type": "code",
   "execution_count": 81,
   "metadata": {},
   "outputs": [],
   "source": [
    "# what are the remaining errors?\n",
    "\n",
    "remaining_errors = [e for e in unique_errors if all([s not in e for s in tmp_known_err_str])]"
   ]
  },
  {
   "cell_type": "code",
   "execution_count": 82,
   "metadata": {},
   "outputs": [
    {
     "name": "stdout",
     "output_type": "stream",
     "text": [
      "0 remaining errors\n"
     ]
    }
   ],
   "source": [
    "print(f\"{len(remaining_errors)} remaining errors\")"
   ]
  },
  {
   "cell_type": "markdown",
   "metadata": {},
   "source": [
    "# NODE"
   ]
  },
  {
   "cell_type": "code",
   "execution_count": 83,
   "metadata": {},
   "outputs": [
    {
     "name": "stdout",
     "output_type": "stream",
     "text": [
      "number of errors for alg NODE: 516\n",
      "number of unique errors: 143\n"
     ]
    }
   ],
   "source": [
    "alg_name = \"NODE\"\n",
    "\n",
    "print(f\"number of errors for alg {alg_name}: {len(errors_by_alg[alg_name])}\")\n",
    "print(f\"number of unique errors: {len(set(errors_by_alg[alg_name]))}\")\n",
    "\n",
    "unique_errors = list(set(errors_by_alg[alg_name]))\n"
   ]
  },
  {
   "cell_type": "code",
   "execution_count": 84,
   "metadata": {},
   "outputs": [
    {
     "name": "stdout",
     "output_type": "stream",
     "text": [
      "error type: RuntimeError: CUDA out of memory.\n",
      "num of unique errors with this string: 134 of 143\n",
      "error type: CUDA error: invalid configuration argument\n",
      "num of unique errors with this string: 0 of 143\n",
      "error type: TimeoutException\n",
      "num of unique errors with this string: 9 of 143\n",
      "error type: Cannot allocate memory\n",
      "num of unique errors with this string: 0 of 143\n"
     ]
    }
   ],
   "source": [
    "# get some known errors out of the way\n",
    "\n",
    "for err_str in known_err_str:\n",
    "    print(f\"error type: {err_str}\")\n",
    "    print(f\"num of unique errors with this string: {len([e for e in unique_errors if err_str in e])} of {len(unique_errors)}\")\n"
   ]
  },
  {
   "cell_type": "code",
   "execution_count": 85,
   "metadata": {},
   "outputs": [],
   "source": [
    "# what are the remaining errors?\n",
    "\n",
    "remaining_errors = [e for e in unique_errors if all([s not in e for s in known_err_str])]"
   ]
  },
  {
   "cell_type": "code",
   "execution_count": 86,
   "metadata": {},
   "outputs": [
    {
     "data": {
      "text/plain": [
       "0"
      ]
     },
     "execution_count": 86,
     "metadata": {},
     "output_type": "execute_result"
    }
   ],
   "source": [
    "len(remaining_errors)"
   ]
  },
  {
   "cell_type": "markdown",
   "metadata": {},
   "source": [
    "# STG"
   ]
  },
  {
   "cell_type": "code",
   "execution_count": 90,
   "metadata": {},
   "outputs": [
    {
     "name": "stdout",
     "output_type": "stream",
     "text": [
      "number of errors for alg STG: 90\n",
      "number of unique errors: 10\n"
     ]
    }
   ],
   "source": [
    "alg_name = \"STG\"\n",
    "\n",
    "print(f\"number of errors for alg {alg_name}: {len(errors_by_alg[alg_name])}\")\n",
    "print(f\"number of unique errors: {len(set(errors_by_alg[alg_name]))}\")\n",
    "\n",
    "unique_errors = list(set(errors_by_alg[alg_name]))\n"
   ]
  },
  {
   "cell_type": "code",
   "execution_count": 91,
   "metadata": {},
   "outputs": [
    {
     "name": "stdout",
     "output_type": "stream",
     "text": [
      "error type: RuntimeError: CUDA out of memory.\n",
      "num of unique errors with this string: 0 of 10\n",
      "error type: CUDA error: invalid configuration argument\n",
      "num of unique errors with this string: 0 of 10\n",
      "error type: TimeoutException\n",
      "num of unique errors with this string: 9 of 10\n",
      "error type: Cannot allocate memory\n",
      "num of unique errors with this string: 0 of 10\n"
     ]
    }
   ],
   "source": [
    "# get some known errors out of the way\n",
    "\n",
    "for err_str in known_err_str:\n",
    "    print(f\"error type: {err_str}\")\n",
    "    print(f\"num of unique errors with this string: {len([e for e in unique_errors if err_str in e])} of {len(unique_errors)}\")\n"
   ]
  },
  {
   "cell_type": "code",
   "execution_count": 92,
   "metadata": {},
   "outputs": [],
   "source": [
    "# what are the remaining errors?\n",
    "\n",
    "remaining_errors = [e for e in unique_errors if all([s not in e for s in known_err_str])]"
   ]
  },
  {
   "cell_type": "code",
   "execution_count": 93,
   "metadata": {},
   "outputs": [
    {
     "name": "stdout",
     "output_type": "stream",
     "text": [
      "1 remaining errros\n"
     ]
    }
   ],
   "source": [
    "print(f\"{len(remaining_errors)} remaining errros\")"
   ]
  },
  {
   "cell_type": "code",
   "execution_count": 94,
   "metadata": {},
   "outputs": [
    {
     "name": "stdout",
     "output_type": "stream",
     "text": [
      "Traceback (most recent call last):\n",
      "  File \"/home/shared/tabzilla/TabSurvey/tabzilla_experiment.py\", line 137, in __call__\n",
      "    result = cross_validation(model, self.dataset, self.time_limit)\n",
      "  File \"/home/shared/tabzilla/TabSurvey/tabzilla_utils.py\", line 264, in cross_validation\n",
      "    scorers[\"train\"].eval(\n",
      "  File \"/home/shared/tabzilla/TabSurvey/utils/scorer.py\", line 49, in eval\n",
      "    mse = mean_squared_error(y_true, y_prediction)\n",
      "  File \"/opt/conda/envs/torch/lib/python3.10/site-packages/sklearn/metrics/_regression.py\", line 442, in mean_squared_error\n",
      "    y_type, y_true, y_pred, multioutput = _check_reg_targets(\n",
      "  File \"/opt/conda/envs/torch/lib/python3.10/site-packages/sklearn/metrics/_regression.py\", line 102, in _check_reg_targets\n",
      "    y_pred = check_array(y_pred, ensure_2d=False, dtype=dtype)\n",
      "  File \"/opt/conda/envs/torch/lib/python3.10/site-packages/sklearn/utils/validation.py\", line 899, in check_array\n",
      "    _assert_all_finite(\n",
      "  File \"/opt/conda/envs/torch/lib/python3.10/site-packages/sklearn/utils/validation.py\", line 146, in _assert_all_finite\n",
      "    raise ValueError(msg_err)\n",
      "ValueError: Input contains NaN.\n",
      "\n"
     ]
    }
   ],
   "source": [
    "print(remaining_errors[0])"
   ]
  },
  {
   "cell_type": "code",
   "execution_count": 95,
   "metadata": {},
   "outputs": [
    {
     "name": "stdout",
     "output_type": "stream",
     "text": [
      "number of NaN errors: 20\n",
      "algs: STG    20\n",
      "Name: alg_name, dtype: int64\n",
      "datasets: openml__EgyptianSkulls__5040      2\n",
      "openml__Wine__190420              2\n",
      "openml__bodyfat__5514             2\n",
      "openml__chscase_foot__5012        2\n",
      "openml__cpu_small__4883           2\n",
      "openml__dataset_sales__190418     2\n",
      "openml__liver-disorders__52948    2\n",
      "openml__meta__4729                2\n",
      "openml__veteran__4828             2\n",
      "openml__aloi__12732               1\n",
      "openml__mv__4774                  1\n",
      "Name: dataset_name, dtype: int64\n"
     ]
    }
   ],
   "source": [
    "err_str = \"Input contains NaN\"\n",
    "print(f\"number of NaN errors: {len([e for e in errors_by_alg[alg_name] if err_str in e])}\")\n",
    "\n",
    "# which algs?\n",
    "print(f\"algs: {errors_df[errors_df['exception'].str.contains(err_str)]['alg_name'].value_counts()}\")\n",
    "\n",
    "# which datasets?\n",
    "print(f\"datasets: {errors_df[errors_df['exception'].str.contains(err_str)]['dataset_name'].value_counts()}\")\n"
   ]
  },
  {
   "cell_type": "markdown",
   "metadata": {},
   "source": [
    "# NAM"
   ]
  },
  {
   "cell_type": "code",
   "execution_count": 96,
   "metadata": {},
   "outputs": [
    {
     "name": "stdout",
     "output_type": "stream",
     "text": [
      "number of errors for alg NAM: 65\n",
      "number of unique errors: 9\n"
     ]
    }
   ],
   "source": [
    "alg_name = \"NAM\"\n",
    "\n",
    "print(f\"number of errors for alg {alg_name}: {len(errors_by_alg[alg_name])}\")\n",
    "print(f\"number of unique errors: {len(set(errors_by_alg[alg_name]))}\")\n",
    "\n",
    "unique_errors = list(set(errors_by_alg[alg_name]))\n"
   ]
  },
  {
   "cell_type": "code",
   "execution_count": 97,
   "metadata": {},
   "outputs": [
    {
     "name": "stdout",
     "output_type": "stream",
     "text": [
      "error type: RuntimeError: CUDA out of memory.\n",
      "num of unique errors with this string: 0 of 9\n",
      "error type: CUDA error: invalid configuration argument\n",
      "num of unique errors with this string: 0 of 9\n",
      "error type: TimeoutException\n",
      "num of unique errors with this string: 9 of 9\n",
      "error type: Cannot allocate memory\n",
      "num of unique errors with this string: 0 of 9\n"
     ]
    }
   ],
   "source": [
    "\n",
    "for err_str in known_err_str:\n",
    "    print(f\"error type: {err_str}\")\n",
    "    print(f\"num of unique errors with this string: {len([e for e in unique_errors if err_str in e])} of {len(unique_errors)}\")\n"
   ]
  },
  {
   "cell_type": "markdown",
   "metadata": {},
   "source": [
    "Done."
   ]
  },
  {
   "cell_type": "markdown",
   "metadata": {},
   "source": [
    "# DeepFM"
   ]
  },
  {
   "cell_type": "code",
   "execution_count": 100,
   "metadata": {},
   "outputs": [
    {
     "name": "stdout",
     "output_type": "stream",
     "text": [
      "number of errors for alg DeepFM: 50\n",
      "number of unique errors: 36\n"
     ]
    }
   ],
   "source": [
    "tmp_known_err_str = known_err_str + [\n",
    "    \"Singleton array\",  # https://github.com/naszilla/tabzilla/issues/83\n",
    "    ]\n",
    "\n",
    "alg_name = \"DeepFM\"\n",
    "\n",
    "print(f\"number of errors for alg {alg_name}: {len(errors_by_alg[alg_name])}\")\n",
    "print(f\"number of unique errors: {len(set(errors_by_alg[alg_name]))}\")\n",
    "\n",
    "unique_errors = list(set(errors_by_alg[alg_name]))\n"
   ]
  },
  {
   "cell_type": "code",
   "execution_count": 101,
   "metadata": {},
   "outputs": [
    {
     "name": "stdout",
     "output_type": "stream",
     "text": [
      "error type: RuntimeError: CUDA out of memory.\n",
      "num of unique errors with this string: 0 of 36\n",
      "error type: CUDA error: invalid configuration argument\n",
      "num of unique errors with this string: 0 of 36\n",
      "error type: TimeoutException\n",
      "num of unique errors with this string: 6 of 36\n",
      "error type: Cannot allocate memory\n",
      "num of unique errors with this string: 0 of 36\n",
      "error type: Singleton array\n",
      "num of unique errors with this string: 30 of 36\n"
     ]
    }
   ],
   "source": [
    "\n",
    "for err_str in tmp_known_err_str:\n",
    "    print(f\"error type: {err_str}\")\n",
    "    print(f\"num of unique errors with this string: {len([e for e in unique_errors if err_str in e])} of {len(unique_errors)}\")\n"
   ]
  },
  {
   "cell_type": "code",
   "execution_count": 102,
   "metadata": {},
   "outputs": [
    {
     "name": "stdout",
     "output_type": "stream",
     "text": [
      "0 remaining errros\n"
     ]
    }
   ],
   "source": [
    "# what are the remaining errors?\n",
    "\n",
    "remaining_errors = [e for e in unique_errors if all([s not in e for s in tmp_known_err_str])]\n",
    "print(f\"{len(remaining_errors)} remaining errros\")"
   ]
  },
  {
   "cell_type": "code",
   "execution_count": 103,
   "metadata": {},
   "outputs": [],
   "source": [
    "# err_str = \"Singleton array\"\n",
    "# print(f\"number of Singleton errors: {len([e for e in errors_by_alg[alg_name] if err_str in e])}\")\n",
    "\n",
    "# # which algs?\n",
    "# print(f\"algs: {errors_df[errors_df['exception'].str.contains(err_str)]['alg_name'].value_counts()}\")\n",
    "\n",
    "# # which datasets?\n",
    "# print(f\"datasets: {errors_df[errors_df['exception'].str.contains(err_str)]['dataset_name'].value_counts()}\")\n"
   ]
  },
  {
   "cell_type": "markdown",
   "metadata": {},
   "source": [
    "# SAINT"
   ]
  },
  {
   "cell_type": "code",
   "execution_count": 104,
   "metadata": {},
   "outputs": [
    {
     "name": "stdout",
     "output_type": "stream",
     "text": [
      "number of errors for alg SAINT: 161\n",
      "number of unique errors: 47\n"
     ]
    }
   ],
   "source": [
    "alg_name = \"SAINT\"\n",
    "\n",
    "print(f\"number of errors for alg {alg_name}: {len(errors_by_alg[alg_name])}\")\n",
    "print(f\"number of unique errors: {len(set(errors_by_alg[alg_name]))}\")\n",
    "\n",
    "unique_errors = list(set(errors_by_alg[alg_name]))\n"
   ]
  },
  {
   "cell_type": "code",
   "execution_count": 105,
   "metadata": {},
   "outputs": [
    {
     "name": "stdout",
     "output_type": "stream",
     "text": [
      "error type: RuntimeError: CUDA out of memory.\n",
      "num of unique errors with this string: 38 of 47\n",
      "error type: TimeoutException\n",
      "num of unique errors with this string: 9 of 47\n",
      "error type: Cannot allocate memory\n",
      "num of unique errors with this string: 0 of 47\n"
     ]
    }
   ],
   "source": [
    "# get some known errors out of the way\n",
    "\n",
    "known_err_str = [\n",
    "    \"RuntimeError: CUDA out of memory.\",\n",
    "    \"TimeoutException\",  # our timeout exception\n",
    "    \"Cannot allocate memory\",\n",
    "]\n",
    "\n",
    "for err_str in known_err_str:\n",
    "    print(f\"error type: {err_str}\")\n",
    "    print(f\"num of unique errors with this string: {len([e for e in unique_errors if err_str in e])} of {len(unique_errors)}\")\n"
   ]
  },
  {
   "cell_type": "code",
   "execution_count": 106,
   "metadata": {},
   "outputs": [
    {
     "name": "stdout",
     "output_type": "stream",
     "text": [
      "0 remaining errros\n"
     ]
    }
   ],
   "source": [
    "# what are the remaining errors?\n",
    "\n",
    "remaining_errors = [e for e in unique_errors if all([s not in e for s in known_err_str])]\n",
    "print(f\"{len(remaining_errors)} remaining errros\")"
   ]
  },
  {
   "cell_type": "markdown",
   "metadata": {},
   "source": [
    "Done."
   ]
  },
  {
   "cell_type": "markdown",
   "metadata": {},
   "source": []
  },
  {
   "attachments": {},
   "cell_type": "markdown",
   "metadata": {},
   "source": [
    "# rtdl_FTTransformer"
   ]
  },
  {
   "cell_type": "code",
   "execution_count": 123,
   "metadata": {},
   "outputs": [
    {
     "name": "stdout",
     "output_type": "stream",
     "text": [
      "number of errors for alg rtdl_FTTransformer: 2640\n",
      "number of unique errors: 17\n"
     ]
    }
   ],
   "source": [
    "alg_name = \"rtdl_FTTransformer\"\n",
    "\n",
    "print(f\"number of errors for alg {alg_name}: {len(errors_by_alg[alg_name])}\")\n",
    "print(f\"number of unique errors: {len(set(errors_by_alg[alg_name]))}\")\n",
    "\n",
    "unique_errors = list(set(errors_by_alg[alg_name]))\n"
   ]
  },
  {
   "cell_type": "code",
   "execution_count": 120,
   "metadata": {},
   "outputs": [
    {
     "name": "stdout",
     "output_type": "stream",
     "text": [
      "error type: RuntimeError: CUDA out of memory.\n",
      "num of unique errors with this string: 13 of 17\n",
      "error type: TimeoutException\n",
      "num of unique errors with this string: 0 of 17\n",
      "error type: Cannot allocate memory\n",
      "num of unique errors with this string: 0 of 17\n",
      "error type: If self.num_tokenizer is\n",
      "num of unique errors with this string: 2 of 17\n",
      "error type: If self.cat_tokenizer is\n",
      "num of unique errors with this string: 2 of 17\n"
     ]
    }
   ],
   "source": [
    "tmp_known_err_str = known_err_str + [\n",
    "    \"If self.num_tokenizer is\", # issue: https://github.com/naszilla/tabzilla/issues/84\n",
    "    \"If self.cat_tokenizer is\", # issue: https://github.com/naszilla/tabzilla/issues/84\n",
    "]\n",
    "\n",
    "\n",
    "for err_str in tmp_known_err_str:\n",
    "    print(f\"error type: {err_str}\")\n",
    "    print(f\"num of unique errors with this string: {len([e for e in unique_errors if err_str in e])} of {len(unique_errors)}\")\n"
   ]
  },
  {
   "cell_type": "code",
   "execution_count": 121,
   "metadata": {},
   "outputs": [
    {
     "name": "stdout",
     "output_type": "stream",
     "text": [
      "0 remaining errros\n"
     ]
    }
   ],
   "source": [
    "# what are the remaining errors?\n",
    "\n",
    "remaining_errors = [e for e in unique_errors if all([s not in e for s in tmp_known_err_str])]\n",
    "print(f\"{len(remaining_errors)} remaining errros\")"
   ]
  },
  {
   "cell_type": "code",
   "execution_count": 122,
   "metadata": {},
   "outputs": [],
   "source": [
    "# err_str = \"If self.num_tokenizer is\"\n",
    "# print(f\"number of tokenizer errors: {len([e for e in errors_by_alg[alg_name] if err_str in e])}\")\n",
    "\n",
    "# # which algs?\n",
    "# print(f\"algs: {errors_df[errors_df['exception'].str.contains(err_str)]['alg_name'].value_counts()}\")\n",
    "\n",
    "# # which datasets?\n",
    "# print(f\"datasets: {errors_df[errors_df['exception'].str.contains(err_str)]['dataset_name'].value_counts()}\")\n"
   ]
  },
  {
   "attachments": {},
   "cell_type": "markdown",
   "metadata": {},
   "source": [
    "# DANet"
   ]
  },
  {
   "cell_type": "code",
   "execution_count": 124,
   "metadata": {},
   "outputs": [
    {
     "name": "stdout",
     "output_type": "stream",
     "text": [
      "number of errors for alg DANet: 116\n",
      "number of unique errors: 9\n"
     ]
    }
   ],
   "source": [
    "alg_name = \"DANet\"\n",
    "\n",
    "print(f\"number of errors for alg {alg_name}: {len(errors_by_alg[alg_name])}\")\n",
    "print(f\"number of unique errors: {len(set(errors_by_alg[alg_name]))}\")\n",
    "\n",
    "unique_errors = list(set(errors_by_alg[alg_name]))\n"
   ]
  },
  {
   "cell_type": "code",
   "execution_count": 125,
   "metadata": {},
   "outputs": [
    {
     "name": "stdout",
     "output_type": "stream",
     "text": [
      "error type: RuntimeError: CUDA out of memory.\n",
      "num of unique errors with this string: 0 of 9\n",
      "error type: TimeoutException\n",
      "num of unique errors with this string: 9 of 9\n",
      "error type: Cannot allocate memory\n",
      "num of unique errors with this string: 0 of 9\n"
     ]
    }
   ],
   "source": [
    "tmp_known_err_str = known_err_str + [\n",
    "    # \"If self.num_tokenizer is\", # issue: https://github.com/naszilla/tabzilla/issues/84\n",
    "    # \"If self.cat_tokenizer is\", # issue: https://github.com/naszilla/tabzilla/issues/84\n",
    "]\n",
    "\n",
    "\n",
    "for err_str in tmp_known_err_str:\n",
    "    print(f\"error type: {err_str}\")\n",
    "    print(f\"num of unique errors with this string: {len([e for e in unique_errors if err_str in e])} of {len(unique_errors)}\")\n"
   ]
  },
  {
   "cell_type": "code",
   "execution_count": 126,
   "metadata": {},
   "outputs": [
    {
     "name": "stdout",
     "output_type": "stream",
     "text": [
      "0 remaining errros\n"
     ]
    }
   ],
   "source": [
    "# what are the remaining errors?\n",
    "\n",
    "remaining_errors = [e for e in unique_errors if all([s not in e for s in tmp_known_err_str])]\n",
    "print(f\"{len(remaining_errors)} remaining errros\")"
   ]
  },
  {
   "attachments": {},
   "cell_type": "markdown",
   "metadata": {},
   "source": [
    "Done."
   ]
  },
  {
   "cell_type": "markdown",
   "metadata": {},
   "source": []
  }
 ],
 "metadata": {
  "kernelspec": {
   "display_name": "Python 3 (ipykernel)",
   "language": "python",
   "name": "python3"
  },
  "language_info": {
   "codemirror_mode": {
    "name": "ipython",
    "version": 3
   },
   "file_extension": ".py",
   "mimetype": "text/x-python",
   "name": "python",
   "nbconvert_exporter": "python",
   "pygments_lexer": "ipython3",
   "version": "3.7.12"
  },
  "orig_nbformat": 4,
  "vscode": {
   "interpreter": {
    "hash": "31f2aee4e71d21fbe5cf8b01ff0e069b9275f58929596ceb00d14d90e3e16cd6"
   }
  }
 },
 "nbformat": 4,
 "nbformat_minor": 2
}
