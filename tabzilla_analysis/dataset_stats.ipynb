{
 "cells": [
  {
   "cell_type": "code",
   "execution_count": 1,
   "metadata": {},
   "outputs": [],
   "source": [
    "# get tuned alg results for each split separately\n",
    "\n",
    "import pandas as pd\n",
    "import numpy as np\n",
    "\n",
    "metadataset_df = pd.read_csv(\"./results/tuned_fold_results.csv\")\n"
   ]
  },
  {
   "cell_type": "code",
   "execution_count": 2,
   "metadata": {},
   "outputs": [],
   "source": [
    "# read cleaned metafeatures file\n",
    "# keep_metafeatures_df = pd.read_csv(\"./results/cleaned_metafeatures.csv\", index_col=0)\n",
    "metafeatures_df = pd.read_csv(\"../TabSurvey/metafeatures.csv\")\n",
    "# all_feature_cols = [c for c in keep_metafeatures_df.columns if c.startswith(\"f__\")]\n",
    "\n",
    "# for f in all_feature_cols:\n",
    "#     if (keep_metafeatures_df.loc[:, f] > 0).all():\n",
    "#         keep_metafeatures_df.loc[:, f\"{f}_LOG\"] = np.log(keep_metafeatures_df.loc[:, f])\n",
    "\n",
    "# # drop cols that are all NaN\n",
    "\n",
    "# # keep_metafeatures_df.loc[keep_metafeatures_df.isna().sum() > 0, :]\n",
    "# na_feats = keep_metafeatures_df.isna().sum() == len(keep_metafeatures_df)\n",
    "# na_feat_names = list(na_feats[na_feats].index)\n",
    "# print(f\"dropping cols with only NA: {na_feat_names}\")\n",
    "# keep_metafeatures_df.drop(columns=na_feat_names, inplace=True)\n",
    "\n",
    "# # replace inf with something else\n",
    "# keep_metafeatures_df.replace([np.inf, -np.inf], 0.0, inplace=True)\n",
    "\n",
    "# all_feature_cols = [c for c in keep_metafeatures_df.columns if c.startswith(\"f__\") and ~c.endswith(\"LOG\")]\n",
    "# all_feature_cols_with_log = [c for c in keep_metafeatures_df.columns if c.startswith(\"f__\")]\n",
    "\n",
    "# # only keep some features\n",
    "# # all_feature_cols = [c for c in keep_metafeatures_df.columns if c.startswith(\"f__pymfe.info\") or c.startswith(\"f__pymfe.complexity\") or c.startswith(\"f__pymfe.statistical\") or c.startswith(\"f__pymfe.clustering\") or c.startswith(\"f__pymfe.general\")]\n",
    "\n",
    "\n",
    "# def simplify(x):\n",
    "#     return x.replace(\"statistical\", \"stat\").replace(\"model-based\", \"model\").replace(\"landmarking\", \"landmark\").replace(\"skewness\", \"skew\")\n",
    "\n",
    "# nice_feature_names = [simplify(f[len(\"f__pymfe.\"):]) for f in all_feature_cols]"
   ]
  },
  {
   "cell_type": "code",
   "execution_count": 10,
   "metadata": {},
   "outputs": [
    {
     "data": {
      "text/plain": [
       "array(['openml__gina_agnostic__3891', 'openml__scene__3485',\n",
       "       'openml__Devnagari-Script__167121', 'openml__isolet__3481',\n",
       "       'openml__CIFAR_10__167124', 'openml__riccardo__168338',\n",
       "       'openml__cnae-9__9981', 'openml__mnist_784__3573',\n",
       "       'openml__robert__168332', 'openml__madelon__9976',\n",
       "       'openml__fabert__168910', 'openml__christine__168908',\n",
       "       'openml__har__14970', 'openml__Bioresponse__9910',\n",
       "       'openml__philippine__190410', 'openml__guillermo__168337',\n",
       "       'openml__Fashion-MNIST__146825', 'openml__dilbert__168909'],\n",
       "      dtype=object)"
      ]
     },
     "execution_count": 10,
     "metadata": {},
     "output_type": "execute_result"
    }
   ],
   "source": [
    "x = metafeatures_df.loc[metafeatures_df[\"f__pymfe.general.nr_num\"] > 256, [\"dataset_name\", \"f__pymfe.general.nr_num\", \"f__pymfe.general.nr_cat\", \"f__pymfe.general.nr_bin\"]]\n",
    "\n",
    "x[\"dataset_name\"].str[:-8].unique()"
   ]
  },
  {
   "cell_type": "code",
   "execution_count": 52,
   "metadata": {},
   "outputs": [],
   "source": [
    "# merge features on those where we have results\n",
    "\n",
    "keep_datasets = metadataset_df.loc[:, \"dataset_fold_id\"].unique()\n",
    "df = metafeatures_df.loc[metafeatures_df[\"dataset_name\"].isin(keep_datasets), :]\n"
   ]
  },
  {
   "cell_type": "code",
   "execution_count": 86,
   "metadata": {},
   "outputs": [],
   "source": [
    "# find datasets excluded from this analysis\n",
    "\n",
    "dropped_datasets = list(set(metafeatures_df[\"dataset_name\"].unique()).difference(keep_datasets))"
   ]
  },
  {
   "cell_type": "code",
   "execution_count": 88,
   "metadata": {},
   "outputs": [
    {
     "name": "stdout",
     "output_type": "stream",
     "text": [
      "Devnagari-Script 167121\n",
      "wall-robot-navigation 9941\n",
      "albert 189356\n",
      "covertype 7593\n",
      "poker-hand 9890\n",
      "dionis 189355\n",
      "Census-Income 211985\n",
      "helena 359984\n",
      "helena 168329\n",
      "wilt 9914\n",
      "banknote-authentication 145834\n",
      "BNG(credit-a) 146047\n"
     ]
    }
   ],
   "source": [
    "dd = list(set([\" \".join(d.split(\"__\")[1:3]) for d in dropped_datasets]))\n",
    "\n",
    "# print these\n",
    "for d in dd:\n",
    "    print(d)"
   ]
  },
  {
   "cell_type": "code",
   "execution_count": 80,
   "metadata": {},
   "outputs": [],
   "source": [
    "# get general & stat features and calc stats"
   ]
  },
  {
   "cell_type": "code",
   "execution_count": 54,
   "metadata": {},
   "outputs": [],
   "source": [
    "summary_feats = [f for f in all_feature_cols if (\"statistical\" in f) or (\"general\" in f)]"
   ]
  },
  {
   "cell_type": "code",
   "execution_count": 55,
   "metadata": {},
   "outputs": [
    {
     "ename": "KeyError",
     "evalue": "\"['f__pymfe.statistical.var.quantiles.1_LOG', 'f__pymfe.general.freq_class.mean_LOG', 'f__pymfe.statistical.cov.max_LOG', 'f__pymfe.general.freq_class.min_LOG', 'f__pymfe.statistical.cor.mean_LOG', 'f__pymfe.statistical.can_cor.sd_LOG', 'f__pymfe.statistical.p_trace_LOG', 'f__pymfe.statistical.eigenvalues.histogram.9_LOG', 'f__pymfe.statistical.can_cor.quantiles.1_LOG', 'f__pymfe.statistical.roy_root_LOG', 'f__pymfe.statistical.eigenvalues.median_LOG', 'f__pymfe.general.freq_class.quantiles.1_LOG', 'f__pymfe.general.attr_to_inst_LOG', 'f__pymfe.statistical.cor.quantiles.1_LOG', 'f__pymfe.statistical.var.median_LOG', 'f__pymfe.general.nr_attr_LOG', 'f__pymfe.statistical.skewness.sd_LOG', 'f__pymfe.statistical.cor.max_LOG', 'f__pymfe.statistical.cor.sd_LOG', 'f__pymfe.general.freq_class.max_LOG', 'f__pymfe.statistical.can_cor.max_LOG', 'f__pymfe.general.nr_inst_LOG', 'f__pymfe.statistical.max.median_LOG', 'f__pymfe.statistical.sd.quantiles.1_LOG', 'f__pymfe.statistical.cov.median_LOG', 'f__pymfe.statistical.can_cor.quantiles.3_LOG', 'f__pymfe.general.freq_class.median_LOG', 'f__pymfe.statistical.eigenvalues.histogram.0_LOG', 'f__pymfe.statistical.kurtosis.sd_LOG', 'f__pymfe.general.freq_class.count_LOG', 'f__pymfe.statistical.sd.median_LOG', 'f__pymfe.statistical.can_cor.median_LOG', 'f__pymfe.statistical.cor.quantiles.3_LOG', 'f__pymfe.statistical.sd_ratio_LOG', 'f__pymfe.general.inst_to_attr_LOG', 'f__pymfe.statistical.cor.median_LOG', 'f__pymfe.statistical.can_cor.mean_LOG', 'f__pymfe.general.freq_class.quantiles.3_LOG', 'f__pymfe.statistical.lh_trace_LOG'] not in index\"",
     "output_type": "error",
     "traceback": [
      "\u001b[0;31m---------------------------------------------------------------------------\u001b[0m",
      "\u001b[0;31mKeyError\u001b[0m                                  Traceback (most recent call last)",
      "\u001b[0;32m/var/folders/mv/xx16lc8s74g35q1kd_93l7_w0000gn/T/ipykernel_49818/3702464514.py\u001b[0m in \u001b[0;36m<module>\u001b[0;34m\u001b[0m\n\u001b[0;32m----> 1\u001b[0;31m \u001b[0mdf\u001b[0m\u001b[0;34m[\u001b[0m\u001b[0msummary_feats\u001b[0m\u001b[0;34m]\u001b[0m\u001b[0;34m.\u001b[0m\u001b[0mdescribe\u001b[0m\u001b[0;34m(\u001b[0m\u001b[0;34m)\u001b[0m\u001b[0;34m\u001b[0m\u001b[0;34m\u001b[0m\u001b[0m\n\u001b[0m",
      "\u001b[0;32m~/miniconda3/lib/python3.7/site-packages/pandas/core/frame.py\u001b[0m in \u001b[0;36m__getitem__\u001b[0;34m(self, key)\u001b[0m\n\u001b[1;32m   2932\u001b[0m                 \u001b[0mkey\u001b[0m \u001b[0;34m=\u001b[0m \u001b[0mlist\u001b[0m\u001b[0;34m(\u001b[0m\u001b[0mkey\u001b[0m\u001b[0;34m)\u001b[0m\u001b[0;34m\u001b[0m\u001b[0;34m\u001b[0m\u001b[0m\n\u001b[1;32m   2933\u001b[0m             indexer = self.loc._convert_to_indexer(key, axis=1,\n\u001b[0;32m-> 2934\u001b[0;31m                                                    raise_missing=True)\n\u001b[0m\u001b[1;32m   2935\u001b[0m \u001b[0;34m\u001b[0m\u001b[0m\n\u001b[1;32m   2936\u001b[0m         \u001b[0;31m# take() does not accept boolean indexers\u001b[0m\u001b[0;34m\u001b[0m\u001b[0;34m\u001b[0m\u001b[0;34m\u001b[0m\u001b[0m\n",
      "\u001b[0;32m~/miniconda3/lib/python3.7/site-packages/pandas/core/indexing.py\u001b[0m in \u001b[0;36m_convert_to_indexer\u001b[0;34m(self, obj, axis, is_setter, raise_missing)\u001b[0m\n\u001b[1;32m   1352\u001b[0m                 kwargs = {'raise_missing': True if is_setter else\n\u001b[1;32m   1353\u001b[0m                           raise_missing}\n\u001b[0;32m-> 1354\u001b[0;31m                 \u001b[0;32mreturn\u001b[0m \u001b[0mself\u001b[0m\u001b[0;34m.\u001b[0m\u001b[0m_get_listlike_indexer\u001b[0m\u001b[0;34m(\u001b[0m\u001b[0mobj\u001b[0m\u001b[0;34m,\u001b[0m \u001b[0maxis\u001b[0m\u001b[0;34m,\u001b[0m \u001b[0;34m**\u001b[0m\u001b[0mkwargs\u001b[0m\u001b[0;34m)\u001b[0m\u001b[0;34m[\u001b[0m\u001b[0;36m1\u001b[0m\u001b[0;34m]\u001b[0m\u001b[0;34m\u001b[0m\u001b[0;34m\u001b[0m\u001b[0m\n\u001b[0m\u001b[1;32m   1355\u001b[0m         \u001b[0;32melse\u001b[0m\u001b[0;34m:\u001b[0m\u001b[0;34m\u001b[0m\u001b[0;34m\u001b[0m\u001b[0m\n\u001b[1;32m   1356\u001b[0m             \u001b[0;32mtry\u001b[0m\u001b[0;34m:\u001b[0m\u001b[0;34m\u001b[0m\u001b[0;34m\u001b[0m\u001b[0m\n",
      "\u001b[0;32m~/miniconda3/lib/python3.7/site-packages/pandas/core/indexing.py\u001b[0m in \u001b[0;36m_get_listlike_indexer\u001b[0;34m(self, key, axis, raise_missing)\u001b[0m\n\u001b[1;32m   1159\u001b[0m         self._validate_read_indexer(keyarr, indexer,\n\u001b[1;32m   1160\u001b[0m                                     \u001b[0mo\u001b[0m\u001b[0;34m.\u001b[0m\u001b[0m_get_axis_number\u001b[0m\u001b[0;34m(\u001b[0m\u001b[0maxis\u001b[0m\u001b[0;34m)\u001b[0m\u001b[0;34m,\u001b[0m\u001b[0;34m\u001b[0m\u001b[0;34m\u001b[0m\u001b[0m\n\u001b[0;32m-> 1161\u001b[0;31m                                     raise_missing=raise_missing)\n\u001b[0m\u001b[1;32m   1162\u001b[0m         \u001b[0;32mreturn\u001b[0m \u001b[0mkeyarr\u001b[0m\u001b[0;34m,\u001b[0m \u001b[0mindexer\u001b[0m\u001b[0;34m\u001b[0m\u001b[0;34m\u001b[0m\u001b[0m\n\u001b[1;32m   1163\u001b[0m \u001b[0;34m\u001b[0m\u001b[0m\n",
      "\u001b[0;32m~/miniconda3/lib/python3.7/site-packages/pandas/core/indexing.py\u001b[0m in \u001b[0;36m_validate_read_indexer\u001b[0;34m(self, key, indexer, axis, raise_missing)\u001b[0m\n\u001b[1;32m   1250\u001b[0m             \u001b[0;32mif\u001b[0m \u001b[0;32mnot\u001b[0m\u001b[0;34m(\u001b[0m\u001b[0mself\u001b[0m\u001b[0;34m.\u001b[0m\u001b[0mname\u001b[0m \u001b[0;34m==\u001b[0m \u001b[0;34m'loc'\u001b[0m \u001b[0;32mand\u001b[0m \u001b[0;32mnot\u001b[0m \u001b[0mraise_missing\u001b[0m\u001b[0;34m)\u001b[0m\u001b[0;34m:\u001b[0m\u001b[0;34m\u001b[0m\u001b[0;34m\u001b[0m\u001b[0m\n\u001b[1;32m   1251\u001b[0m                 \u001b[0mnot_found\u001b[0m \u001b[0;34m=\u001b[0m \u001b[0mlist\u001b[0m\u001b[0;34m(\u001b[0m\u001b[0mset\u001b[0m\u001b[0;34m(\u001b[0m\u001b[0mkey\u001b[0m\u001b[0;34m)\u001b[0m \u001b[0;34m-\u001b[0m \u001b[0mset\u001b[0m\u001b[0;34m(\u001b[0m\u001b[0max\u001b[0m\u001b[0;34m)\u001b[0m\u001b[0;34m)\u001b[0m\u001b[0;34m\u001b[0m\u001b[0;34m\u001b[0m\u001b[0m\n\u001b[0;32m-> 1252\u001b[0;31m                 \u001b[0;32mraise\u001b[0m \u001b[0mKeyError\u001b[0m\u001b[0;34m(\u001b[0m\u001b[0;34m\"{} not in index\"\u001b[0m\u001b[0;34m.\u001b[0m\u001b[0mformat\u001b[0m\u001b[0;34m(\u001b[0m\u001b[0mnot_found\u001b[0m\u001b[0;34m)\u001b[0m\u001b[0;34m)\u001b[0m\u001b[0;34m\u001b[0m\u001b[0;34m\u001b[0m\u001b[0m\n\u001b[0m\u001b[1;32m   1253\u001b[0m \u001b[0;34m\u001b[0m\u001b[0m\n\u001b[1;32m   1254\u001b[0m             \u001b[0;31m# we skip the warning on Categorical/Interval\u001b[0m\u001b[0;34m\u001b[0m\u001b[0;34m\u001b[0m\u001b[0;34m\u001b[0m\u001b[0m\n",
      "\u001b[0;31mKeyError\u001b[0m: \"['f__pymfe.statistical.var.quantiles.1_LOG', 'f__pymfe.general.freq_class.mean_LOG', 'f__pymfe.statistical.cov.max_LOG', 'f__pymfe.general.freq_class.min_LOG', 'f__pymfe.statistical.cor.mean_LOG', 'f__pymfe.statistical.can_cor.sd_LOG', 'f__pymfe.statistical.p_trace_LOG', 'f__pymfe.statistical.eigenvalues.histogram.9_LOG', 'f__pymfe.statistical.can_cor.quantiles.1_LOG', 'f__pymfe.statistical.roy_root_LOG', 'f__pymfe.statistical.eigenvalues.median_LOG', 'f__pymfe.general.freq_class.quantiles.1_LOG', 'f__pymfe.general.attr_to_inst_LOG', 'f__pymfe.statistical.cor.quantiles.1_LOG', 'f__pymfe.statistical.var.median_LOG', 'f__pymfe.general.nr_attr_LOG', 'f__pymfe.statistical.skewness.sd_LOG', 'f__pymfe.statistical.cor.max_LOG', 'f__pymfe.statistical.cor.sd_LOG', 'f__pymfe.general.freq_class.max_LOG', 'f__pymfe.statistical.can_cor.max_LOG', 'f__pymfe.general.nr_inst_LOG', 'f__pymfe.statistical.max.median_LOG', 'f__pymfe.statistical.sd.quantiles.1_LOG', 'f__pymfe.statistical.cov.median_LOG', 'f__pymfe.statistical.can_cor.quantiles.3_LOG', 'f__pymfe.general.freq_class.median_LOG', 'f__pymfe.statistical.eigenvalues.histogram.0_LOG', 'f__pymfe.statistical.kurtosis.sd_LOG', 'f__pymfe.general.freq_class.count_LOG', 'f__pymfe.statistical.sd.median_LOG', 'f__pymfe.statistical.can_cor.median_LOG', 'f__pymfe.statistical.cor.quantiles.3_LOG', 'f__pymfe.statistical.sd_ratio_LOG', 'f__pymfe.general.inst_to_attr_LOG', 'f__pymfe.statistical.cor.median_LOG', 'f__pymfe.statistical.can_cor.mean_LOG', 'f__pymfe.general.freq_class.quantiles.3_LOG', 'f__pymfe.statistical.lh_trace_LOG'] not in index\""
     ]
    }
   ],
   "source": [
    "df[summary_feats].describe()"
   ]
  },
  {
   "cell_type": "code",
   "execution_count": 56,
   "metadata": {},
   "outputs": [
    {
     "data": {
      "text/plain": [
       "['f__pymfe.general.freq_class.count',\n",
       " 'f__pymfe.general.freq_class.histogram.0',\n",
       " 'f__pymfe.general.freq_class.histogram.1',\n",
       " 'f__pymfe.general.freq_class.histogram.2',\n",
       " 'f__pymfe.general.freq_class.histogram.3',\n",
       " 'f__pymfe.general.freq_class.histogram.4',\n",
       " 'f__pymfe.general.freq_class.histogram.5',\n",
       " 'f__pymfe.general.freq_class.histogram.6',\n",
       " 'f__pymfe.general.freq_class.histogram.7',\n",
       " 'f__pymfe.general.freq_class.histogram.8',\n",
       " 'f__pymfe.general.freq_class.histogram.9',\n",
       " 'f__pymfe.general.freq_class.iq_range',\n",
       " 'f__pymfe.general.freq_class.kurtosis',\n",
       " 'f__pymfe.general.freq_class.max',\n",
       " 'f__pymfe.general.freq_class.mean',\n",
       " 'f__pymfe.general.freq_class.median',\n",
       " 'f__pymfe.general.freq_class.min',\n",
       " 'f__pymfe.general.freq_class.quantiles.1',\n",
       " 'f__pymfe.general.freq_class.quantiles.3',\n",
       " 'f__pymfe.general.freq_class.range',\n",
       " 'f__pymfe.general.freq_class.sd',\n",
       " 'f__pymfe.general.freq_class.skewness',\n",
       " 'f__pymfe.general.freq_class.count_LOG',\n",
       " 'f__pymfe.general.freq_class.max_LOG',\n",
       " 'f__pymfe.general.freq_class.mean_LOG',\n",
       " 'f__pymfe.general.freq_class.median_LOG',\n",
       " 'f__pymfe.general.freq_class.min_LOG',\n",
       " 'f__pymfe.general.freq_class.quantiles.1_LOG',\n",
       " 'f__pymfe.general.freq_class.quantiles.3_LOG']"
      ]
     },
     "execution_count": 56,
     "metadata": {},
     "output_type": "execute_result"
    }
   ],
   "source": [
    "[c for c in summary_feats if \"clas\" in c]"
   ]
  },
  {
   "cell_type": "code",
   "execution_count": 60,
   "metadata": {},
   "outputs": [],
   "source": [
    "keep_summary_feats = [\n",
    "    \"f__pymfe.general.nr_inst\",\n",
    "    \"f__pymfe.general.nr_attr\",\n",
    "    \"f__pymfe.general.nr_class\",\n",
    "    \"f__pymfe.general.nr_num\",\n",
    "    \"f__pymfe.general.nr_bin\",\n",
    "    \"f__pymfe.general.nr_cat\",\n",
    "    \"f__pymfe.general.attr_to_inst\",\n",
    "    \"f__pymfe.general.cat_to_num\",\n",
    "]\n",
    "\n",
    "keep_summary_feats_names = [\n",
    "\"Num. Instances\",\n",
    "        \"Num. Features\",\n",
    "    \"Num. Classes\",\n",
    "\"Numerical\",\n",
    "    \"Binary\",\n",
    "    \"Cat.\",\n",
    "    \"Feats-To-Instances. Ratio\",\n",
    "    \"Cat.-To-Numerical Features Ratio\",\n",
    "]"
   ]
  },
  {
   "cell_type": "code",
   "execution_count": 70,
   "metadata": {},
   "outputs": [],
   "source": [
    "x = df[keep_summary_feats].describe() #.to_latex()\n",
    "x.columns = keep_summary_feats_names\n",
    "\n",
    "with open(\"dataset_stats.tex\", \"w\") as f:\n",
    "    x.to_latex(f, float_format=\"%.1f\")"
   ]
  },
  {
   "cell_type": "code",
   "execution_count": null,
   "metadata": {},
   "outputs": [],
   "source": []
  }
 ],
 "metadata": {
  "kernelspec": {
   "display_name": "base",
   "language": "python",
   "name": "python3"
  },
  "language_info": {
   "codemirror_mode": {
    "name": "ipython",
    "version": 3
   },
   "file_extension": ".py",
   "mimetype": "text/x-python",
   "name": "python",
   "nbconvert_exporter": "python",
   "pygments_lexer": "ipython3",
   "version": "3.7.9"
  },
  "orig_nbformat": 4,
  "vscode": {
   "interpreter": {
    "hash": "367a26e3fad5ec8f1d0bebe9545860115b1157dbd92bed67faee9b31d4dbfaa5"
   }
  }
 },
 "nbformat": 4,
 "nbformat_minor": 2
}
