{
 "cells": [
  {
   "attachments": {},
   "cell_type": "markdown",
   "metadata": {},
   "source": [
    "# Review errors in the results files `metadataset_errors*.csv` for GPU-algs-1"
   ]
  },
  {
   "cell_type": "code",
   "execution_count": 1,
   "metadata": {},
   "outputs": [
    {
     "data": {
      "text/html": [
       "<div>\n",
       "<style scoped>\n",
       "    .dataframe tbody tr th:only-of-type {\n",
       "        vertical-align: middle;\n",
       "    }\n",
       "\n",
       "    .dataframe tbody tr th {\n",
       "        vertical-align: top;\n",
       "    }\n",
       "\n",
       "    .dataframe thead th {\n",
       "        text-align: right;\n",
       "    }\n",
       "</style>\n",
       "<table border=\"1\" class=\"dataframe\">\n",
       "  <thead>\n",
       "    <tr style=\"text-align: right;\">\n",
       "      <th></th>\n",
       "      <th>results_bucket_path</th>\n",
       "      <th>dataset_name</th>\n",
       "      <th>alg_name</th>\n",
       "      <th>hparam_source</th>\n",
       "      <th>trial_number</th>\n",
       "      <th>alg_hparam_id</th>\n",
       "      <th>exp_name</th>\n",
       "      <th>exception</th>\n",
       "    </tr>\n",
       "  </thead>\n",
       "  <tbody>\n",
       "    <tr>\n",
       "      <th>30</th>\n",
       "      <td>results/openml__APSFailure__168868/TabNet/gpu-...</td>\n",
       "      <td>openml__APSFailure__168868</td>\n",
       "      <td>TabNet</td>\n",
       "      <td>random_2_s0</td>\n",
       "      <td>2</td>\n",
       "      <td>TabNet__seed_0__trial_2</td>\n",
       "      <td>gpu-expt-a_092222_065049_7185.zip</td>\n",
       "      <td>Traceback (most recent call last):\\n  File \"/h...</td>\n",
       "    </tr>\n",
       "    <tr>\n",
       "      <th>31</th>\n",
       "      <td>results/openml__APSFailure__168868/TabNet/gpu-...</td>\n",
       "      <td>openml__APSFailure__168868</td>\n",
       "      <td>TabNet</td>\n",
       "      <td>random_4_s0</td>\n",
       "      <td>4</td>\n",
       "      <td>TabNet__seed_0__trial_4</td>\n",
       "      <td>gpu-expt-a_092222_065049_7185.zip</td>\n",
       "      <td>Traceback (most recent call last):\\n  File \"/h...</td>\n",
       "    </tr>\n",
       "    <tr>\n",
       "      <th>32</th>\n",
       "      <td>results/openml__APSFailure__168868/VIME/gpu-ex...</td>\n",
       "      <td>openml__APSFailure__168868</td>\n",
       "      <td>VIME</td>\n",
       "      <td>default</td>\n",
       "      <td>0</td>\n",
       "      <td>VIME__seed_0__trial_0</td>\n",
       "      <td>gpu-expt-a_092422_190242_be2c.zip</td>\n",
       "      <td>Traceback (most recent call last):\\n  File \"/h...</td>\n",
       "    </tr>\n",
       "    <tr>\n",
       "      <th>33</th>\n",
       "      <td>results/openml__APSFailure__168868/VIME/gpu-ex...</td>\n",
       "      <td>openml__APSFailure__168868</td>\n",
       "      <td>VIME</td>\n",
       "      <td>random_1_s0</td>\n",
       "      <td>1</td>\n",
       "      <td>VIME__seed_0__trial_1</td>\n",
       "      <td>gpu-expt-a_092422_190242_be2c.zip</td>\n",
       "      <td>Traceback (most recent call last):\\n  File \"/h...</td>\n",
       "    </tr>\n",
       "    <tr>\n",
       "      <th>34</th>\n",
       "      <td>results/openml__APSFailure__168868/VIME/gpu-ex...</td>\n",
       "      <td>openml__APSFailure__168868</td>\n",
       "      <td>VIME</td>\n",
       "      <td>random_2_s0</td>\n",
       "      <td>2</td>\n",
       "      <td>VIME__seed_0__trial_2</td>\n",
       "      <td>gpu-expt-a_092422_190242_be2c.zip</td>\n",
       "      <td>Traceback (most recent call last):\\n  File \"/h...</td>\n",
       "    </tr>\n",
       "  </tbody>\n",
       "</table>\n",
       "</div>"
      ],
      "text/plain": [
       "                                  results_bucket_path  \\\n",
       "30  results/openml__APSFailure__168868/TabNet/gpu-...   \n",
       "31  results/openml__APSFailure__168868/TabNet/gpu-...   \n",
       "32  results/openml__APSFailure__168868/VIME/gpu-ex...   \n",
       "33  results/openml__APSFailure__168868/VIME/gpu-ex...   \n",
       "34  results/openml__APSFailure__168868/VIME/gpu-ex...   \n",
       "\n",
       "                  dataset_name alg_name hparam_source  trial_number  \\\n",
       "30  openml__APSFailure__168868   TabNet   random_2_s0             2   \n",
       "31  openml__APSFailure__168868   TabNet   random_4_s0             4   \n",
       "32  openml__APSFailure__168868     VIME       default             0   \n",
       "33  openml__APSFailure__168868     VIME   random_1_s0             1   \n",
       "34  openml__APSFailure__168868     VIME   random_2_s0             2   \n",
       "\n",
       "              alg_hparam_id                           exp_name  \\\n",
       "30  TabNet__seed_0__trial_2  gpu-expt-a_092222_065049_7185.zip   \n",
       "31  TabNet__seed_0__trial_4  gpu-expt-a_092222_065049_7185.zip   \n",
       "32    VIME__seed_0__trial_0  gpu-expt-a_092422_190242_be2c.zip   \n",
       "33    VIME__seed_0__trial_1  gpu-expt-a_092422_190242_be2c.zip   \n",
       "34    VIME__seed_0__trial_2  gpu-expt-a_092422_190242_be2c.zip   \n",
       "\n",
       "                                            exception  \n",
       "30  Traceback (most recent call last):\\n  File \"/h...  \n",
       "31  Traceback (most recent call last):\\n  File \"/h...  \n",
       "32  Traceback (most recent call last):\\n  File \"/h...  \n",
       "33  Traceback (most recent call last):\\n  File \"/h...  \n",
       "34  Traceback (most recent call last):\\n  File \"/h...  "
      ]
     },
     "execution_count": 1,
     "metadata": {},
     "output_type": "execute_result"
    }
   ],
   "source": [
    "import pandas as pd\n",
    "\n",
    "errors_df = pd.read_csv(\"/home/shared/tabzilla/TabSurvey/metadataset_errors.csv\")\n",
    "\n",
    "# filter by experiment\n",
    "errors_df = errors_df.loc[errors_df[\"exp_name\"].str.contains(\"algs-gpu-1\") | errors_df[\"exp_name\"].str.contains(\"gpu-expt\")]\n",
    "\n",
    "errors_df.head()"
   ]
  },
  {
   "cell_type": "code",
   "execution_count": 2,
   "metadata": {},
   "outputs": [
    {
     "name": "stdout",
     "output_type": "stream",
     "text": [
      "errors by dataset:\n",
      " openml__solar-flare__2068                  150\n",
      "openml__Census-Income__168340               76\n",
      "openml__poker-hand__9890                    75\n",
      "openml__ldpa__9974                          75\n",
      "openml__walking-activity__9945              74\n",
      "                                          ... \n",
      "openml__bank-marketing__14965                2\n",
      "openml__adult__7592                          2\n",
      "openml__letter__6                            1\n",
      "openml__christine__168908                    1\n",
      "openml__Internet-Advertisements__167125      1\n",
      "Name: dataset_name, Length: 119, dtype: int64\n"
     ]
    }
   ],
   "source": [
    "# how many errors by dataset?\n",
    "print(f\"errors by dataset:\\n {errors_df['dataset_name'].value_counts()}\")"
   ]
  },
  {
   "cell_type": "code",
   "execution_count": 3,
   "metadata": {},
   "outputs": [
    {
     "name": "stdout",
     "output_type": "stream",
     "text": [
      "errors by alg:\n",
      " VIME        2634\n",
      "MLP         2520\n",
      "TabNet       154\n",
      "CatBoost     122\n",
      "XGBoost       13\n",
      "Name: alg_name, dtype: int64\n"
     ]
    }
   ],
   "source": [
    "# by alg...\n",
    "print(f\"errors by alg:\\n {errors_df['alg_name'].value_counts()}\")"
   ]
  },
  {
   "cell_type": "code",
   "execution_count": 4,
   "metadata": {},
   "outputs": [],
   "source": [
    "known_err_str = [\n",
    "    \"RuntimeError: CUDA out of memory.\",\n",
    "    \"CUDA error: invalid configuration argument\",\n",
    "    \"TimeoutException\",  # our timeout exception\n",
    "    \"Cannot allocate memory\",\n",
    "]"
   ]
  },
  {
   "cell_type": "markdown",
   "metadata": {},
   "source": [
    "# Triage errors by alg"
   ]
  },
  {
   "cell_type": "code",
   "execution_count": 5,
   "metadata": {},
   "outputs": [],
   "source": [
    "errors_by_alg = {}\n",
    "for alg_name in errors_df[\"alg_name\"].unique():\n",
    "    errors_by_alg[alg_name] = errors_df.loc[errors_df[\"alg_name\"] == alg_name, \"exception\"].values"
   ]
  },
  {
   "attachments": {},
   "cell_type": "markdown",
   "metadata": {},
   "source": [
    "## VIME"
   ]
  },
  {
   "cell_type": "code",
   "execution_count": 6,
   "metadata": {},
   "outputs": [
    {
     "name": "stdout",
     "output_type": "stream",
     "text": [
      "number of errors for alg VIME: 2634\n",
      "number of unique errors: 21\n"
     ]
    }
   ],
   "source": [
    "alg_name = \"VIME\"\n",
    "\n",
    "print(f\"number of errors for alg {alg_name}: {len(errors_by_alg[alg_name])}\")\n",
    "print(f\"number of unique errors: {len(set(errors_by_alg[alg_name]))}\")\n",
    "\n",
    "unique_errors = list(set(errors_by_alg[alg_name]))\n"
   ]
  },
  {
   "cell_type": "code",
   "execution_count": 7,
   "metadata": {},
   "outputs": [
    {
     "name": "stdout",
     "output_type": "stream",
     "text": [
      "error type: RuntimeError: CUDA out of memory.\n",
      "num of unique errors with this string: 0 of 21\n",
      "error type: CUDA error: invalid configuration argument\n",
      "num of unique errors with this string: 0 of 21\n",
      "error type: TimeoutException\n",
      "num of unique errors with this string: 17 of 21\n",
      "error type: Cannot allocate memory\n",
      "num of unique errors with this string: 2 of 21\n",
      "error type: Target size\n",
      "num of unique errors with this string: 1 of 21\n"
     ]
    }
   ],
   "source": [
    "# get some known errors out of the way\n",
    "\n",
    "tmp_known_err_str = known_err_str + [\n",
    "    \"Target size\",  # issue https://github.com/naszilla/tabzilla/issues/85\n",
    "]\n",
    "\n",
    "for err_str in tmp_known_err_str:\n",
    "    print(f\"error type: {err_str}\")\n",
    "    print(f\"num of unique errors with this string: {len([e for e in unique_errors if err_str in e])} of {len(unique_errors)}\")\n"
   ]
  },
  {
   "cell_type": "code",
   "execution_count": 8,
   "metadata": {},
   "outputs": [],
   "source": [
    "# what are the remaining errors?\n",
    "\n",
    "remaining_errors = [e for e in unique_errors if all([s not in e for s in tmp_known_err_str])]"
   ]
  },
  {
   "cell_type": "code",
   "execution_count": 9,
   "metadata": {},
   "outputs": [
    {
     "name": "stdout",
     "output_type": "stream",
     "text": [
      "1 remaining errors\n"
     ]
    }
   ],
   "source": [
    "print(f\"{len(remaining_errors)} remaining errors\")"
   ]
  },
  {
   "cell_type": "code",
   "execution_count": 10,
   "metadata": {},
   "outputs": [
    {
     "name": "stdout",
     "output_type": "stream",
     "text": [
      "Traceback (most recent call last):\n",
      "  File \"/home/shared/tabzilla/TabSurvey/tabzilla_experiment.py\", line 137, in __call__\n",
      "    result = cross_validation(model, self.dataset, self.time_limit)\n",
      "  File \"/home/shared/tabzilla/TabSurvey/tabzilla_utils.py\", line 237, in cross_validation\n",
      "    loss_history, val_loss_history = curr_model.fit(\n",
      "  File \"/home/shared/tabzilla/TabSurvey/models/vime.py\", line 47, in fit\n",
      "    self.fit_self(X_unlab, p_m=self.params[\"p_m\"], alpha=self.params[\"alpha\"])\n",
      "  File \"/home/shared/tabzilla/TabSurvey/models/vime.py\", line 151, in fit_self\n",
      "    loss_mask = loss_func_mask(out_mask, batch_mask.to(self.device))\n",
      "  File \"/opt/conda/envs/torch/lib/python3.10/site-packages/torch/nn/modules/module.py\", line 1110, in _call_impl\n",
      "    return forward_call(*input, **kwargs)\n",
      "  File \"/opt/conda/envs/torch/lib/python3.10/site-packages/torch/nn/modules/loss.py\", line 612, in forward\n",
      "    return F.binary_cross_entropy(input, target, weight=self.weight, reduction=self.reduction)\n",
      "  File \"/opt/conda/envs/torch/lib/python3.10/site-packages/torch/nn/functional.py\", line 3065, in binary_cross_entropy\n",
      "    return torch._C._nn.binary_cross_entropy(input, target, weight, reduction_enum)\n",
      "RuntimeError: Expected all tensors to be on the same device, but found at least two devices, cuda:0 and cpu!\n",
      "\n"
     ]
    }
   ],
   "source": [
    "print(remaining_errors[0])"
   ]
  },
  {
   "cell_type": "code",
   "execution_count": 11,
   "metadata": {},
   "outputs": [
    {
     "name": "stdout",
     "output_type": "stream",
     "text": [
      "number of Expected errors: 2460\n",
      "algs: VIME    2460\n",
      "Name: alg_name, dtype: int64\n",
      "datasets: openml__Census-Income__168340       30\n",
      "openml__nursery__9892               30\n",
      "openml__mushroom__24                30\n",
      "openml__monks-problems-2__146065    30\n",
      "openml__meta__4729                  30\n",
      "                                    ..\n",
      "openml__colic__25                   30\n",
      "openml__cleveland__2285             30\n",
      "openml__cjs__14967                  30\n",
      "openml__chscase_foot__5012          30\n",
      "openml__yeast__145793               30\n",
      "Name: dataset_name, Length: 82, dtype: int64\n"
     ]
    }
   ],
   "source": [
    "err_str = \"Expected all\"\n",
    "print(f\"number of Expected errors: {len([e for e in errors_by_alg[alg_name] if err_str in e])}\")\n",
    "\n",
    "# which algs?\n",
    "print(f\"algs: {errors_df[errors_df['exception'].str.contains(err_str)]['alg_name'].value_counts()}\")\n",
    "\n",
    "# which datasets?\n",
    "print(f\"datasets: {errors_df[errors_df['exception'].str.contains(err_str)]['dataset_name'].value_counts()}\")\n"
   ]
  },
  {
   "attachments": {},
   "cell_type": "markdown",
   "metadata": {},
   "source": [
    "Note - this was probably a bug with the experiments, "
   ]
  },
  {
   "attachments": {},
   "cell_type": "markdown",
   "metadata": {},
   "source": [
    "# MLP"
   ]
  },
  {
   "cell_type": "code",
   "execution_count": 12,
   "metadata": {},
   "outputs": [
    {
     "name": "stdout",
     "output_type": "stream",
     "text": [
      "number of errors for alg MLP: 2520\n",
      "number of unique errors: 3\n"
     ]
    }
   ],
   "source": [
    "alg_name = \"MLP\"\n",
    "\n",
    "print(f\"number of errors for alg {alg_name}: {len(errors_by_alg[alg_name])}\")\n",
    "print(f\"number of unique errors: {len(set(errors_by_alg[alg_name]))}\")\n",
    "\n",
    "unique_errors = list(set(errors_by_alg[alg_name]))\n"
   ]
  },
  {
   "cell_type": "code",
   "execution_count": 13,
   "metadata": {},
   "outputs": [
    {
     "name": "stdout",
     "output_type": "stream",
     "text": [
      "error type: RuntimeError: CUDA out of memory.\n",
      "num of unique errors with this string: 0 of 3\n",
      "error type: CUDA error: invalid configuration argument\n",
      "num of unique errors with this string: 0 of 3\n",
      "error type: TimeoutException\n",
      "num of unique errors with this string: 0 of 3\n",
      "error type: Cannot allocate memory\n",
      "num of unique errors with this string: 1 of 3\n",
      "error type: Target size\n",
      "num of unique errors with this string: 1 of 3\n"
     ]
    }
   ],
   "source": [
    "# get some known errors out of the way\n",
    "\n",
    "tmp_known_err_str = known_err_str + [\n",
    "    \"Target size\",  # issue https://github.com/naszilla/tabzilla/issues/85\n",
    "]\n",
    "\n",
    "for err_str in tmp_known_err_str:\n",
    "    print(f\"error type: {err_str}\")\n",
    "    print(f\"num of unique errors with this string: {len([e for e in unique_errors if err_str in e])} of {len(unique_errors)}\")\n"
   ]
  },
  {
   "cell_type": "code",
   "execution_count": 14,
   "metadata": {},
   "outputs": [],
   "source": [
    "# what are the remaining errors?\n",
    "\n",
    "remaining_errors = [e for e in unique_errors if all([s not in e for s in tmp_known_err_str])]"
   ]
  },
  {
   "cell_type": "code",
   "execution_count": 15,
   "metadata": {},
   "outputs": [
    {
     "data": {
      "text/plain": [
       "1"
      ]
     },
     "execution_count": 15,
     "metadata": {},
     "output_type": "execute_result"
    }
   ],
   "source": [
    "len(remaining_errors)"
   ]
  },
  {
   "cell_type": "code",
   "execution_count": 16,
   "metadata": {},
   "outputs": [
    {
     "name": "stdout",
     "output_type": "stream",
     "text": [
      "Traceback (most recent call last):\n",
      "  File \"/home/shared/tabzilla/TabSurvey/tabzilla_experiment.py\", line 137, in __call__\n",
      "    result = cross_validation(model, self.dataset, self.time_limit)\n",
      "  File \"/home/shared/tabzilla/TabSurvey/tabzilla_utils.py\", line 237, in cross_validation\n",
      "    loss_history, val_loss_history = curr_model.fit(\n",
      "  File \"/home/shared/tabzilla/TabSurvey/models/mlp.py\", line 31, in fit\n",
      "    return super().fit(X, y, X_val, y_val)\n",
      "  File \"/home/shared/tabzilla/TabSurvey/models/basemodel_torch.py\", line 94, in fit\n",
      "    out = self.model(batch_X.to(self.device))\n",
      "  File \"/opt/conda/envs/torch/lib/python3.10/site-packages/torch/nn/modules/module.py\", line 1110, in _call_impl\n",
      "    return forward_call(*input, **kwargs)\n",
      "  File \"/opt/conda/envs/torch/lib/python3.10/site-packages/torch/nn/parallel/data_parallel.py\", line 154, in forward\n",
      "    raise RuntimeError(\"module must have its parameters and buffers \"\n",
      "RuntimeError: module must have its parameters and buffers on device cuda:0 (device_ids[0]) but found one of them on device: cpu\n",
      "\n"
     ]
    }
   ],
   "source": [
    "print(remaining_errors[0])"
   ]
  },
  {
   "attachments": {},
   "cell_type": "markdown",
   "metadata": {},
   "source": [
    "This was a bug in an experiment, not with the implementation."
   ]
  },
  {
   "attachments": {},
   "cell_type": "markdown",
   "metadata": {},
   "source": [
    "# TabNet"
   ]
  },
  {
   "cell_type": "code",
   "execution_count": 17,
   "metadata": {},
   "outputs": [
    {
     "name": "stdout",
     "output_type": "stream",
     "text": [
      "number of errors for alg TabNet: 154\n",
      "number of unique errors: 17\n"
     ]
    }
   ],
   "source": [
    "alg_name = \"TabNet\"\n",
    "\n",
    "print(f\"number of errors for alg {alg_name}: {len(errors_by_alg[alg_name])}\")\n",
    "print(f\"number of unique errors: {len(set(errors_by_alg[alg_name]))}\")\n",
    "\n",
    "unique_errors = list(set(errors_by_alg[alg_name]))\n"
   ]
  },
  {
   "cell_type": "code",
   "execution_count": 18,
   "metadata": {},
   "outputs": [
    {
     "name": "stdout",
     "output_type": "stream",
     "text": [
      "error type: RuntimeError: CUDA out of memory.\n",
      "num of unique errors with this string: 0 of 17\n",
      "error type: CUDA error: invalid configuration argument\n",
      "num of unique errors with this string: 0 of 17\n",
      "error type: TimeoutException\n",
      "num of unique errors with this string: 16 of 17\n",
      "error type: Cannot allocate memory\n",
      "num of unique errors with this string: 0 of 17\n"
     ]
    }
   ],
   "source": [
    "# get some known errors out of the way\n",
    "\n",
    "for err_str in known_err_str:\n",
    "    print(f\"error type: {err_str}\")\n",
    "    print(f\"num of unique errors with this string: {len([e for e in unique_errors if err_str in e])} of {len(unique_errors)}\")\n"
   ]
  },
  {
   "cell_type": "code",
   "execution_count": 19,
   "metadata": {},
   "outputs": [],
   "source": [
    "# what are the remaining errors?\n",
    "\n",
    "remaining_errors = [e for e in unique_errors if all([s not in e for s in known_err_str])]"
   ]
  },
  {
   "cell_type": "code",
   "execution_count": 20,
   "metadata": {},
   "outputs": [
    {
     "name": "stdout",
     "output_type": "stream",
     "text": [
      "1 remaining errros\n"
     ]
    }
   ],
   "source": [
    "print(f\"{len(remaining_errors)} remaining errros\")"
   ]
  },
  {
   "cell_type": "code",
   "execution_count": 21,
   "metadata": {},
   "outputs": [
    {
     "name": "stdout",
     "output_type": "stream",
     "text": [
      "Traceback (most recent call last):\n",
      "  File \"/home/shared/tabzilla/TabSurvey/tabzilla_experiment.py\", line 136, in __call__\n",
      "    result = cross_validation(model, self.dataset, self.time_limit)\n",
      "  File \"/home/shared/tabzilla/TabSurvey/tabzilla_utils.py\", line 237, in cross_validation\n",
      "    loss_history, val_loss_history = curr_model.fit(\n",
      "  File \"/home/shared/tabzilla/TabSurvey/models/tabnet.py\", line 45, in fit\n",
      "    self.model.fit(\n",
      "  File \"/opt/conda/envs/torch/lib/python3.10/site-packages/pytorch_tabnet/abstract_model.py\", line 223, in fit\n",
      "    self._train_epoch(train_dataloader)\n",
      "  File \"/opt/conda/envs/torch/lib/python3.10/site-packages/pytorch_tabnet/abstract_model.py\", line 434, in _train_epoch\n",
      "    batch_logs = self._train_batch(X, y)\n",
      "  File \"/opt/conda/envs/torch/lib/python3.10/site-packages/pytorch_tabnet/abstract_model.py\", line 469, in _train_batch\n",
      "    output, M_loss = self.network(X)\n",
      "  File \"/opt/conda/envs/torch/lib/python3.10/site-packages/torch/nn/modules/module.py\", line 1110, in _call_impl\n",
      "    return forward_call(*input, **kwargs)\n",
      "  File \"/opt/conda/envs/torch/lib/python3.10/site-packages/pytorch_tabnet/tab_network.py\", line 583, in forward\n",
      "    return self.tabnet(x)\n",
      "  File \"/opt/conda/envs/torch/lib/python3.10/site-packages/torch/nn/modules/module.py\", line 1110, in _call_impl\n",
      "    return forward_call(*input, **kwargs)\n",
      "  File \"/opt/conda/envs/torch/lib/python3.10/site-packages/pytorch_tabnet/tab_network.py\", line 468, in forward\n",
      "    steps_output, M_loss = self.encoder(x)\n",
      "  File \"/opt/conda/envs/torch/lib/python3.10/site-packages/torch/nn/modules/module.py\", line 1110, in _call_impl\n",
      "    return forward_call(*input, **kwargs)\n",
      "  File \"/opt/conda/envs/torch/lib/python3.10/site-packages/pytorch_tabnet/tab_network.py\", line 150, in forward\n",
      "    x = self.initial_bn(x)\n",
      "  File \"/opt/conda/envs/torch/lib/python3.10/site-packages/torch/nn/modules/module.py\", line 1110, in _call_impl\n",
      "    return forward_call(*input, **kwargs)\n",
      "  File \"/opt/conda/envs/torch/lib/python3.10/site-packages/torch/nn/modules/batchnorm.py\", line 168, in forward\n",
      "    return F.batch_norm(\n",
      "  File \"/opt/conda/envs/torch/lib/python3.10/site-packages/torch/nn/functional.py\", line 2419, in batch_norm\n",
      "    _verify_batch_size(input.size())\n",
      "  File \"/opt/conda/envs/torch/lib/python3.10/site-packages/torch/nn/functional.py\", line 2387, in _verify_batch_size\n",
      "    raise ValueError(\"Expected more than 1 value per channel when training, got input size {}\".format(size))\n",
      "ValueError: Expected more than 1 value per channel when training, got input size torch.Size([1, 6])\n",
      "\n"
     ]
    }
   ],
   "source": [
    "print(remaining_errors[0])"
   ]
  },
  {
   "cell_type": "code",
   "execution_count": 22,
   "metadata": {},
   "outputs": [
    {
     "name": "stdout",
     "output_type": "stream",
     "text": [
      "number of Expected errors: 30\n",
      "algs: TabNet    30\n",
      "Name: alg_name, dtype: int64\n",
      "datasets: openml__sulfur__360966    30\n",
      "Name: dataset_name, dtype: int64\n"
     ]
    }
   ],
   "source": [
    "err_str = \"Expected more than\"\n",
    "print(f\"number of Expected errors: {len([e for e in errors_by_alg[alg_name] if err_str in e])}\")\n",
    "\n",
    "# which algs?\n",
    "print(f\"algs: {errors_df[errors_df['exception'].str.contains(err_str)]['alg_name'].value_counts()}\")\n",
    "\n",
    "# which datasets?\n",
    "print(f\"datasets: {errors_df[errors_df['exception'].str.contains(err_str)]['dataset_name'].value_counts()}\")\n"
   ]
  },
  {
   "attachments": {},
   "cell_type": "markdown",
   "metadata": {},
   "source": [
    "# CatBoost"
   ]
  },
  {
   "cell_type": "code",
   "execution_count": 23,
   "metadata": {},
   "outputs": [
    {
     "name": "stdout",
     "output_type": "stream",
     "text": [
      "number of errors for alg CatBoost: 122\n",
      "number of unique errors: 11\n"
     ]
    }
   ],
   "source": [
    "alg_name = \"CatBoost\"\n",
    "\n",
    "print(f\"number of errors for alg {alg_name}: {len(errors_by_alg[alg_name])}\")\n",
    "print(f\"number of unique errors: {len(set(errors_by_alg[alg_name]))}\")\n",
    "\n",
    "unique_errors = list(set(errors_by_alg[alg_name]))\n"
   ]
  },
  {
   "cell_type": "code",
   "execution_count": 24,
   "metadata": {},
   "outputs": [
    {
     "name": "stdout",
     "output_type": "stream",
     "text": [
      "error type: RuntimeError: CUDA out of memory.\n",
      "num of unique errors with this string: 0 of 11\n",
      "error type: CUDA error: invalid configuration argument\n",
      "num of unique errors with this string: 0 of 11\n",
      "error type: TimeoutException\n",
      "num of unique errors with this string: 9 of 11\n",
      "error type: Cannot allocate memory\n",
      "num of unique errors with this string: 0 of 11\n"
     ]
    }
   ],
   "source": [
    "\n",
    "for err_str in known_err_str:\n",
    "    print(f\"error type: {err_str}\")\n",
    "    print(f\"num of unique errors with this string: {len([e for e in unique_errors if err_str in e])} of {len(unique_errors)}\")\n"
   ]
  },
  {
   "cell_type": "code",
   "execution_count": 25,
   "metadata": {},
   "outputs": [],
   "source": [
    "# what are the remaining errors?\n",
    "\n",
    "remaining_errors = [e for e in unique_errors if all([s not in e for s in known_err_str])]"
   ]
  },
  {
   "cell_type": "code",
   "execution_count": 26,
   "metadata": {},
   "outputs": [
    {
     "name": "stdout",
     "output_type": "stream",
     "text": [
      "2 remaining errros\n"
     ]
    }
   ],
   "source": [
    "print(f\"{len(remaining_errors)} remaining errros\")"
   ]
  },
  {
   "cell_type": "code",
   "execution_count": 27,
   "metadata": {},
   "outputs": [
    {
     "name": "stdout",
     "output_type": "stream",
     "text": [
      "Traceback (most recent call last):\n",
      "  File \"/home/shared/tabzilla/TabSurvey/tabzilla_experiment.py\", line 137, in __call__\n",
      "    result = cross_validation(model, self.dataset, self.time_limit)\n",
      "  File \"/home/shared/tabzilla/TabSurvey/tabzilla_utils.py\", line 236, in cross_validation\n",
      "    loss_history, val_loss_history = curr_model.fit(\n",
      "  File \"/home/shared/tabzilla/TabSurvey/models/tree_models.py\", line 151, in fit\n",
      "    self.model.fit(X, y, eval_set=(X_val, y_val))\n",
      "  File \"/opt/conda/envs/gbdt/lib/python3.9/site-packages/catboost/core.py\", line 4716, in fit\n",
      "    self._fit(X, y, cat_features, text_features, embedding_features, None, sample_weight, None, None, None, None, baseline, use_best_model,\n",
      "  File \"/opt/conda/envs/gbdt/lib/python3.9/site-packages/catboost/core.py\", line 2021, in _fit\n",
      "    train_params = self._prepare_train_params(\n",
      "  File \"/opt/conda/envs/gbdt/lib/python3.9/site-packages/catboost/core.py\", line 1953, in _prepare_train_params\n",
      "    _check_train_params(params)\n",
      "  File \"_catboost.pyx\", line 5839, in _catboost._check_train_params\n",
      "  File \"_catboost.pyx\", line 5858, in _catboost._check_train_params\n",
      "_catboost.CatBoostError: catboost/private/libs/options/catboost_options.cpp:587: classes_count parameter takes effect only with MultiClass/MultiClassOneVsAll and user-defined loss functions\n",
      "\n"
     ]
    }
   ],
   "source": [
    "print(remaining_errors[1])"
   ]
  },
  {
   "cell_type": "code",
   "execution_count": 28,
   "metadata": {},
   "outputs": [
    {
     "name": "stdout",
     "output_type": "stream",
     "text": [
      "number of Expected errors: 90\n",
      "algs: CatBoost    90\n",
      "Name: alg_name, dtype: int64\n",
      "datasets: openml__solar-flare__2068    90\n",
      "Name: dataset_name, dtype: int64\n"
     ]
    }
   ],
   "source": [
    "err_str = \"classes_count parameter\"\n",
    "print(f\"number of Expected errors: {len([e for e in errors_by_alg[alg_name] if err_str in e])}\")\n",
    "\n",
    "# which algs?\n",
    "print(f\"algs: {errors_df[errors_df['exception'].str.contains(err_str)]['alg_name'].value_counts()}\")\n",
    "\n",
    "# which datasets?\n",
    "print(f\"datasets: {errors_df[errors_df['exception'].str.contains(err_str)]['dataset_name'].value_counts()}\")\n"
   ]
  },
  {
   "attachments": {},
   "cell_type": "markdown",
   "metadata": {},
   "source": [
    "# XGBoost"
   ]
  },
  {
   "cell_type": "code",
   "execution_count": 29,
   "metadata": {},
   "outputs": [
    {
     "name": "stdout",
     "output_type": "stream",
     "text": [
      "number of errors for alg XGBoost: 13\n",
      "number of unique errors: 8\n"
     ]
    }
   ],
   "source": [
    "tmp_known_err_str = known_err_str + [\n",
    "    # \"Singleton array\",  # https://github.com/naszilla/tabzilla/issues/83\n",
    "    ]\n",
    "\n",
    "alg_name = \"XGBoost\"\n",
    "\n",
    "print(f\"number of errors for alg {alg_name}: {len(errors_by_alg[alg_name])}\")\n",
    "print(f\"number of unique errors: {len(set(errors_by_alg[alg_name]))}\")\n",
    "\n",
    "unique_errors = list(set(errors_by_alg[alg_name]))\n"
   ]
  },
  {
   "cell_type": "code",
   "execution_count": 30,
   "metadata": {},
   "outputs": [
    {
     "name": "stdout",
     "output_type": "stream",
     "text": [
      "error type: RuntimeError: CUDA out of memory.\n",
      "num of unique errors with this string: 0 of 8\n",
      "error type: CUDA error: invalid configuration argument\n",
      "num of unique errors with this string: 0 of 8\n",
      "error type: TimeoutException\n",
      "num of unique errors with this string: 8 of 8\n",
      "error type: Cannot allocate memory\n",
      "num of unique errors with this string: 0 of 8\n"
     ]
    }
   ],
   "source": [
    "\n",
    "for err_str in tmp_known_err_str:\n",
    "    print(f\"error type: {err_str}\")\n",
    "    print(f\"num of unique errors with this string: {len([e for e in unique_errors if err_str in e])} of {len(unique_errors)}\")\n"
   ]
  },
  {
   "cell_type": "code",
   "execution_count": 31,
   "metadata": {},
   "outputs": [
    {
     "name": "stdout",
     "output_type": "stream",
     "text": [
      "0 remaining errros\n"
     ]
    }
   ],
   "source": [
    "# what are the remaining errors?\n",
    "\n",
    "remaining_errors = [e for e in unique_errors if all([s not in e for s in tmp_known_err_str])]\n",
    "print(f\"{len(remaining_errors)} remaining errros\")"
   ]
  },
  {
   "cell_type": "code",
   "execution_count": null,
   "metadata": {},
   "outputs": [],
   "source": []
  }
 ],
 "metadata": {
  "kernelspec": {
   "display_name": "Python 3 (ipykernel)",
   "language": "python",
   "name": "python3"
  },
  "language_info": {
   "codemirror_mode": {
    "name": "ipython",
    "version": 3
   },
   "file_extension": ".py",
   "mimetype": "text/x-python",
   "name": "python",
   "nbconvert_exporter": "python",
   "pygments_lexer": "ipython3",
   "version": "3.7.12"
  },
  "orig_nbformat": 4,
  "vscode": {
   "interpreter": {
    "hash": "31f2aee4e71d21fbe5cf8b01ff0e069b9275f58929596ceb00d14d90e3e16cd6"
   }
  }
 },
 "nbformat": 4,
 "nbformat_minor": 2
}
