{
 "cells": [
  {
   "attachments": {},
   "cell_type": "markdown",
   "metadata": {},
   "source": [
    "# Create runtime tables"
   ]
  },
  {
   "cell_type": "code",
   "execution_count": 1,
   "metadata": {},
   "outputs": [],
   "source": [
    "# read cleaned results\n",
    "import pandas as pd\n",
    "from pathlib import Path\n",
    "\n",
    "fold_df_with_default = pd.read_csv(Path(\"./cleaned_results/tuned_fold_results_with_default.csv\"))\n",
    "\n",
    "# read metafeatures\n",
    "metafeatures_df = pd.read_csv(Path(\"../../TabSurvey/metafeatures.csv\"))\n",
    "\n",
    "# make sure that the output folder exists\n",
    "output_folder = Path(\"./runtime_tables\")\n",
    "output_folder.mkdir(exist_ok=True)    "
   ]
  },
  {
   "cell_type": "code",
   "execution_count": 2,
   "metadata": {},
   "outputs": [
    {
     "name": "stderr",
     "output_type": "stream",
     "text": [
      "/tmp/ipykernel_7889/358041695.py:2: UserWarning: This pattern is interpreted as a regular expression, and has match groups. To actually get the groups, use str.extract.\n",
      "  default_rows = fold_df_with_default.loc[(fold_df_with_default[\"alg_name\"].str.contains(\"(default)\") | fold_df_with_default[\"alg_name\"].str.contains(\"TabPFNModel\") | fold_df_with_default[\"alg_name\"].str.contains(\"LinearModel\")), :]\n"
     ]
    }
   ],
   "source": [
    "# get the default hparams, and include TabPFN & LinearModel (which only have default params)\n",
    "default_rows = fold_df_with_default.loc[(fold_df_with_default[\"alg_name\"].str.contains(\"(default)\") | fold_df_with_default[\"alg_name\"].str.contains(\"TabPFNModel\") | fold_df_with_default[\"alg_name\"].str.contains(\"LinearModel\")), :]"
   ]
  },
  {
   "cell_type": "code",
   "execution_count": 3,
   "metadata": {},
   "outputs": [],
   "source": [
    "# get the number of instances for each dataset, we will use these later\n",
    "num_instances = metafeatures_df.loc[:, [\"dataset_name\", \"f__pymfe.general.nr_inst\"]]\n",
    "num_instances.columns = [\"dataset_fold_id\", \"num_inst\"]"
   ]
  },
  {
   "cell_type": "code",
   "execution_count": 4,
   "metadata": {},
   "outputs": [],
   "source": [
    "# merge in num instances\n",
    "time_df = default_rows.merge(num_instances, on=\"dataset_fold_id\", how=\"left\")\n",
    "\n",
    "# calculate runtime\n",
    "time_col = \"time__train\"\n",
    "\n",
    "time_per_inst_col = \"train_per_1000_inst\"\n",
    "\n",
    "time_df.loc[:, time_per_inst_col] = 1000. * time_df[time_col] / time_df[\"num_inst\"]\n",
    "\n",
    "# average over all folds\n",
    "time_df_agg = time_df.groupby([\"dataset_name\", \"alg_name\"]).agg({time_per_inst_col: \"mean\"}).reset_index()\n",
    "\n",
    "time_df_agg.loc[:, f\"{time_per_inst_col}_rank\"] = time_df_agg.groupby([\"dataset_name\"])[time_per_inst_col].rank(method=\"min\", ascending=True).values"
   ]
  },
  {
   "attachments": {},
   "cell_type": "markdown",
   "metadata": {},
   "source": [
    "# Calculate average runtime per samples, over all folds\n",
    "\n",
    "- only include algs parameterized with default hparams\n",
    "- also calculate normalized accuracy for comparing runtime with performance"
   ]
  },
  {
   "cell_type": "code",
   "execution_count": 5,
   "metadata": {},
   "outputs": [
    {
     "name": "stdout",
     "output_type": "stream",
     "text": [
      "metric: train-time\n",
      "                        train_per_1000_inst_rank             \\\n",
      "                                             min max   mean   \n",
      "alg_name                                                      \n",
      "KNN (default)                                  1   4   1.35   \n",
      "DecisionTree (default)                         1   3   1.98   \n",
      "LinearModel                                    1   4   2.84   \n",
      "RandomForest (default)                         4   8   5.30   \n",
      "SVM (default)                                  3  17   5.72   \n",
      "XGBoost (default)                              3   9   5.92   \n",
      "LightGBM (default)                             4  11   6.11   \n",
      "CatBoost (default)                             5  18   8.22   \n",
      "MLP-rtdl (default)                             6  16   9.74   \n",
      "ResNet (default)                               8  15  10.65   \n",
      "MLP (default)                                  7  16  11.29   \n",
      "VIME (default)                                 8  16  12.02   \n",
      "STG (default)                                  8  17  12.27   \n",
      "FTTransformer (default)                       10  17  12.98   \n",
      "TabNet (default)                               9  17  14.51   \n",
      "DANet (default)                               14  18  16.19   \n",
      "NODE (default)                                12  18  16.69   \n",
      "SAINT (default)                               13  18  17.18   \n",
      "\n",
      "                        train_per_1000_inst count  \n",
      "                                       mean        \n",
      "alg_name                                           \n",
      "KNN (default)                          0.01   104  \n",
      "DecisionTree (default)                 0.02   104  \n",
      "LinearModel                            0.04   104  \n",
      "RandomForest (default)                 0.50   104  \n",
      "SVM (default)                          1.09   104  \n",
      "XGBoost (default)                      1.20   104  \n",
      "LightGBM (default)                     1.30   104  \n",
      "CatBoost (default)                    21.95   104  \n",
      "MLP-rtdl (default)                    13.07   104  \n",
      "ResNet (default)                      15.26   104  \n",
      "MLP (default)                         17.37   104  \n",
      "VIME (default)                        15.75   104  \n",
      "STG (default)                         16.39   104  \n",
      "FTTransformer (default)               25.92   104  \n",
      "TabNet (default)                      28.39   104  \n",
      "DANet (default)                       45.04   104  \n",
      "NODE (default)                        67.54   104  \n",
      "SAINT (default)                      135.22    99  \n",
      "\n",
      "\n"
     ]
    },
    {
     "name": "stderr",
     "output_type": "stream",
     "text": [
      "/tmp/ipykernel_7889/204716600.py:34: FutureWarning: In future versions `DataFrame.to_latex` is expected to utilise the base implementation of `Styler.to_latex` for formatting and rendering. The arguments signature may therefore change. It is recommended instead to use `DataFrame.style.to_latex` which also contains additional functionality.\n",
      "  final_table.to_latex(output_folder / \"time_per_1000_rank_tables.tex\", index=True, escape=False)\n"
     ]
    }
   ],
   "source": [
    "# create a table of runtime rankings, sorted by avg. rank\n",
    "# also show mean time-per-1000-instances\n",
    "\n",
    "metric = time_per_inst_col\n",
    "\n",
    "# overall_ranks = non_tabpfn_agg_df_no_default.groupby(\"alg_name\").agg(\n",
    "overall_ranks = time_df_agg.groupby(\"alg_name\").agg(\n",
    "    {\n",
    "        f\"{metric}_rank\": [\"min\", \"max\", \"mean\", \"count\"],\n",
    "        f\"{metric}\": \"mean\",\n",
    "        # \"Accuracy_rank\": \"mean\",\n",
    "    }\n",
    ").reset_index().sort_values([(f\"{metric}_rank\", \"mean\")])\n",
    "\n",
    "# format min/max rank columns to be ints, and floats to 2 decimal places\n",
    "\n",
    "overall_ranks.loc[:, \"count\"] = overall_ranks.loc[:, (f\"{metric}_rank\", \"count\")].astype(int)\n",
    "overall_ranks.drop(columns=(f\"{metric}_rank\", \"count\"), inplace=True)\n",
    "\n",
    "overall_ranks.loc[:, (f\"{metric}_rank\", \"min\")] = overall_ranks.loc[:, (f\"{metric}_rank\", \"min\")].astype(int)\n",
    "overall_ranks.loc[:, (f\"{metric}_rank\", \"max\")] = overall_ranks.loc[:, (f\"{metric}_rank\", \"max\")].astype(int)\n",
    "\n",
    "overall_ranks.loc[:, (f\"{metric}_rank\", \"mean\")] = overall_ranks.loc[:, (f\"{metric}_rank\", \"mean\")].round(2)\n",
    "overall_ranks.loc[:, (f\"{metric}\", \"mean\")] = overall_ranks.loc[:,(f\"{metric}\", \"mean\")].round(2)\n",
    "\n",
    "print(f\"metric: train-time\")\n",
    "final_table = overall_ranks.set_index(\"alg_name\")\n",
    "print(final_table)\n",
    "\n",
    "# save to csv\n",
    "final_table.to_csv(output_folder / \"time_per_1000_rank_tables.csv\", index=True)\n",
    "\n",
    "# save to latex\n",
    "final_table.to_latex(output_folder / \"time_per_1000_rank_tables.tex\", index=True, escape=False)\n",
    "\n",
    "\n",
    "print(\"\\n\")"
   ]
  },
  {
   "cell_type": "code",
   "execution_count": null,
   "metadata": {},
   "outputs": [],
   "source": []
  }
 ],
 "metadata": {
  "kernelspec": {
   "display_name": "Python 3 (ipykernel)",
   "language": "python",
   "name": "python3"
  },
  "language_info": {
   "codemirror_mode": {
    "name": "ipython",
    "version": 3
   },
   "file_extension": ".py",
   "mimetype": "text/x-python",
   "name": "python",
   "nbconvert_exporter": "python",
   "pygments_lexer": "ipython3",
   "version": "3.10.5"
  },
  "orig_nbformat": 4,
  "vscode": {
   "interpreter": {
    "hash": "367a26e3fad5ec8f1d0bebe9545860115b1157dbd92bed67faee9b31d4dbfaa5"
   }
  }
 },
 "nbformat": 4,
 "nbformat_minor": 2
}
