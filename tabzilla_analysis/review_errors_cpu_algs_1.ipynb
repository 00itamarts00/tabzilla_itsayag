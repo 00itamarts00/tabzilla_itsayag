{
 "cells": [
  {
   "cell_type": "markdown",
   "metadata": {},
   "source": [
    "# Review errors in the results files `metadataset_errors*.csv`"
   ]
  },
  {
   "cell_type": "code",
   "execution_count": 7,
   "metadata": {
    "vscode": {
     "languageId": "python"
    }
   },
   "outputs": [
    {
     "data": {
      "text/html": [
       "<div>\n",
       "<style scoped>\n",
       "    .dataframe tbody tr th:only-of-type {\n",
       "        vertical-align: middle;\n",
       "    }\n",
       "\n",
       "    .dataframe tbody tr th {\n",
       "        vertical-align: top;\n",
       "    }\n",
       "\n",
       "    .dataframe thead th {\n",
       "        text-align: right;\n",
       "    }\n",
       "</style>\n",
       "<table border=\"1\" class=\"dataframe\">\n",
       "  <thead>\n",
       "    <tr style=\"text-align: right;\">\n",
       "      <th></th>\n",
       "      <th>results_bucket_path</th>\n",
       "      <th>dataset_name</th>\n",
       "      <th>alg_name</th>\n",
       "      <th>hparam_source</th>\n",
       "      <th>trial_number</th>\n",
       "      <th>alg_hparam_id</th>\n",
       "      <th>exp_name</th>\n",
       "      <th>exception</th>\n",
       "    </tr>\n",
       "  </thead>\n",
       "  <tbody>\n",
       "    <tr>\n",
       "      <th>321</th>\n",
       "      <td>results/openml__Census-Income__168340/KNN/algs...</td>\n",
       "      <td>openml__Census-Income__168340</td>\n",
       "      <td>KNN</td>\n",
       "      <td>random_1_s0</td>\n",
       "      <td>1</td>\n",
       "      <td>KNN__seed_0__trial_1</td>\n",
       "      <td>algs-cpu-1-datasets-b_111122_061539_9b61.zip</td>\n",
       "      <td>Traceback (most recent call last):\\n  File \"/h...</td>\n",
       "    </tr>\n",
       "    <tr>\n",
       "      <th>322</th>\n",
       "      <td>results/openml__Census-Income__168340/KNN/algs...</td>\n",
       "      <td>openml__Census-Income__168340</td>\n",
       "      <td>KNN</td>\n",
       "      <td>random_2_s0</td>\n",
       "      <td>2</td>\n",
       "      <td>KNN__seed_0__trial_2</td>\n",
       "      <td>algs-cpu-1-datasets-b_111122_061539_9b61.zip</td>\n",
       "      <td>Traceback (most recent call last):\\n  File \"/h...</td>\n",
       "    </tr>\n",
       "    <tr>\n",
       "      <th>323</th>\n",
       "      <td>results/openml__Census-Income__168340/KNN/algs...</td>\n",
       "      <td>openml__Census-Income__168340</td>\n",
       "      <td>KNN</td>\n",
       "      <td>random_4_s0</td>\n",
       "      <td>4</td>\n",
       "      <td>KNN__seed_0__trial_4</td>\n",
       "      <td>algs-cpu-1-datasets-b_111122_061539_9b61.zip</td>\n",
       "      <td>Traceback (most recent call last):\\n  File \"/h...</td>\n",
       "    </tr>\n",
       "    <tr>\n",
       "      <th>365</th>\n",
       "      <td>results/openml__Census-Income__168340/SVM/algs...</td>\n",
       "      <td>openml__Census-Income__168340</td>\n",
       "      <td>SVM</td>\n",
       "      <td>default</td>\n",
       "      <td>0</td>\n",
       "      <td>SVM__seed_0__trial_0</td>\n",
       "      <td>algs-cpu-1-datasets-b_111122_124640_78a8.zip</td>\n",
       "      <td>Traceback (most recent call last):\\n  File \"/h...</td>\n",
       "    </tr>\n",
       "    <tr>\n",
       "      <th>366</th>\n",
       "      <td>results/openml__Census-Income__168340/SVM/algs...</td>\n",
       "      <td>openml__Census-Income__168340</td>\n",
       "      <td>SVM</td>\n",
       "      <td>random_1_s0</td>\n",
       "      <td>1</td>\n",
       "      <td>SVM__seed_0__trial_1</td>\n",
       "      <td>algs-cpu-1-datasets-b_111122_124640_78a8.zip</td>\n",
       "      <td>Traceback (most recent call last):\\n  File \"/h...</td>\n",
       "    </tr>\n",
       "  </tbody>\n",
       "</table>\n",
       "</div>"
      ],
      "text/plain": [
       "                                   results_bucket_path  \\\n",
       "321  results/openml__Census-Income__168340/KNN/algs...   \n",
       "322  results/openml__Census-Income__168340/KNN/algs...   \n",
       "323  results/openml__Census-Income__168340/KNN/algs...   \n",
       "365  results/openml__Census-Income__168340/SVM/algs...   \n",
       "366  results/openml__Census-Income__168340/SVM/algs...   \n",
       "\n",
       "                      dataset_name alg_name hparam_source  trial_number  \\\n",
       "321  openml__Census-Income__168340      KNN   random_1_s0             1   \n",
       "322  openml__Census-Income__168340      KNN   random_2_s0             2   \n",
       "323  openml__Census-Income__168340      KNN   random_4_s0             4   \n",
       "365  openml__Census-Income__168340      SVM       default             0   \n",
       "366  openml__Census-Income__168340      SVM   random_1_s0             1   \n",
       "\n",
       "            alg_hparam_id                                      exp_name  \\\n",
       "321  KNN__seed_0__trial_1  algs-cpu-1-datasets-b_111122_061539_9b61.zip   \n",
       "322  KNN__seed_0__trial_2  algs-cpu-1-datasets-b_111122_061539_9b61.zip   \n",
       "323  KNN__seed_0__trial_4  algs-cpu-1-datasets-b_111122_061539_9b61.zip   \n",
       "365  SVM__seed_0__trial_0  algs-cpu-1-datasets-b_111122_124640_78a8.zip   \n",
       "366  SVM__seed_0__trial_1  algs-cpu-1-datasets-b_111122_124640_78a8.zip   \n",
       "\n",
       "                                             exception  \n",
       "321  Traceback (most recent call last):\\n  File \"/h...  \n",
       "322  Traceback (most recent call last):\\n  File \"/h...  \n",
       "323  Traceback (most recent call last):\\n  File \"/h...  \n",
       "365  Traceback (most recent call last):\\n  File \"/h...  \n",
       "366  Traceback (most recent call last):\\n  File \"/h...  "
      ]
     },
     "execution_count": 7,
     "metadata": {},
     "output_type": "execute_result"
    }
   ],
   "source": [
    "import pandas as pd\n",
    "\n",
    "errors_df = pd.read_csv(\"/home/shared/tabzilla/TabSurvey/metadataset_errors.csv\")\n",
    "\n",
    "# filter by experiment\n",
    "errors_df = errors_df.loc[errors_df[\"exp_name\"].str.contains(\"algs-cpu-1\")]\n",
    "\n",
    "errors_df.head()"
   ]
  },
  {
   "cell_type": "code",
   "execution_count": 8,
   "metadata": {
    "vscode": {
     "languageId": "python"
    }
   },
   "outputs": [
    {
     "name": "stdout",
     "output_type": "stream",
     "text": [
      "errors by dataset:\n",
      " openml__lung-cancer__146024               11\n",
      "openml__Census-Income__168340              6\n",
      "openml__liver-disorders__52948             5\n",
      "openml__cjs__14967                         4\n",
      "openml__profb__3561                        4\n",
      "openml__poker-hand__9890                   4\n",
      "openml__walking-activity__9945             4\n",
      "openml__aloi__12732                        4\n",
      "openml__Click_prediction_small__190408     3\n",
      "openml__cpu_small__4883                    3\n",
      "openml__Wine__190420                       3\n",
      "openml__cleveland__2285                    2\n",
      "openml__chess__3952                        1\n",
      "openml__bodyfat__5514                      1\n",
      "openml__elevators__3711                    1\n",
      "openml__kropt__2076                        1\n",
      "openml__artificial-characters__14964       1\n",
      "openml__ada_agnostic__3896                 1\n",
      "openml__socmob__3797                       1\n",
      "Name: dataset_name, dtype: int64\n"
     ]
    }
   ],
   "source": [
    "# how many errors by dataset?\n",
    "print(f\"errors by dataset:\\n {errors_df['dataset_name'].value_counts()}\")"
   ]
  },
  {
   "cell_type": "code",
   "execution_count": 9,
   "metadata": {
    "vscode": {
     "languageId": "python"
    }
   },
   "outputs": [
    {
     "name": "stdout",
     "output_type": "stream",
     "text": [
      "errors by alg:\n",
      " SVM    38\n",
      "KNN    22\n",
      "Name: alg_name, dtype: int64\n"
     ]
    }
   ],
   "source": [
    "# by alg...\n",
    "print(f\"errors by alg:\\n {errors_df['alg_name'].value_counts()}\")"
   ]
  },
  {
   "cell_type": "markdown",
   "metadata": {},
   "source": [
    "# Triage errors by alg"
   ]
  },
  {
   "cell_type": "code",
   "execution_count": 10,
   "metadata": {
    "vscode": {
     "languageId": "python"
    }
   },
   "outputs": [],
   "source": [
    "errors_by_alg = {}\n",
    "for alg_name in errors_df[\"alg_name\"].unique():\n",
    "    errors_by_alg[alg_name] = errors_df.loc[errors_df[\"alg_name\"] == alg_name, \"exception\"].values"
   ]
  },
  {
   "cell_type": "markdown",
   "metadata": {},
   "source": [
    "## SVM"
   ]
  },
  {
   "cell_type": "code",
   "execution_count": 11,
   "metadata": {
    "vscode": {
     "languageId": "python"
    }
   },
   "outputs": [
    {
     "name": "stdout",
     "output_type": "stream",
     "text": [
      "number of errors for alg SVM: 38\n",
      "number of unique errors: 8\n"
     ]
    }
   ],
   "source": [
    "alg_name = \"SVM\"\n",
    "\n",
    "print(f\"number of errors for alg {alg_name}: {len(errors_by_alg[alg_name])}\")\n",
    "print(f\"number of unique errors: {len(set(errors_by_alg[alg_name]))}\")\n"
   ]
  },
  {
   "cell_type": "code",
   "execution_count": 9,
   "metadata": {
    "vscode": {
     "languageId": "python"
    }
   },
   "outputs": [
    {
     "name": "stdout",
     "output_type": "stream",
     "text": [
      "error 0:\n",
      "Traceback (most recent call last):\n",
      "  File \"/home/shared/tabzilla/TabSurvey/tabzilla_experiment.py\", line 137, in __call__\n",
      "    result = cross_validation(model, self.dataset, self.time_limit)\n",
      "  File \"/home/shared/tabzilla/TabSurvey/tabzilla_utils.py\", line 210, in cross_validation\n",
      "    raise TimeoutException(f\"time limit of {time_limit}s reached during fold {i}\")\n",
      "tabzilla_utils.TimeoutException: time limit of 7200s reached during fold 4\n",
      "\n",
      "\n",
      "error 1:\n",
      "Traceback (most recent call last):\n",
      "  File \"/home/shared/tabzilla/TabSurvey/tabzilla_experiment.py\", line 137, in __call__\n",
      "    result = cross_validation(model, self.dataset, self.time_limit)\n",
      "  File \"/home/shared/tabzilla/TabSurvey/tabzilla_utils.py\", line 210, in cross_validation\n",
      "    raise TimeoutException(f\"time limit of {time_limit}s reached during fold {i}\")\n",
      "tabzilla_utils.TimeoutException: time limit of 7200s reached during fold 9\n",
      "\n",
      "\n",
      "error 2:\n",
      "Traceback (most recent call last):\n",
      "  File \"/home/shared/tabzilla/TabSurvey/tabzilla_experiment.py\", line 137, in __call__\n",
      "    result = cross_validation(model, self.dataset, self.time_limit)\n",
      "  File \"/home/shared/tabzilla/TabSurvey/tabzilla_utils.py\", line 210, in cross_validation\n",
      "    raise TimeoutException(f\"time limit of {time_limit}s reached during fold {i}\")\n",
      "tabzilla_utils.TimeoutException: time limit of 7200s reached during fold 3\n",
      "\n",
      "\n",
      "error 3:\n",
      "Traceback (most recent call last):\n",
      "  File \"/home/shared/tabzilla/TabSurvey/tabzilla_experiment.py\", line 137, in __call__\n",
      "    result = cross_validation(model, self.dataset, self.time_limit)\n",
      "  File \"/home/shared/tabzilla/TabSurvey/tabzilla_utils.py\", line 210, in cross_validation\n",
      "    raise TimeoutException(f\"time limit of {time_limit}s reached during fold {i}\")\n",
      "tabzilla_utils.TimeoutException: time limit of 7200s reached during fold 1\n",
      "\n",
      "\n",
      "error 4:\n",
      "Traceback (most recent call last):\n",
      "  File \"/home/shared/tabzilla/TabSurvey/tabzilla_experiment.py\", line 137, in __call__\n",
      "    result = cross_validation(model, self.dataset, self.time_limit)\n",
      "  File \"/home/shared/tabzilla/TabSurvey/tabzilla_utils.py\", line 210, in cross_validation\n",
      "    raise TimeoutException(f\"time limit of {time_limit}s reached during fold {i}\")\n",
      "tabzilla_utils.TimeoutException: time limit of 7200s reached during fold 2\n",
      "\n",
      "\n",
      "error 5:\n",
      "Traceback (most recent call last):\n",
      "  File \"/home/shared/tabzilla/TabSurvey/tabzilla_experiment.py\", line 137, in __call__\n",
      "    result = cross_validation(model, self.dataset, self.time_limit)\n",
      "  File \"/home/shared/tabzilla/TabSurvey/tabzilla_utils.py\", line 210, in cross_validation\n",
      "    raise TimeoutException(f\"time limit of {time_limit}s reached during fold {i}\")\n",
      "tabzilla_utils.TimeoutException: time limit of 7200s reached during fold 8\n",
      "\n",
      "\n",
      "error 6:\n",
      "Traceback (most recent call last):\n",
      "  File \"/home/shared/tabzilla/TabSurvey/tabzilla_experiment.py\", line 137, in __call__\n",
      "    result = cross_validation(model, self.dataset, self.time_limit)\n",
      "  File \"/home/shared/tabzilla/TabSurvey/tabzilla_utils.py\", line 210, in cross_validation\n",
      "    raise TimeoutException(f\"time limit of {time_limit}s reached during fold {i}\")\n",
      "tabzilla_utils.TimeoutException: time limit of 7200s reached during fold 6\n",
      "\n",
      "\n",
      "error 7:\n",
      "Traceback (most recent call last):\n",
      "  File \"/home/shared/tabzilla/TabSurvey/tabzilla_experiment.py\", line 137, in __call__\n",
      "    result = cross_validation(model, self.dataset, self.time_limit)\n",
      "  File \"/home/shared/tabzilla/TabSurvey/tabzilla_utils.py\", line 210, in cross_validation\n",
      "    raise TimeoutException(f\"time limit of {time_limit}s reached during fold {i}\")\n",
      "tabzilla_utils.TimeoutException: time limit of 7200s reached during fold 5\n",
      "\n",
      "\n"
     ]
    }
   ],
   "source": [
    "# what are the unique errors?\n",
    "for i, e in enumerate(set(errors_by_alg[alg_name])):\n",
    "    print(f\"error {i}:\\n{e}\\n\")"
   ]
  },
  {
   "cell_type": "markdown",
   "metadata": {},
   "source": [
    "All of these are timeout errors"
   ]
  },
  {
   "cell_type": "markdown",
   "metadata": {},
   "source": [
    "## KNN"
   ]
  },
  {
   "cell_type": "code",
   "execution_count": 12,
   "metadata": {
    "vscode": {
     "languageId": "python"
    }
   },
   "outputs": [
    {
     "name": "stdout",
     "output_type": "stream",
     "text": [
      "number of errors for alg KNN: 22\n",
      "number of unique errors: 12\n"
     ]
    }
   ],
   "source": [
    "alg_name = \"KNN\"\n",
    "\n",
    "print(f\"number of errors for alg {alg_name}: {len(errors_by_alg[alg_name])}\")\n",
    "print(f\"number of unique errors: {len(set(errors_by_alg[alg_name]))}\")\n"
   ]
  },
  {
   "cell_type": "code",
   "execution_count": 13,
   "metadata": {
    "vscode": {
     "languageId": "python"
    }
   },
   "outputs": [],
   "source": [
    "# what are the unique errors?\n",
    "unique_errors = list(set(errors_by_alg[alg_name]))"
   ]
  },
  {
   "cell_type": "code",
   "execution_count": 14,
   "metadata": {
    "vscode": {
     "languageId": "python"
    }
   },
   "outputs": [
    {
     "name": "stdout",
     "output_type": "stream",
     "text": [
      "error 0:\n",
      "Traceback (most recent call last):\n",
      "  File \"/home/shared/tabzilla/TabSurvey/tabzilla_experiment.py\", line 137, in __call__\n",
      "    result = cross_validation(model, self.dataset, self.time_limit)\n",
      "  File \"/home/shared/tabzilla/TabSurvey/tabzilla_utils.py\", line 247, in cross_validation\n",
      "    train_predictions, train_probs = curr_model.predict_wrapper(X_train)\n",
      "  File \"/home/shared/tabzilla/TabSurvey/models/basemodel.py\", line 108, in predict_wrapper\n",
      "    self.predictions, self.prediction_probabilities = self.predict(X)\n",
      "  File \"/home/shared/tabzilla/TabSurvey/models/basemodel.py\", line 148, in predict\n",
      "    self.prediction_probabilities = self.predict_proba(X)\n",
      "  File \"/home/shared/tabzilla/TabSurvey/models/basemodel.py\", line 163, in predict_proba\n",
      "    self.prediction_probabilities = self.model.predict_proba(X)\n",
      "  File \"/opt/conda/envs/sklearn/lib/python3.10/site-packages/sklearn/neighbors/_classification.py\", line 268, in predict_proba\n",
      "    neigh_ind = self.kneighbors(X, return_distance=False)\n",
      "  File \"/opt/conda/envs/sklearn/lib/python3.10/site-packages/sklearn/neighbors/_base.py\", line 749, in kneighbors\n",
      "    raise ValueError(\n",
      "ValueError: Expected n_neighbors <= n_samples,  but n_samples = 24, n_neighbors = 31\n",
      "\n",
      "\n",
      "error 1:\n",
      "Traceback (most recent call last):\n",
      "  File \"/home/shared/tabzilla/TabSurvey/tabzilla_experiment.py\", line 137, in __call__\n",
      "    result = cross_validation(model, self.dataset, self.time_limit)\n",
      "  File \"/home/shared/tabzilla/TabSurvey/tabzilla_utils.py\", line 247, in cross_validation\n",
      "    train_predictions, train_probs = curr_model.predict_wrapper(X_train)\n",
      "  File \"/home/shared/tabzilla/TabSurvey/models/basemodel.py\", line 108, in predict_wrapper\n",
      "    self.predictions, self.prediction_probabilities = self.predict(X)\n",
      "  File \"/home/shared/tabzilla/TabSurvey/models/basemodel.py\", line 148, in predict\n",
      "    self.prediction_probabilities = self.predict_proba(X)\n",
      "  File \"/home/shared/tabzilla/TabSurvey/models/basemodel.py\", line 163, in predict_proba\n",
      "    self.prediction_probabilities = self.model.predict_proba(X)\n",
      "  File \"/opt/conda/envs/sklearn/lib/python3.10/site-packages/sklearn/neighbors/_classification.py\", line 268, in predict_proba\n",
      "    neigh_ind = self.kneighbors(X, return_distance=False)\n",
      "  File \"/opt/conda/envs/sklearn/lib/python3.10/site-packages/sklearn/neighbors/_base.py\", line 749, in kneighbors\n",
      "    raise ValueError(\n",
      "ValueError: Expected n_neighbors <= n_samples,  but n_samples = 24, n_neighbors = 39\n",
      "\n",
      "\n",
      "error 2:\n",
      "Traceback (most recent call last):\n",
      "  File \"/home/shared/tabzilla/TabSurvey/tabzilla_experiment.py\", line 137, in __call__\n",
      "    result = cross_validation(model, self.dataset, self.time_limit)\n",
      "  File \"/home/shared/tabzilla/TabSurvey/tabzilla_utils.py\", line 210, in cross_validation\n",
      "    raise TimeoutException(f\"time limit of {time_limit}s reached during fold {i}\")\n",
      "tabzilla_utils.TimeoutException: time limit of 7200s reached during fold 6\n",
      "\n",
      "\n",
      "error 3:\n",
      "Traceback (most recent call last):\n",
      "  File \"/home/shared/tabzilla/TabSurvey/tabzilla_experiment.py\", line 137, in __call__\n",
      "    result = cross_validation(model, self.dataset, self.time_limit)\n",
      "  File \"/home/shared/tabzilla/TabSurvey/tabzilla_utils.py\", line 210, in cross_validation\n",
      "    raise TimeoutException(f\"time limit of {time_limit}s reached during fold {i}\")\n",
      "tabzilla_utils.TimeoutException: time limit of 7200s reached during fold 2\n",
      "\n",
      "\n",
      "error 4:\n",
      "Traceback (most recent call last):\n",
      "  File \"/home/shared/tabzilla/TabSurvey/tabzilla_experiment.py\", line 137, in __call__\n",
      "    result = cross_validation(model, self.dataset, self.time_limit)\n",
      "  File \"/home/shared/tabzilla/TabSurvey/tabzilla_utils.py\", line 210, in cross_validation\n",
      "    raise TimeoutException(f\"time limit of {time_limit}s reached during fold {i}\")\n",
      "tabzilla_utils.TimeoutException: time limit of 7200s reached during fold 7\n",
      "\n",
      "\n",
      "error 5:\n",
      "Traceback (most recent call last):\n",
      "  File \"/home/shared/tabzilla/TabSurvey/tabzilla_experiment.py\", line 137, in __call__\n",
      "    result = cross_validation(model, self.dataset, self.time_limit)\n",
      "  File \"/home/shared/tabzilla/TabSurvey/tabzilla_utils.py\", line 210, in cross_validation\n",
      "    raise TimeoutException(f\"time limit of {time_limit}s reached during fold {i}\")\n",
      "tabzilla_utils.TimeoutException: time limit of 7200s reached during fold 9\n",
      "\n",
      "\n",
      "error 6:\n",
      "Traceback (most recent call last):\n",
      "  File \"/home/shared/tabzilla/TabSurvey/tabzilla_experiment.py\", line 137, in __call__\n",
      "    result = cross_validation(model, self.dataset, self.time_limit)\n",
      "  File \"/home/shared/tabzilla/TabSurvey/tabzilla_utils.py\", line 247, in cross_validation\n",
      "    train_predictions, train_probs = curr_model.predict_wrapper(X_train)\n",
      "  File \"/home/shared/tabzilla/TabSurvey/models/basemodel.py\", line 108, in predict_wrapper\n",
      "    self.predictions, self.prediction_probabilities = self.predict(X)\n",
      "  File \"/home/shared/tabzilla/TabSurvey/models/basemodel.py\", line 148, in predict\n",
      "    self.prediction_probabilities = self.predict_proba(X)\n",
      "  File \"/home/shared/tabzilla/TabSurvey/models/basemodel.py\", line 163, in predict_proba\n",
      "    self.prediction_probabilities = self.model.predict_proba(X)\n",
      "  File \"/opt/conda/envs/sklearn/lib/python3.10/site-packages/sklearn/neighbors/_classification.py\", line 268, in predict_proba\n",
      "    neigh_ind = self.kneighbors(X, return_distance=False)\n",
      "  File \"/opt/conda/envs/sklearn/lib/python3.10/site-packages/sklearn/neighbors/_base.py\", line 749, in kneighbors\n",
      "    raise ValueError(\n",
      "ValueError: Expected n_neighbors <= n_samples,  but n_samples = 24, n_neighbors = 33\n",
      "\n",
      "\n",
      "error 7:\n",
      "Traceback (most recent call last):\n",
      "  File \"/home/shared/tabzilla/TabSurvey/tabzilla_experiment.py\", line 137, in __call__\n",
      "    result = cross_validation(model, self.dataset, self.time_limit)\n",
      "  File \"/home/shared/tabzilla/TabSurvey/tabzilla_utils.py\", line 247, in cross_validation\n",
      "    train_predictions, train_probs = curr_model.predict_wrapper(X_train)\n",
      "  File \"/home/shared/tabzilla/TabSurvey/models/basemodel.py\", line 108, in predict_wrapper\n",
      "    self.predictions, self.prediction_probabilities = self.predict(X)\n",
      "  File \"/home/shared/tabzilla/TabSurvey/models/basemodel.py\", line 148, in predict\n",
      "    self.prediction_probabilities = self.predict_proba(X)\n",
      "  File \"/home/shared/tabzilla/TabSurvey/models/basemodel.py\", line 163, in predict_proba\n",
      "    self.prediction_probabilities = self.model.predict_proba(X)\n",
      "  File \"/opt/conda/envs/sklearn/lib/python3.10/site-packages/sklearn/neighbors/_classification.py\", line 268, in predict_proba\n",
      "    neigh_ind = self.kneighbors(X, return_distance=False)\n",
      "  File \"/opt/conda/envs/sklearn/lib/python3.10/site-packages/sklearn/neighbors/_base.py\", line 749, in kneighbors\n",
      "    raise ValueError(\n",
      "ValueError: Expected n_neighbors <= n_samples,  but n_samples = 24, n_neighbors = 25\n",
      "\n",
      "\n",
      "error 8:\n",
      "Traceback (most recent call last):\n",
      "  File \"/home/shared/tabzilla/TabSurvey/tabzilla_experiment.py\", line 137, in __call__\n",
      "    result = cross_validation(model, self.dataset, self.time_limit)\n",
      "  File \"/home/shared/tabzilla/TabSurvey/tabzilla_utils.py\", line 210, in cross_validation\n",
      "    raise TimeoutException(f\"time limit of {time_limit}s reached during fold {i}\")\n",
      "tabzilla_utils.TimeoutException: time limit of 7200s reached during fold 3\n",
      "\n",
      "\n",
      "error 9:\n",
      "Traceback (most recent call last):\n",
      "  File \"/home/shared/tabzilla/TabSurvey/tabzilla_experiment.py\", line 137, in __call__\n",
      "    result = cross_validation(model, self.dataset, self.time_limit)\n",
      "  File \"/home/shared/tabzilla/TabSurvey/tabzilla_utils.py\", line 210, in cross_validation\n",
      "    raise TimeoutException(f\"time limit of {time_limit}s reached during fold {i}\")\n",
      "tabzilla_utils.TimeoutException: time limit of 7200s reached during fold 5\n",
      "\n",
      "\n",
      "error 10:\n",
      "Traceback (most recent call last):\n",
      "  File \"/home/shared/tabzilla/TabSurvey/tabzilla_experiment.py\", line 137, in __call__\n",
      "    result = cross_validation(model, self.dataset, self.time_limit)\n",
      "  File \"/home/shared/tabzilla/TabSurvey/tabzilla_utils.py\", line 247, in cross_validation\n",
      "    train_predictions, train_probs = curr_model.predict_wrapper(X_train)\n",
      "  File \"/home/shared/tabzilla/TabSurvey/models/basemodel.py\", line 108, in predict_wrapper\n",
      "    self.predictions, self.prediction_probabilities = self.predict(X)\n",
      "  File \"/home/shared/tabzilla/TabSurvey/models/basemodel.py\", line 148, in predict\n",
      "    self.prediction_probabilities = self.predict_proba(X)\n",
      "  File \"/home/shared/tabzilla/TabSurvey/models/basemodel.py\", line 163, in predict_proba\n",
      "    self.prediction_probabilities = self.model.predict_proba(X)\n",
      "  File \"/opt/conda/envs/sklearn/lib/python3.10/site-packages/sklearn/neighbors/_classification.py\", line 268, in predict_proba\n",
      "    neigh_ind = self.kneighbors(X, return_distance=False)\n",
      "  File \"/opt/conda/envs/sklearn/lib/python3.10/site-packages/sklearn/neighbors/_base.py\", line 749, in kneighbors\n",
      "    raise ValueError(\n",
      "ValueError: Expected n_neighbors <= n_samples,  but n_samples = 24, n_neighbors = 35\n",
      "\n",
      "\n",
      "error 11:\n",
      "Traceback (most recent call last):\n",
      "  File \"/home/shared/tabzilla/TabSurvey/tabzilla_experiment.py\", line 137, in __call__\n",
      "    result = cross_validation(model, self.dataset, self.time_limit)\n",
      "  File \"/home/shared/tabzilla/TabSurvey/tabzilla_utils.py\", line 247, in cross_validation\n",
      "    train_predictions, train_probs = curr_model.predict_wrapper(X_train)\n",
      "  File \"/home/shared/tabzilla/TabSurvey/models/basemodel.py\", line 108, in predict_wrapper\n",
      "    self.predictions, self.prediction_probabilities = self.predict(X)\n",
      "  File \"/home/shared/tabzilla/TabSurvey/models/basemodel.py\", line 148, in predict\n",
      "    self.prediction_probabilities = self.predict_proba(X)\n",
      "  File \"/home/shared/tabzilla/TabSurvey/models/basemodel.py\", line 163, in predict_proba\n",
      "    self.prediction_probabilities = self.model.predict_proba(X)\n",
      "  File \"/opt/conda/envs/sklearn/lib/python3.10/site-packages/sklearn/neighbors/_classification.py\", line 268, in predict_proba\n",
      "    neigh_ind = self.kneighbors(X, return_distance=False)\n",
      "  File \"/opt/conda/envs/sklearn/lib/python3.10/site-packages/sklearn/neighbors/_base.py\", line 749, in kneighbors\n",
      "    raise ValueError(\n",
      "ValueError: Expected n_neighbors <= n_samples,  but n_samples = 24, n_neighbors = 41\n",
      "\n",
      "\n"
     ]
    }
   ],
   "source": [
    "for i, e in enumerate(unique_errors):\n",
    "    print(f\"error {i}:\\n{e}\\n\")"
   ]
  },
  {
   "cell_type": "markdown",
   "metadata": {},
   "source": [
    "Two KNN errors are due to bad hparams (k < num samples). The rest are timeout errors."
   ]
  }
 ],
 "metadata": {
  "kernelspec": {
   "display_name": "Python 3 (ipykernel)",
   "language": "python",
   "name": "python3"
  },
  "orig_nbformat": 4,
  "vscode": {
   "interpreter": {
    "hash": "31f2aee4e71d21fbe5cf8b01ff0e069b9275f58929596ceb00d14d90e3e16cd6"
   }
  }
 },
 "nbformat": 4,
 "nbformat_minor": 2
}
