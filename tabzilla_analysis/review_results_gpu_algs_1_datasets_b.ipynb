{
 "cells": [
  {
   "cell_type": "markdown",
   "metadata": {},
   "source": [
    "# Review Results\n",
    "General notebook for reviewing results files"
   ]
  },
  {
   "cell_type": "code",
   "execution_count": 1,
   "metadata": {},
   "outputs": [],
   "source": [
    "import pandas as pd"
   ]
  },
  {
   "cell_type": "code",
   "execution_count": 5,
   "metadata": {},
   "outputs": [],
   "source": [
    "df = pd.read_csv(\"../TabSurvey/metadataset.csv\")\n",
    "\n",
    "# filter by experiment name\n",
    "df = df.loc[df[\"exp_name\"].str.contains(\"algs-gpu-1-datasets-b-v3\")]\n"
   ]
  },
  {
   "cell_type": "code",
   "execution_count": 6,
   "metadata": {},
   "outputs": [
    {
     "data": {
      "text/html": [
       "<div>\n",
       "<style scoped>\n",
       "    .dataframe tbody tr th:only-of-type {\n",
       "        vertical-align: middle;\n",
       "    }\n",
       "\n",
       "    .dataframe tbody tr th {\n",
       "        vertical-align: top;\n",
       "    }\n",
       "\n",
       "    .dataframe thead th {\n",
       "        text-align: right;\n",
       "    }\n",
       "</style>\n",
       "<table border=\"1\" class=\"dataframe\">\n",
       "  <thead>\n",
       "    <tr style=\"text-align: right;\">\n",
       "      <th></th>\n",
       "      <th>results_bucket_path</th>\n",
       "      <th>dataset_fold_id</th>\n",
       "      <th>dataset_name</th>\n",
       "      <th>target_type</th>\n",
       "      <th>alg_name</th>\n",
       "      <th>hparam_source</th>\n",
       "      <th>trial_number</th>\n",
       "      <th>alg_hparam_id</th>\n",
       "      <th>exp_name</th>\n",
       "      <th>time__train</th>\n",
       "      <th>...</th>\n",
       "      <th>AUC__test</th>\n",
       "      <th>Accuracy__test</th>\n",
       "      <th>F1__test</th>\n",
       "      <th>time__train-eval</th>\n",
       "      <th>MSE__train</th>\n",
       "      <th>R2__train</th>\n",
       "      <th>MSE__val</th>\n",
       "      <th>R2__val</th>\n",
       "      <th>MSE__test</th>\n",
       "      <th>R2__test</th>\n",
       "    </tr>\n",
       "  </thead>\n",
       "  <tbody>\n",
       "    <tr>\n",
       "      <th>1</th>\n",
       "      <td>results/openml__Census-Income__168340/CatBoost...</td>\n",
       "      <td>openml__Census-Income__168340__fold_0</td>\n",
       "      <td>openml__Census-Income__168340</td>\n",
       "      <td>binary</td>\n",
       "      <td>CatBoost</td>\n",
       "      <td>default</td>\n",
       "      <td>0</td>\n",
       "      <td>CatBoost__seed_0__trial_0</td>\n",
       "      <td>algs-gpu-1-datasets-b-v3_111822_212109_1769.zip</td>\n",
       "      <td>11.414740</td>\n",
       "      <td>...</td>\n",
       "      <td>0.949313</td>\n",
       "      <td>0.955996</td>\n",
       "      <td>0.955996</td>\n",
       "      <td>3.611144</td>\n",
       "      <td>NaN</td>\n",
       "      <td>NaN</td>\n",
       "      <td>NaN</td>\n",
       "      <td>NaN</td>\n",
       "      <td>NaN</td>\n",
       "      <td>NaN</td>\n",
       "    </tr>\n",
       "    <tr>\n",
       "      <th>3</th>\n",
       "      <td>results/openml__Census-Income__168340/CatBoost...</td>\n",
       "      <td>openml__Census-Income__168340__fold_0</td>\n",
       "      <td>openml__Census-Income__168340</td>\n",
       "      <td>binary</td>\n",
       "      <td>CatBoost</td>\n",
       "      <td>random_1_s0</td>\n",
       "      <td>1</td>\n",
       "      <td>CatBoost__seed_0__trial_1</td>\n",
       "      <td>algs-gpu-1-datasets-b-v3_111822_212109_1769.zip</td>\n",
       "      <td>11.221740</td>\n",
       "      <td>...</td>\n",
       "      <td>0.953155</td>\n",
       "      <td>0.957199</td>\n",
       "      <td>0.957199</td>\n",
       "      <td>4.260885</td>\n",
       "      <td>NaN</td>\n",
       "      <td>NaN</td>\n",
       "      <td>NaN</td>\n",
       "      <td>NaN</td>\n",
       "      <td>NaN</td>\n",
       "      <td>NaN</td>\n",
       "    </tr>\n",
       "    <tr>\n",
       "      <th>4</th>\n",
       "      <td>results/openml__Census-Income__168340/CatBoost...</td>\n",
       "      <td>openml__Census-Income__168340__fold_0</td>\n",
       "      <td>openml__Census-Income__168340</td>\n",
       "      <td>binary</td>\n",
       "      <td>CatBoost</td>\n",
       "      <td>random_10_s0</td>\n",
       "      <td>10</td>\n",
       "      <td>CatBoost__seed_0__trial_10</td>\n",
       "      <td>algs-gpu-1-datasets-b-v3_111822_212109_1769.zip</td>\n",
       "      <td>9.951695</td>\n",
       "      <td>...</td>\n",
       "      <td>0.950009</td>\n",
       "      <td>0.955094</td>\n",
       "      <td>0.955094</td>\n",
       "      <td>3.627139</td>\n",
       "      <td>NaN</td>\n",
       "      <td>NaN</td>\n",
       "      <td>NaN</td>\n",
       "      <td>NaN</td>\n",
       "      <td>NaN</td>\n",
       "      <td>NaN</td>\n",
       "    </tr>\n",
       "    <tr>\n",
       "      <th>5</th>\n",
       "      <td>results/openml__Census-Income__168340/CatBoost...</td>\n",
       "      <td>openml__Census-Income__168340__fold_0</td>\n",
       "      <td>openml__Census-Income__168340</td>\n",
       "      <td>binary</td>\n",
       "      <td>CatBoost</td>\n",
       "      <td>random_11_s0</td>\n",
       "      <td>11</td>\n",
       "      <td>CatBoost__seed_0__trial_11</td>\n",
       "      <td>algs-gpu-1-datasets-b-v3_111822_212109_1769.zip</td>\n",
       "      <td>9.845292</td>\n",
       "      <td>...</td>\n",
       "      <td>0.943295</td>\n",
       "      <td>0.950516</td>\n",
       "      <td>0.950516</td>\n",
       "      <td>3.659389</td>\n",
       "      <td>NaN</td>\n",
       "      <td>NaN</td>\n",
       "      <td>NaN</td>\n",
       "      <td>NaN</td>\n",
       "      <td>NaN</td>\n",
       "      <td>NaN</td>\n",
       "    </tr>\n",
       "    <tr>\n",
       "      <th>6</th>\n",
       "      <td>results/openml__Census-Income__168340/CatBoost...</td>\n",
       "      <td>openml__Census-Income__168340__fold_0</td>\n",
       "      <td>openml__Census-Income__168340</td>\n",
       "      <td>binary</td>\n",
       "      <td>CatBoost</td>\n",
       "      <td>random_12_s0</td>\n",
       "      <td>12</td>\n",
       "      <td>CatBoost__seed_0__trial_12</td>\n",
       "      <td>algs-gpu-1-datasets-b-v3_111822_212109_1769.zip</td>\n",
       "      <td>12.327811</td>\n",
       "      <td>...</td>\n",
       "      <td>0.950776</td>\n",
       "      <td>0.956196</td>\n",
       "      <td>0.956196</td>\n",
       "      <td>3.606089</td>\n",
       "      <td>NaN</td>\n",
       "      <td>NaN</td>\n",
       "      <td>NaN</td>\n",
       "      <td>NaN</td>\n",
       "      <td>NaN</td>\n",
       "      <td>NaN</td>\n",
       "    </tr>\n",
       "  </tbody>\n",
       "</table>\n",
       "<p>5 rows × 31 columns</p>\n",
       "</div>"
      ],
      "text/plain": [
       "                                 results_bucket_path  \\\n",
       "1  results/openml__Census-Income__168340/CatBoost...   \n",
       "3  results/openml__Census-Income__168340/CatBoost...   \n",
       "4  results/openml__Census-Income__168340/CatBoost...   \n",
       "5  results/openml__Census-Income__168340/CatBoost...   \n",
       "6  results/openml__Census-Income__168340/CatBoost...   \n",
       "\n",
       "                         dataset_fold_id                   dataset_name  \\\n",
       "1  openml__Census-Income__168340__fold_0  openml__Census-Income__168340   \n",
       "3  openml__Census-Income__168340__fold_0  openml__Census-Income__168340   \n",
       "4  openml__Census-Income__168340__fold_0  openml__Census-Income__168340   \n",
       "5  openml__Census-Income__168340__fold_0  openml__Census-Income__168340   \n",
       "6  openml__Census-Income__168340__fold_0  openml__Census-Income__168340   \n",
       "\n",
       "  target_type  alg_name hparam_source  trial_number  \\\n",
       "1      binary  CatBoost       default             0   \n",
       "3      binary  CatBoost   random_1_s0             1   \n",
       "4      binary  CatBoost  random_10_s0            10   \n",
       "5      binary  CatBoost  random_11_s0            11   \n",
       "6      binary  CatBoost  random_12_s0            12   \n",
       "\n",
       "                alg_hparam_id  \\\n",
       "1   CatBoost__seed_0__trial_0   \n",
       "3   CatBoost__seed_0__trial_1   \n",
       "4  CatBoost__seed_0__trial_10   \n",
       "5  CatBoost__seed_0__trial_11   \n",
       "6  CatBoost__seed_0__trial_12   \n",
       "\n",
       "                                          exp_name  time__train  ...  \\\n",
       "1  algs-gpu-1-datasets-b-v3_111822_212109_1769.zip    11.414740  ...   \n",
       "3  algs-gpu-1-datasets-b-v3_111822_212109_1769.zip    11.221740  ...   \n",
       "4  algs-gpu-1-datasets-b-v3_111822_212109_1769.zip     9.951695  ...   \n",
       "5  algs-gpu-1-datasets-b-v3_111822_212109_1769.zip     9.845292  ...   \n",
       "6  algs-gpu-1-datasets-b-v3_111822_212109_1769.zip    12.327811  ...   \n",
       "\n",
       "   AUC__test  Accuracy__test  F1__test  time__train-eval  MSE__train  \\\n",
       "1   0.949313        0.955996  0.955996          3.611144         NaN   \n",
       "3   0.953155        0.957199  0.957199          4.260885         NaN   \n",
       "4   0.950009        0.955094  0.955094          3.627139         NaN   \n",
       "5   0.943295        0.950516  0.950516          3.659389         NaN   \n",
       "6   0.950776        0.956196  0.956196          3.606089         NaN   \n",
       "\n",
       "   R2__train  MSE__val  R2__val  MSE__test  R2__test  \n",
       "1        NaN       NaN      NaN        NaN       NaN  \n",
       "3        NaN       NaN      NaN        NaN       NaN  \n",
       "4        NaN       NaN      NaN        NaN       NaN  \n",
       "5        NaN       NaN      NaN        NaN       NaN  \n",
       "6        NaN       NaN      NaN        NaN       NaN  \n",
       "\n",
       "[5 rows x 31 columns]"
      ]
     },
     "execution_count": 6,
     "metadata": {},
     "output_type": "execute_result"
    }
   ],
   "source": [
    "df.head()"
   ]
  },
  {
   "cell_type": "code",
   "execution_count": 7,
   "metadata": {},
   "outputs": [
    {
     "data": {
      "text/plain": [
       "82"
      ]
     },
     "execution_count": 7,
     "metadata": {},
     "output_type": "execute_result"
    }
   ],
   "source": [
    "# how many unique datasets?\n",
    "len(df[\"dataset_name\"].unique())"
   ]
  },
  {
   "cell_type": "code",
   "execution_count": 9,
   "metadata": {},
   "outputs": [
    {
     "data": {
      "text/plain": [
       "openml__poker-hand__9890                      660\n",
       "openml__Census-Income__168340                 670\n",
       "openml__walking-activity__9945                700\n",
       "openml__aloi__12732                           730\n",
       "openml__ldpa__9974                            910\n",
       "                                             ... \n",
       "openml__profb__3561                          1500\n",
       "openml__pbc__4850                            1500\n",
       "openml__page-blocks__30                      1500\n",
       "openml__autos__9                             1500\n",
       "openml__LED-display-domain-7digit__125921    1500\n",
       "Name: dataset_name, Length: 82, dtype: int64"
      ]
     },
     "execution_count": 9,
     "metadata": {},
     "output_type": "execute_result"
    }
   ],
   "source": [
    "# how many rows for each dataset in these experiments?\n",
    "df[\"dataset_name\"].value_counts().sort_values()"
   ]
  },
  {
   "cell_type": "code",
   "execution_count": 10,
   "metadata": {},
   "outputs": [],
   "source": [
    "datasets_b_str =\"\"\"openml__acute-inflammations__10089\n",
    "  openml__ada_agnostic__3896\n",
    "  openml__aloi__12732\n",
    "  openml__analcatdata_boxing1__3540\n",
    "  openml__analcatdata_chlamydia__3739\n",
    "  openml__anneal__2867\n",
    "  openml__artificial-characters__14964\n",
    "  openml__audiology__7\n",
    "  openml__autos__9\n",
    "  openml__BNG\\(credit-a\\)__146047\n",
    "  openml__bodyfat__5514\n",
    "  openml__car-evaluation__146192\n",
    "  openml__cardiotocography__9979\n",
    "  openml__Census-Income__168340\n",
    "  openml__chess__3952\n",
    "  openml__chscase_foot__5012\n",
    "  openml__cjs__14967\n",
    "  openml__cleveland__2285\n",
    "  openml__Click_prediction_small__190408\n",
    "  openml__colic__25\n",
    "  openml__colic__27\n",
    "  openml__collins__3567\n",
    "  openml__cpu_small__4883\n",
    "  openml__dataset_sales__190418\n",
    "  openml__dermatology__35\n",
    "  openml__EgyptianSkulls__5040\n",
    "  openml__elevators__3711\n",
    "  openml__fertility__9984\n",
    "  openml__fl2000__3566\n",
    "  openml__fri_c0_100_5__3620\n",
    "  openml__fri_c3_100_5__3779\n",
    "  openml__gas-drift__9986\n",
    "  openml__gina_agnostic__3891\n",
    "  openml__glass__40\n",
    "  openml__hayes-roth__146063\n",
    "  openml__heart-c__48\n",
    "  openml__heart-h__50\n",
    "  openml__hepatitis__54\n",
    "  openml__hill-valley__145847\n",
    "  openml__ionosphere__145984\n",
    "  openml__iris__59\n",
    "  openml__irish__3543\n",
    "  openml__JapaneseVowels__3510\n",
    "  openml__kin8nm__2280\n",
    "  openml__kropt__2076\n",
    "  openml__labor__4\n",
    "  openml__ldpa__9974\n",
    "  openml__LED-display-domain-7digit__125921\n",
    "  openml__libras__360948\n",
    "  openml__liver-disorders__52948\n",
    "  openml__lung-cancer__146024\n",
    "  openml__lymph__10\n",
    "  openml__magic__146206\n",
    "  openml__MagicTelescope__3954\n",
    "  openml__meta__4729\n",
    "  openml__monks-problems-2__146065\n",
    "  openml__mushroom__24\n",
    "  openml__musk__3950\n",
    "  openml__nursery__9892\n",
    "  openml__one-hundred-plants-texture__9956\n",
    "  openml__page-blocks__30\n",
    "  openml__pbc__4850\n",
    "  openml__poker-hand__9890\n",
    "  openml__pollen__3735\n",
    "  openml__postoperative-patient-data__146210\n",
    "  openml__profb__3561\n",
    "  openml__rabe_266__3647\n",
    "  openml__Satellite__167211\n",
    "  openml__scene__3485\n",
    "  openml__socmob__3797\n",
    "  openml__solar-flare__2068\n",
    "  openml__sonar__39\n",
    "  openml__SpeedDating__146607\n",
    "  openml__sylva_agnostic__3889\n",
    "  openml__synthetic_control__3512\n",
    "  openml__tae__47\n",
    "  openml__transplant__3748\n",
    "  openml__visualizing_environmental__3602\n",
    "  openml__visualizing_livestock__3731\n",
    "  openml__walking-activity__9945\n",
    "  openml__Wine__190420\n",
    "  openml__Wisconsin-breast-cancer-cytology-features__361003\n",
    "  openml__yeast__145793\"\"\"\n",
    "\n",
    "datasets_b_list = [d.strip() for d in datasets_b_str.split(\"\\n\")]"
   ]
  },
  {
   "cell_type": "code",
   "execution_count": 11,
   "metadata": {},
   "outputs": [
    {
     "data": {
      "text/plain": [
       "83"
      ]
     },
     "execution_count": 11,
     "metadata": {},
     "output_type": "execute_result"
    }
   ],
   "source": [
    "len(datasets_b_list)"
   ]
  },
  {
   "cell_type": "code",
   "execution_count": 12,
   "metadata": {},
   "outputs": [
    {
     "data": {
      "text/plain": [
       "{'openml__BNG\\\\(credit-a\\\\)__146047'}"
      ]
     },
     "execution_count": 12,
     "metadata": {},
     "output_type": "execute_result"
    }
   ],
   "source": [
    "# get all datasets in datasets_b not in the results...\n",
    "\n",
    "set(datasets_b_list).difference(df[\"dataset_name\"].unique()) "
   ]
  },
  {
   "cell_type": "code",
   "execution_count": 43,
   "metadata": {},
   "outputs": [
    {
     "data": {
      "text/html": [
       "<div>\n",
       "<style scoped>\n",
       "    .dataframe tbody tr th:only-of-type {\n",
       "        vertical-align: middle;\n",
       "    }\n",
       "\n",
       "    .dataframe tbody tr th {\n",
       "        vertical-align: top;\n",
       "    }\n",
       "\n",
       "    .dataframe thead th {\n",
       "        text-align: right;\n",
       "    }\n",
       "</style>\n",
       "<table border=\"1\" class=\"dataframe\">\n",
       "  <thead>\n",
       "    <tr style=\"text-align: right;\">\n",
       "      <th></th>\n",
       "      <th>results_bucket_path</th>\n",
       "      <th>dataset_fold_id</th>\n",
       "      <th>dataset_name</th>\n",
       "      <th>target_type</th>\n",
       "      <th>alg_name</th>\n",
       "      <th>hparam_source</th>\n",
       "      <th>trial_number</th>\n",
       "      <th>alg_hparam_id</th>\n",
       "      <th>exp_name</th>\n",
       "      <th>time__train</th>\n",
       "      <th>...</th>\n",
       "      <th>AUC__test</th>\n",
       "      <th>Accuracy__test</th>\n",
       "      <th>F1__test</th>\n",
       "      <th>time__train-eval</th>\n",
       "      <th>MSE__train</th>\n",
       "      <th>R2__train</th>\n",
       "      <th>MSE__val</th>\n",
       "      <th>R2__val</th>\n",
       "      <th>MSE__test</th>\n",
       "      <th>R2__test</th>\n",
       "    </tr>\n",
       "  </thead>\n",
       "  <tbody>\n",
       "  </tbody>\n",
       "</table>\n",
       "<p>0 rows × 31 columns</p>\n",
       "</div>"
      ],
      "text/plain": [
       "Empty DataFrame\n",
       "Columns: [results_bucket_path, dataset_fold_id, dataset_name, target_type, alg_name, hparam_source, trial_number, alg_hparam_id, exp_name, time__train, Log Loss__train, AUC__train, Accuracy__train, F1__train, time__val, Log Loss__val, AUC__val, Accuracy__val, F1__val, time__test, Log Loss__test, AUC__test, Accuracy__test, F1__test, time__train-eval, MSE__train, R2__train, MSE__val, R2__val, MSE__test, R2__test]\n",
       "Index: []\n",
       "\n",
       "[0 rows x 31 columns]"
      ]
     },
     "execution_count": 43,
     "metadata": {},
     "output_type": "execute_result"
    }
   ],
   "source": [
    "# check each...\n",
    "# df_exp[df_exp[\"dataset_name\"].str.contains(\"credit-a\")]  # no results...\n",
    "# df_exp[df_exp[\"dataset_name\"].str.contains(\"Census\")]  # no results...\n",
    "# df_exp[df_exp[\"dataset_name\"].str.contains(\"hundred\")]  # no results...\n",
    "# df_exp[df_exp[\"dataset_name\"].str.contains(\"poker\")]  # no results...\n",
    "# df_exp[df_exp[\"dataset_name\"].str.contains(\"walking\")]  # no results...\n"
   ]
  },
  {
   "cell_type": "markdown",
   "metadata": {},
   "source": [
    "## Alg counts"
   ]
  },
  {
   "cell_type": "code",
   "execution_count": 13,
   "metadata": {},
   "outputs": [
    {
     "data": {
      "text/plain": [
       "TabNet      20590\n",
       "VIME        22340\n",
       "CatBoost    22500\n",
       "MLP         23690\n",
       "XGBoost     24600\n",
       "Name: alg_name, dtype: int64"
      ]
     },
     "execution_count": 13,
     "metadata": {},
     "output_type": "execute_result"
    }
   ],
   "source": [
    "df[\"alg_name\"].value_counts().sort_values()"
   ]
  },
  {
   "cell_type": "markdown",
   "metadata": {},
   "source": []
  }
 ],
 "metadata": {
  "kernelspec": {
   "display_name": "Python 3.8.2 64-bit",
   "language": "python",
   "name": "python3"
  },
  "language_info": {
   "codemirror_mode": {
    "name": "ipython",
    "version": 3
   },
   "file_extension": ".py",
   "mimetype": "text/x-python",
   "name": "python",
   "nbconvert_exporter": "python",
   "pygments_lexer": "ipython3",
   "version": "3.7.12"
  },
  "orig_nbformat": 4,
  "vscode": {
   "interpreter": {
    "hash": "31f2aee4e71d21fbe5cf8b01ff0e069b9275f58929596ceb00d14d90e3e16cd6"
   }
  }
 },
 "nbformat": 4,
 "nbformat_minor": 2
}
